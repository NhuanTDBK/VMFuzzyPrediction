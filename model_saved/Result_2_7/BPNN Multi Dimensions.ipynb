{
 "metadata": {
  "name": ""
 },
 "nbformat": 3,
 "nbformat_minor": 0,
 "worksheets": [
  {
   "cells": [
    {
     "cell_type": "code",
     "collapsed": false,
     "input": [
      "import pandas as pd\n",
      "import numpy as np\n",
      "from sklearn.preprocessing import MinMaxScaler\n",
      "import math\n",
      "from estimators.NeuralFlow import *\n",
      "from utils.SlidingWindowUtil import SlidingWindow\n",
      "\n",
      "from sklearn import datasets, metrics\n",
      "from sklearn.metrics import mean_absolute_error, mean_squared_error\n",
      "from utils.GraphUtil import *\n",
      "from estimators.GAEstimator import GAEstimator\n",
      "from io_utils.NumLoad import *\n",
      "from estimators.OptimizerNNEstimator import OptimizerNNEstimator\n",
      "from scaling.ProactiveSLA import ProactiveSLA\n",
      "from io_utils.GFeeder import GFeeder"
     ],
     "language": "python",
     "metadata": {},
     "outputs": [
      {
       "output_type": "stream",
       "stream": "stderr",
       "text": [
        "/usr/local/lib/python2.7/dist-packages/theano/tensor/signal/downsample.py:6: UserWarning: downsample module has been moved to the theano.tensor.signal.pool module.\n",
        "  \"downsample module has been moved to the theano.tensor.signal.pool module.\")\n"
       ]
      }
     ],
     "prompt_number": 1
    },
    {
     "cell_type": "code",
     "collapsed": false,
     "input": [
      "scaler = MinMaxScaler()\n",
      "dat = pd.read_csv('sampling_617685_metric_10min_datetime.csv',parse_dates=True,index_col=0)[:3000]\n",
      "# dat = pd.Series(dat['cpu_rate'].round(3))\n",
      "# distance = round(dat.max() / (dat.max() / 0.25 + 4), 4)\n",
      "# print distance\n",
      "gFeeder = GFeeder()\n",
      "X_train, y_train, X_test, y_test = gFeeder.split_train_and_test(dat, metrics=['cpu_rate','mem_usage'], n_sliding_window=3)"
     ],
     "language": "python",
     "metadata": {},
     "outputs": [],
     "prompt_number": 2
    },
    {
     "cell_type": "heading",
     "level": 1,
     "metadata": {},
     "source": [
      "BPNN"
     ]
    },
    {
     "cell_type": "code",
     "collapsed": false,
     "input": [
      "classifier = NeuralFlowRegressor(hidden_nodes=[10],steps=7000,learning_rate=1E-03)\n",
      "a = classifier.fit(X_train, y_train)\n",
      "ypred = classifier.predict(X_test)\n",
      "y_cpu = ypred[:,0]\n",
      "y_ram = ypred[:,1]\n",
      "print mean_absolute_error(y_cpu, y_test[:,0])\n",
      "print mean_absolute_error(y_ram, y_test[:,1])"
     ],
     "language": "python",
     "metadata": {},
     "outputs": [
      {
       "output_type": "stream",
       "stream": "stdout",
       "text": [
        "1.05072564117\n",
        "0.117167968157\n"
       ]
      }
     ],
     "prompt_number": 24
    },
    {
     "cell_type": "code",
     "collapsed": false,
     "input": [
      "np.savez('fuzzy_GABPNN_%s_%s'%(sliding_number,score),y_pred=ypred_defuzzy,y_true=y_actual_test)"
     ],
     "language": "python",
     "metadata": {},
     "outputs": []
    },
    {
     "cell_type": "code",
     "collapsed": false,
     "input": [
      "scaler = ProactiveSLA(sla=1.5, past_consecutive_values=3)\n",
      "predict_allocated = scaler.allocate_VMs(np.array(y_test[:,0]), y_cpu)\n",
      "actual_allocated = np.array([scaler.allocate_VM(item) for item in np.array(y_test[:,0])])\n",
      "delta = actual_allocated - predict_allocated\n",
      "print float(len(delta[delta>0])) / len(predict_allocated) *100\n",
      "%matplotlib\n",
      "ax = plt.subplot()\n",
      "ax.plot(predict_allocated[100:300],'--',label='Predict Allocated')\n",
      "ax.plot(actual_allocated[100:300],label='Actual Allocated')\n",
      "ax.set_xlabel('Time')\n",
      "ax.set_ylabel('Number of VMs')\n",
      "ax.set_title(\"High Order (sliding window 3) Fuzzy by CPU metric\")\n",
      "# ax.plot(trainee_holder['cpu_rate']['y_test'],label='Resource Used')\n",
      "plt.legend()"
     ],
     "language": "python",
     "metadata": {},
     "outputs": [
      {
       "output_type": "stream",
       "stream": "stdout",
       "text": [
        "13.154960981\n",
        "Using matplotlib backend: Qt4Agg\n"
       ]
      },
      {
       "metadata": {},
       "output_type": "pyout",
       "prompt_number": 27,
       "text": [
        "<matplotlib.legend.Legend at 0x7ffa36381b90>"
       ]
      }
     ],
     "prompt_number": 27
    },
    {
     "cell_type": "heading",
     "level": 1,
     "metadata": {},
     "source": [
      "GABPNN"
     ]
    },
    {
     "cell_type": "code",
     "collapsed": false,
     "input": [
      "n_hidden = 10\n",
      "fit_params = {\n",
      "    'neural_shape':[len(X_train[0]),n_hidden,2]\n",
      "}\n",
      "ga_estimator = GAEstimator(cross_rate=0.5, mutation_rate=0.06, gen_size=100, pop_size=30)\n",
      "nn = NeuralFlowRegressor(hidden_nodes=[n_hidden],optimize='Adam'\n",
      "                                 ,steps=7000,learning_rate=1E-02)\n",
      "classifier = OptimizerNNEstimator(ga_estimator, nn)\n",
      "a = classifier.fit(X_train, y_train, **fit_params)\n",
      "ypred = classifier.predict(X_test)\n",
      "y_cpu = ypred[:,0]\n",
      "y_ram = ypred[:,1]\n",
      "print mean_absolute_error(y_cpu, y_test[:,0])\n",
      "print mean_absolute_error(y_ram, y_test[:,1])"
     ],
     "language": "python",
     "metadata": {},
     "outputs": [
      {
       "output_type": "stream",
       "stream": "stdout",
       "text": [
        "Initialization\n",
        "Initilization\n",
        "Gen. 0 (0.00%):"
       ]
      },
      {
       "output_type": "stream",
       "stream": "stdout",
       "text": [
        " Max/Min/Avg Fitness(Raw) [2.38(3.49)/1.70(0.92)/1.98(1.98)]\n",
        "Gen. 10 (33.33%):"
       ]
      },
      {
       "output_type": "stream",
       "stream": "stdout",
       "text": [
        " Max/Min/Avg Fitness(Raw) [4.07(7.56)/3.10(1.62)/3.39(3.39)]\n",
        "Gen. 20 (66.67%):"
       ]
      },
      {
       "output_type": "stream",
       "stream": "stdout",
       "text": [
        " Max/Min/Avg Fitness(Raw) [7.03(10.55)/5.14(2.97)/5.86(5.86)]\n",
        "Gen. 30 (100.00%):"
       ]
      },
      {
       "output_type": "stream",
       "stream": "stdout",
       "text": [
        " Max/Min/Avg Fitness(Raw) [8.95(13.59)/6.29(2.65)/7.46(7.46)]\n",
        "Total time elapsed: 0.904 seconds.\n",
        "Step #100, epoch #4, avg. train loss: 35.59483"
       ]
      },
      {
       "output_type": "stream",
       "stream": "stdout",
       "text": [
        "\n",
        "Step #200, epoch #9, avg. train loss: 0.05106"
       ]
      },
      {
       "output_type": "stream",
       "stream": "stdout",
       "text": [
        "\n",
        "Step #300, epoch #14, avg. train loss: 0.02000"
       ]
      },
      {
       "output_type": "stream",
       "stream": "stdout",
       "text": [
        "\n",
        "Step #400, epoch #19, avg. train loss: 0.01095"
       ]
      },
      {
       "output_type": "stream",
       "stream": "stdout",
       "text": [
        "\n",
        "Step #500, epoch #23, avg. train loss: 0.00789"
       ]
      },
      {
       "output_type": "stream",
       "stream": "stdout",
       "text": [
        "\n",
        "Step #600, epoch #28, avg. train loss: 0.00570"
       ]
      },
      {
       "output_type": "stream",
       "stream": "stdout",
       "text": [
        "\n",
        "Step #700, epoch #33, avg. train loss: 0.00436"
       ]
      },
      {
       "output_type": "stream",
       "stream": "stdout",
       "text": [
        "\n",
        "Step #800, epoch #38, avg. train loss: 0.00361"
       ]
      },
      {
       "output_type": "stream",
       "stream": "stdout",
       "text": [
        "\n",
        "Step #900, epoch #42, avg. train loss: 0.00287"
       ]
      },
      {
       "output_type": "stream",
       "stream": "stdout",
       "text": [
        "\n",
        "Step #1000, epoch #47, avg. train loss: 0.00230"
       ]
      },
      {
       "output_type": "stream",
       "stream": "stdout",
       "text": [
        "\n",
        "Step #1100, epoch #52, avg. train loss: 0.00208"
       ]
      },
      {
       "output_type": "stream",
       "stream": "stdout",
       "text": [
        "\n",
        "Step #1200, epoch #57, avg. train loss: 0.00162"
       ]
      },
      {
       "output_type": "stream",
       "stream": "stdout",
       "text": [
        "\n",
        "Step #1300, epoch #61, avg. train loss: 0.00126"
       ]
      },
      {
       "output_type": "stream",
       "stream": "stdout",
       "text": [
        "\n",
        "Step #1400, epoch #66, avg. train loss: 0.00106"
       ]
      },
      {
       "output_type": "stream",
       "stream": "stdout",
       "text": [
        "\n",
        "Step #1500, epoch #71, avg. train loss: 0.00096"
       ]
      },
      {
       "output_type": "stream",
       "stream": "stdout",
       "text": [
        "\n",
        "Step #1600, epoch #76, avg. train loss: 0.00088"
       ]
      },
      {
       "output_type": "stream",
       "stream": "stdout",
       "text": [
        "\n",
        "Step #1700, epoch #80, avg. train loss: 0.00080"
       ]
      },
      {
       "output_type": "stream",
       "stream": "stdout",
       "text": [
        "\n",
        "Step #1800, epoch #85, avg. train loss: 0.00062"
       ]
      },
      {
       "output_type": "stream",
       "stream": "stdout",
       "text": [
        "\n",
        "Step #1900, epoch #90, avg. train loss: 0.00056"
       ]
      },
      {
       "output_type": "stream",
       "stream": "stdout",
       "text": [
        "\n",
        "Step #2000, epoch #95, avg. train loss: 0.00047"
       ]
      },
      {
       "output_type": "stream",
       "stream": "stdout",
       "text": [
        "\n",
        "Step #2100, epoch #100, avg. train loss: 0.00054"
       ]
      },
      {
       "output_type": "stream",
       "stream": "stdout",
       "text": [
        "\n",
        "Step #2200, epoch #104, avg. train loss: 0.00042"
       ]
      },
      {
       "output_type": "stream",
       "stream": "stdout",
       "text": [
        "\n",
        "Step #2300, epoch #109, avg. train loss: 0.00043"
       ]
      },
      {
       "output_type": "stream",
       "stream": "stdout",
       "text": [
        "\n",
        "Step #2400, epoch #114, avg. train loss: 0.00044"
       ]
      },
      {
       "output_type": "stream",
       "stream": "stdout",
       "text": [
        "\n",
        "Step #2500, epoch #119, avg. train loss: 0.00078"
       ]
      },
      {
       "output_type": "stream",
       "stream": "stdout",
       "text": [
        "\n",
        "Step #2600, epoch #123, avg. train loss: 0.00031"
       ]
      },
      {
       "output_type": "stream",
       "stream": "stdout",
       "text": [
        "\n",
        "Step #2700, epoch #128, avg. train loss: 0.00034"
       ]
      },
      {
       "output_type": "stream",
       "stream": "stdout",
       "text": [
        "\n",
        "Step #2800, epoch #133, avg. train loss: 0.00033"
       ]
      },
      {
       "output_type": "stream",
       "stream": "stdout",
       "text": [
        "\n",
        "Step #2900, epoch #138, avg. train loss: 0.00031"
       ]
      },
      {
       "output_type": "stream",
       "stream": "stdout",
       "text": [
        "\n",
        "Step #3000, epoch #142, avg. train loss: 0.00030"
       ]
      },
      {
       "output_type": "stream",
       "stream": "stdout",
       "text": [
        "\n",
        "Step #3100, epoch #147, avg. train loss: 0.00026"
       ]
      },
      {
       "output_type": "stream",
       "stream": "stdout",
       "text": [
        "\n",
        "Step #3200, epoch #152, avg. train loss: 0.00045"
       ]
      },
      {
       "output_type": "stream",
       "stream": "stdout",
       "text": [
        "\n",
        "Step #3300, epoch #157, avg. train loss: 0.00037"
       ]
      },
      {
       "output_type": "stream",
       "stream": "stdout",
       "text": [
        "\n",
        "Step #3400, epoch #161, avg. train loss: 0.00051"
       ]
      },
      {
       "output_type": "stream",
       "stream": "stdout",
       "text": [
        "\n",
        "Step #3500, epoch #166, avg. train loss: 0.00050"
       ]
      },
      {
       "output_type": "stream",
       "stream": "stdout",
       "text": [
        "\n",
        "Step #3600, epoch #171, avg. train loss: 0.00011"
       ]
      },
      {
       "output_type": "stream",
       "stream": "stdout",
       "text": [
        "\n",
        "Step #3700, epoch #176, avg. train loss: 0.00007"
       ]
      },
      {
       "output_type": "stream",
       "stream": "stdout",
       "text": [
        "\n",
        "Step #3800, epoch #180, avg. train loss: 0.00106"
       ]
      },
      {
       "output_type": "stream",
       "stream": "stdout",
       "text": [
        "\n",
        "Step #3900, epoch #185, avg. train loss: 0.00091"
       ]
      },
      {
       "output_type": "stream",
       "stream": "stdout",
       "text": [
        "\n",
        "Step #4000, epoch #190, avg. train loss: 0.00021"
       ]
      },
      {
       "output_type": "stream",
       "stream": "stdout",
       "text": [
        "\n",
        "Step #4100, epoch #195, avg. train loss: 0.00007"
       ]
      },
      {
       "output_type": "stream",
       "stream": "stdout",
       "text": [
        "\n",
        "Step #4200, epoch #200, avg. train loss: 0.00032"
       ]
      },
      {
       "output_type": "stream",
       "stream": "stdout",
       "text": [
        "\n",
        "Step #4300, epoch #204, avg. train loss: 0.00026"
       ]
      },
      {
       "output_type": "stream",
       "stream": "stdout",
       "text": [
        "\n",
        "Step #4400, epoch #209, avg. train loss: 0.00006"
       ]
      },
      {
       "output_type": "stream",
       "stream": "stdout",
       "text": [
        "\n",
        "Step #4500, epoch #214, avg. train loss: 0.00005"
       ]
      },
      {
       "output_type": "stream",
       "stream": "stdout",
       "text": [
        "\n",
        "Step #4600, epoch #219, avg. train loss: 0.00004"
       ]
      },
      {
       "output_type": "stream",
       "stream": "stdout",
       "text": [
        "\n",
        "Step #4700, epoch #223, avg. train loss: 0.00003"
       ]
      },
      {
       "output_type": "stream",
       "stream": "stdout",
       "text": [
        "\n",
        "Step #4800, epoch #228, avg. train loss: 0.00001"
       ]
      },
      {
       "output_type": "stream",
       "stream": "stdout",
       "text": [
        "\n",
        "Step #4900, epoch #233, avg. train loss: 0.00002"
       ]
      },
      {
       "output_type": "stream",
       "stream": "stdout",
       "text": [
        "\n",
        "Step #5000, epoch #238, avg. train loss: 0.00046"
       ]
      },
      {
       "output_type": "stream",
       "stream": "stdout",
       "text": [
        "\n",
        "Step #5100, epoch #242, avg. train loss: 0.00210"
       ]
      },
      {
       "output_type": "stream",
       "stream": "stdout",
       "text": [
        "\n",
        "Step #5200, epoch #247, avg. train loss: 0.00025"
       ]
      },
      {
       "output_type": "stream",
       "stream": "stdout",
       "text": [
        "\n",
        "Step #5300, epoch #252, avg. train loss: 0.00002"
       ]
      },
      {
       "output_type": "stream",
       "stream": "stdout",
       "text": [
        "\n",
        "Step #5400, epoch #257, avg. train loss: 0.00003"
       ]
      },
      {
       "output_type": "stream",
       "stream": "stdout",
       "text": [
        "\n",
        "Step #5500, epoch #261, avg. train loss: 0.00004"
       ]
      },
      {
       "output_type": "stream",
       "stream": "stdout",
       "text": [
        "\n",
        "Step #5600, epoch #266, avg. train loss: 0.00003"
       ]
      },
      {
       "output_type": "stream",
       "stream": "stdout",
       "text": [
        "\n",
        "Step #5700, epoch #271, avg. train loss: 0.00013"
       ]
      },
      {
       "output_type": "stream",
       "stream": "stdout",
       "text": [
        "\n",
        "Step #5800, epoch #276, avg. train loss: 0.00058"
       ]
      },
      {
       "output_type": "stream",
       "stream": "stdout",
       "text": [
        "\n",
        "Step #5900, epoch #280, avg. train loss: 0.00007"
       ]
      },
      {
       "output_type": "stream",
       "stream": "stdout",
       "text": [
        "\n",
        "Step #6000, epoch #285, avg. train loss: 0.00001"
       ]
      },
      {
       "output_type": "stream",
       "stream": "stdout",
       "text": [
        "\n",
        "Step #6100, epoch #290, avg. train loss: 0.00019"
       ]
      },
      {
       "output_type": "stream",
       "stream": "stdout",
       "text": [
        "\n",
        "Step #6200, epoch #295, avg. train loss: 0.00197"
       ]
      },
      {
       "output_type": "stream",
       "stream": "stdout",
       "text": [
        "\n",
        "Step #6300, epoch #300, avg. train loss: 0.01595"
       ]
      },
      {
       "output_type": "stream",
       "stream": "stdout",
       "text": [
        "\n",
        "Step #6400, epoch #304, avg. train loss: 0.00123"
       ]
      },
      {
       "output_type": "stream",
       "stream": "stdout",
       "text": [
        "\n",
        "Step #6500, epoch #309, avg. train loss: 0.00011"
       ]
      },
      {
       "output_type": "stream",
       "stream": "stdout",
       "text": [
        "\n",
        "Step #6600, epoch #314, avg. train loss: 0.00013"
       ]
      },
      {
       "output_type": "stream",
       "stream": "stdout",
       "text": [
        "\n",
        "Step #6700, epoch #319, avg. train loss: 0.00005"
       ]
      },
      {
       "output_type": "stream",
       "stream": "stdout",
       "text": [
        "\n",
        "Step #6800, epoch #323, avg. train loss: 0.00002"
       ]
      },
      {
       "output_type": "stream",
       "stream": "stdout",
       "text": [
        "\n",
        "Step #6900, epoch #328, avg. train loss: 0.00001"
       ]
      },
      {
       "output_type": "stream",
       "stream": "stdout",
       "text": [
        "\n",
        "Step #7000, epoch #333, avg. train loss: 0.00001"
       ]
      },
      {
       "output_type": "stream",
       "stream": "stdout",
       "text": [
        "\n",
        "1.05405659971\n",
        "0.0872844910754\n"
       ]
      }
     ],
     "prompt_number": 36
    },
    {
     "cell_type": "code",
     "collapsed": false,
     "input": [
      "scaler = ProactiveSLA(sla=1.5, past_consecutive_values=3)\n",
      "predict_allocated = scaler.allocate_VMs(np.array(y_test[:,0]), y_cpu)\n",
      "actual_allocated = np.array([scaler.allocate_VM(item) for item in np.array(y_test[:,0])])\n",
      "delta = actual_allocated - predict_allocated\n",
      "print float(len(delta[delta>0])) / len(predict_allocated) *100\n",
      "%matplotlib\n",
      "ax = plt.subplot()\n",
      "ax.plot(predict_allocated[100:300],'--',label='Predict Allocated')\n",
      "ax.plot(actual_allocated[100:300],label='Actual Allocated')\n",
      "ax.set_xlabel('Time')\n",
      "ax.set_ylabel('Number of VMs')\n",
      "ax.set_title(\"High Order (sliding window 3) Fuzzy by CPU metric\")\n",
      "# ax.plot(trainee_holder['cpu_rate']['y_test'],label='Resource Used')\n",
      "plt.legend()"
     ],
     "language": "python",
     "metadata": {},
     "outputs": [
      {
       "output_type": "stream",
       "stream": "stdout",
       "text": [
        "13.2664437012\n",
        "Using matplotlib backend: Qt4Agg\n"
       ]
      },
      {
       "metadata": {},
       "output_type": "pyout",
       "prompt_number": 37,
       "text": [
        "<matplotlib.legend.Legend at 0x7ffa34571bd0>"
       ]
      }
     ],
     "prompt_number": 37
    },
    {
     "cell_type": "code",
     "collapsed": false,
     "input": [],
     "language": "python",
     "metadata": {},
     "outputs": []
    }
   ],
   "metadata": {}
  }
 ]
}