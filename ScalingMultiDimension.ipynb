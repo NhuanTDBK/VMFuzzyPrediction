{
 "metadata": {
  "name": ""
 },
 "nbformat": 3,
 "nbformat_minor": 0,
 "worksheets": [
  {
   "cells": [
    {
     "cell_type": "code",
     "collapsed": false,
     "input": [
      "from scaling.ProactiveSLA import ProactiveSLA\n",
      "from utils.load_result import *\n",
      "from utils.GraphUtil import *\n",
      "import matplotlib.pyplot as plt\n",
      "import numpy as np\n",
      "from scaling.ProactiveManager import ProactiveManager\n",
      "from scaling.OnDemandManager import OnDemandManager\n",
      "import pandas as pd\n",
      "from metrics.AutoScalingIndex import ADI\n",
      "import seaborn as sb"
     ],
     "language": "python",
     "metadata": {},
     "outputs": [],
     "prompt_number": 60
    },
    {
     "cell_type": "code",
     "collapsed": false,
     "input": [
      "resource_real_used = pd.read_csv('vms_real_used_by_CPU_RAM.csv',names=['VM_Used'])['VM_Used']\n",
      "def sla_violate(file_name,broker):\n",
      "    try:\n",
      "        ypred, ytrue = load_file(file_name)\n",
      "        \n",
      "        cpu_pred, cpu_test = np.maximum(ypred[:,0],0), ytrue[:,0]\n",
      "        ram_pred, ram_test = np.maximum(ypred[:,1],0), ytrue[:,1]\n",
      "        \n",
      "        resource_used = np.array(zip(*(cpu_test,ram_test)))\n",
      "        resource_predict = np.array(zip(*(cpu_pred,ram_pred)))\n",
      "        \n",
      "        number_of_VMs = np.array(broker.allocate_VMs(resource_used=resource_used,resource_predicted=resource_predict))\n",
      "        number_of_VMs += 1\n",
      "        cpu_pred_VMs = number_of_VMs * broker.capacity_VM[0]\n",
      "        ram_pred_VMs = number_of_VMs * broker.capacity_VM[1]\n",
      "        cpu_VMS = broker.manager[0].basic_allocate_VMs(cpu_test)\n",
      "        ram_VMS = broker.manager[1].basic_allocate_VMs(ram_test)\n",
      "        \n",
      "        c = np.array((cpu_test>=cpu_pred_VMs))\n",
      "        d = np.array((ram_test>=ram_pred_VMs))\n",
      "        e = np.array([(x or y) for x,y in zip(c,d)])\n",
      "        return float(len(e[e==True])) * 100/ len(e),(cpu_VMS, ram_VMS, number_of_VMs)\n",
      "    except Exception as e:\n",
      "        print file_name\n",
      "   \n",
      "#     number_of_points = len(number_of_VMs)\n",
      "#     diff = resource_real_used.shape[0] - number_of_VMs.shape[0]\n",
      "#     delta = number_of_VMs - resource_real_used[diff]\n",
      "#     violate_count = len(delta[delta>=0])\n",
      "#     return float(violate_count) / number_of_points,number_of_VMs"
     ],
     "language": "python",
     "metadata": {},
     "outputs": [],
     "prompt_number": 27
    },
    {
     "cell_type": "code",
     "collapsed": false,
     "input": [
      "broker = ProactiveManager(sla=1, past_consecutive_values=1)\n",
      "bpnnm = sla_violate('model_saved/BPNNM_3_1.05107994991.npz',broker)\n",
      "print bpnnm[0]\n",
      "gabpnnm = sla_violate('model_saved/GABPNNM_5_1.05844921083.npz',broker)\n",
      "print gabpnnm[0]\n",
      "fbpnnm = sla_violate('model_saved/Fuzzy_BPNNM_2_0.902007953281.npz',broker)\n",
      "print fbpnnm[0]\n",
      "fgabpnnm = sla_violate('model_saved/FGABPNNM_2_0.881904949944.npz',broker)\n",
      "print fgabpnnm[0]"
     ],
     "language": "python",
     "metadata": {},
     "outputs": [
      {
       "output_type": "stream",
       "stream": "stdout",
       "text": [
        "11.3712374582\n",
        "7.15083798883\n",
        "0.222469410456\n",
        "0.444938820912"
       ]
      },
      {
       "output_type": "stream",
       "stream": "stdout",
       "text": [
        "\n"
       ]
      }
     ],
     "prompt_number": 71
    },
    {
     "cell_type": "code",
     "collapsed": false,
     "input": [
      "from glob import glob\n",
      "broker = ProactiveManager(sla=4, past_consecutive_values=10)\n",
      "methods = ['BPNNM_*','GABPNNM_*','Fuzzy_BPNNM_*','FGABPNNM_*']\n",
      "for method in methods:\n",
      "    files = glob('model_saved/%s'%method)\n",
      "    result = [sla_violate(file_name,broker)[0] for file_name in files]\n",
      "    print np.average(result)"
     ],
     "language": "python",
     "metadata": {},
     "outputs": [
      {
       "output_type": "stream",
       "stream": "stdout",
       "text": [
        "0.470750060981\n",
        "0.476264451759"
       ]
      },
      {
       "output_type": "stream",
       "stream": "stdout",
       "text": [
        "\n",
        "0.13088305791"
       ]
      },
      {
       "output_type": "stream",
       "stream": "stdout",
       "text": [
        "\n",
        "0.0835707043858"
       ]
      },
      {
       "output_type": "stream",
       "stream": "stdout",
       "text": [
        "\n"
       ]
      }
     ],
     "prompt_number": 43
    },
    {
     "cell_type": "code",
     "collapsed": false,
     "input": [
      "range_plot = (100,200)\n",
      "real_used = resource_real_used[range_plot[0]:range_plot[-1]].tolist()\n",
      "%matplotlib\n",
      "ax = plt.subplot()\n",
      "ax.set_xlabel('Time')\n",
      "ax.set_ylabel('Number of VMs')\n",
      "ax.set_title('Scaling VMs by Multi Dimension')\n",
      "bpnn_s = bpnnm[1][-1][range_plot[0]:range_plot[-1]]\n",
      "gabpnn_s = gabpnnm[1][-1][range_plot[0]:range_plot[-1]]\n",
      "fbpnn_s = fbpnnm[1][-1][range_plot[0]:range_plot[-1]]\n",
      "fgabpnn_s = fgabpnnm[1][-1][range_plot[0]:range_plot[-1]]\n",
      "ax.set_color_cycle(['black','cyan','green','blue','red'])\n",
      "width = 1.2\n",
      "ax.plot(real_used,label='Real Usage',linewidth=width)\n",
      "ax.plot(bpnn_s,'--',label='BPNN Multi',linewidth=width)\n",
      "ax.plot(gabpnn_s,'--',label='GABPNN Multi',linewidth=width)\n",
      "ax.plot(fbpnn_s,'--',label='Fuzzy BPNN Multi',linewidth=width)\n",
      "ax.plot(fgabpnn_s,'--',label='Fuzzy GABPNN Multi',linewidth=width)\n",
      "ax.legend(loc='upper left')\n",
      "plt.tight_layout()\n",
      "plt.grid(False)"
     ],
     "language": "python",
     "metadata": {},
     "outputs": [
      {
       "output_type": "stream",
       "stream": "stdout",
       "text": [
        "Using matplotlib backend: Qt4Agg\n"
       ]
      }
     ],
     "prompt_number": 69
    },
    {
     "cell_type": "heading",
     "level": 1,
     "metadata": {},
     "source": [
      "ADI Metric"
     ]
    },
    {
     "cell_type": "code",
     "collapsed": false,
     "input": [
      "resource_real_used = pd.read_csv('vms_real_used_by_CPU_RAM.csv',names=['VM_Used'])['VM_Used']\n",
      "eval_scaler = ADI(metric='CPU Utilisation %')\n",
      "time_util = np.array(eval_scaler.calculate_ADI(resource_used=resource_real_used, resource_allocated=bpnnm[1][-1]))\n",
      "print \"ADI BPNNM: %s\"%sum(time_util)\n",
      "\n",
      "\n",
      "eval_scaler = ADI(metric='CPU Utilisation %')\n",
      "time_util = np.array(eval_scaler.calculate_ADI(resource_used=resource_real_used, resource_allocated=gabpnnm[1][-1]))\n",
      "print \"ADI GABPNM: %s\"%sum(time_util)\n",
      "\n",
      "eval_scaler = ADI(metric='CPU Utilisation %')\n",
      "time_util = np.array(eval_scaler.calculate_ADI(resource_used=resource_real_used, resource_allocated=fbpnnm[1][-1]))\n",
      "print \"ADI FBPNM: %s\"%sum(time_util)\n",
      "\n",
      "# fgabpnnm = sla_violate('model_saved/FGABPNNM_3_0.759630623608.npz',broker)\n",
      "eval_scaler = ADI(metric='CPU Utilisation %')\n",
      "time_util = np.array(eval_scaler.calculate_ADI(resource_used=resource_real_used, resource_allocated=fgabpnnm[1][-1]))\n",
      "print \"ADI FGABPNM: %s\"%sum(time_util)"
     ],
     "language": "python",
     "metadata": {},
     "outputs": [
      {
       "output_type": "stream",
       "stream": "stdout",
       "text": [
        "ADI BPNNM: 179.732659646\n",
        "ADI GABPNM: 125.235161038\n",
        "ADI FBPNM: 89.262935401\n",
        "ADI FGABPNM: 95.2141772041\n"
       ]
      }
     ],
     "prompt_number": 46
    }
   ],
   "metadata": {}
  }
 ]
}