{
 "metadata": {
  "name": ""
 },
 "nbformat": 3,
 "nbformat_minor": 0,
 "worksheets": [
  {
   "cells": [
    {
     "cell_type": "code",
     "collapsed": false,
     "input": [
      "from scaling.ProactiveSLA import ProactiveSLA\n",
      "from utils.load_result import *\n",
      "from utils.GraphUtil import *\n",
      "import matplotlib.pyplot as plt\n",
      "import numpy as np\n",
      "from scaling.ProactiveManager import ProactiveManager\n",
      "import pandas as pd"
     ],
     "language": "python",
     "metadata": {},
     "outputs": [],
     "prompt_number": 1
    },
    {
     "cell_type": "code",
     "collapsed": false,
     "input": [
      "def sla_violate(file_name, broker):\n",
      "    ypred, ytrue = load_file(file_name)\n",
      "    \n",
      "    cpu_pred, cpu_test = np.maximum(ypred[:,0],0), ytrue[:,0]\n",
      "    ram_pred, ram_test = np.maximum(ypred[:,1],0), ytrue[:,1]\n",
      "    \n",
      "    resource_used = np.array(zip(*(cpu_test,ram_test)))\n",
      "    resource_predict = np.array(zip(*(cpu_pred,ram_pred)))\n",
      "    \n",
      "    number_of_VMs = np.array(broker.allocate_VMs(resource_used=resource_used,resource_predicted=resource_predict))\n",
      "    \n",
      "    cpu_pred_VMs = number_of_VMs * broker.capacity_VM[0]\n",
      "    ram_pred_VMs = number_of_VMs * broker.capacity_VM[1]\n",
      "    \n",
      "    c = np.array((cpu_test>=cpu_pred_VMs))\n",
      "    d = np.array((ram_test>=ram_pred_VMs))\n",
      "    e = np.array([(x or y) for x,y in zip(c,d)])\n",
      "    return float(len(e[e==True])) * 100/ len(e)"
     ],
     "language": "python",
     "metadata": {},
     "outputs": [],
     "prompt_number": 2
    },
    {
     "cell_type": "code",
     "collapsed": false,
     "input": [
      "broker = ProactiveManager(sla=2, past_consecutive_values=10)\n",
      "print sla_violate('model_saved/BPNNM_3_1.05107994991.npz',broker)\n",
      "print sla_violate('model_saved/GABPNNM_5_1.05844921083.npz',broker)\n",
      "print sla_violate('model_saved/Result_2_7/Fuzzy_BPNNM_5_0.896544977679.npz',broker)\n",
      "print sla_violate('model_saved/FGABPNNM_4_0.901227257525.npz',broker)"
     ],
     "language": "python",
     "metadata": {},
     "outputs": [
      {
       "output_type": "stream",
       "stream": "stdout",
       "text": [
        "3.01003344482\n",
        "1.11731843575"
       ]
      },
      {
       "output_type": "stream",
       "stream": "stdout",
       "text": [
        "\n",
        "0.223214285714\n",
        "0.222965440357"
       ]
      },
      {
       "output_type": "stream",
       "stream": "stdout",
       "text": [
        "\n"
       ]
      }
     ],
     "prompt_number": 11
    },
    {
     "cell_type": "code",
     "collapsed": false,
     "input": [
      "dat = np.load('multi_test_5.npz')\n",
      "ytest = dat['y_test']\n",
      "ypred = np.load('model_saved/Result_2_7/Fuzzy_BPNNM_5_0.896544977679.npz')['y_pred']\n",
      "np.savez('model_saved/Result_2_7/Fuzzy_BPNNM_5_0.896544977679.npz',y_pred=ypred,y_true=ytest)"
     ],
     "language": "python",
     "metadata": {},
     "outputs": [],
     "prompt_number": 9
    },
    {
     "cell_type": "code",
     "collapsed": false,
     "input": [],
     "language": "python",
     "metadata": {},
     "outputs": []
    }
   ],
   "metadata": {}
  }
 ]
}