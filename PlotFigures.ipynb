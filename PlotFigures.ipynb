{
 "metadata": {
  "name": ""
 },
 "nbformat": 3,
 "nbformat_minor": 0,
 "worksheets": [
  {
   "cells": [
    {
     "cell_type": "code",
     "collapsed": false,
     "input": [
      "from scaling.ProactiveSLA import ProactiveSLA\n",
      "from utils.load_result import *\n",
      "from utils.GraphUtil import *\n",
      "import matplotlib.pyplot as plt\n",
      "import numpy as np\n",
      "from scaling.ProactiveManager import ProactiveManager\n",
      "import pandas as pd"
     ],
     "language": "python",
     "metadata": {},
     "outputs": [],
     "prompt_number": 1
    },
    {
     "cell_type": "code",
     "collapsed": false,
     "input": [
      "%matplotlib\n",
      "pred, test = load_file('model_saved/Result_27_6/BPNN_3_0.601145826955.npz')\n",
      "plot_figure_with_label(y_pred=pred[100:200], y_test=test[100:200], title='Fuzzy GABPNN (Sliding Window Size = 3)', metric='CPU Utilization (%)')"
     ],
     "language": "python",
     "metadata": {},
     "outputs": [
      {
       "output_type": "stream",
       "stream": "stdout",
       "text": [
        "Using matplotlib backend: Qt4Agg\n"
       ]
      },
      {
       "output_type": "stream",
       "stream": "stderr",
       "text": [
        "/usr/local/lib/python2.7/dist-packages/matplotlib/cbook.py:137: MatplotlibDeprecationWarning: The set_color_cycle attribute was deprecated in version 1.5. Use set_prop_cycle instead.\n",
        "  warnings.warn(message, mplDeprecation, stacklevel=1)\n"
       ]
      },
      {
       "metadata": {},
       "output_type": "pyout",
       "prompt_number": 2,
       "text": [
        "<matplotlib.axes._subplots.AxesSubplot at 0x7ffa98219450>"
       ]
      }
     ],
     "prompt_number": 2
    },
    {
     "cell_type": "code",
     "collapsed": false,
     "input": [
      "%matplotlib\n",
      "pred, test = load_file('model_saved/Result_27_6/BPNN_2_0.801036813235.npz')\n",
      "plot_figure_with_label(y_pred=pred[100:200], y_test=test[100:200], \n",
      "                       title='BPNN (Sliding Window Size = 3)', metric='CPU Utilization (%)')"
     ],
     "language": "python",
     "metadata": {},
     "outputs": [
      {
       "output_type": "stream",
       "stream": "stdout",
       "text": [
        "Using matplotlib backend: Qt4Agg\n"
       ]
      },
      {
       "metadata": {},
       "output_type": "pyout",
       "prompt_number": 3,
       "text": [
        "<matplotlib.axes._subplots.AxesSubplot at 0x7ffa5c2ecb90>"
       ]
      }
     ],
     "prompt_number": 3
    },
    {
     "cell_type": "code",
     "collapsed": false,
     "input": [
      "%matplotlib\n",
      "pred, test = load_file('model_saved/Result_27_6/GABPNN_2_0.753117963855.npz')\n",
      "plot_figure_with_label(y_pred=pred[100:200], y_test=test[100:200], title='GABPNN (Sliding Window Size = 3)', metric='CPU Utilization (%)')"
     ],
     "language": "python",
     "metadata": {},
     "outputs": [
      {
       "output_type": "stream",
       "stream": "stdout",
       "text": [
        "Using matplotlib backend: Qt4Agg\n"
       ]
      },
      {
       "metadata": {},
       "output_type": "pyout",
       "prompt_number": 4,
       "text": [
        "<matplotlib.axes._subplots.AxesSubplot at 0x7ffa5c095c10>"
       ]
      }
     ],
     "prompt_number": 4
    },
    {
     "cell_type": "code",
     "collapsed": false,
     "input": [
      "%matplotlib\n",
      "pred, test = load_file('model_saved/Result_27_6/fuzzy_BPNN_2_0.722937764182.npz')\n",
      "plot_figure_with_label(y_pred=pred[100:200], y_test=test[100:200], title='Fuzzy BPNN (Sliding Window Size = 3)', metric='CPU Utilization (%)')"
     ],
     "language": "python",
     "metadata": {},
     "outputs": [
      {
       "output_type": "stream",
       "stream": "stdout",
       "text": [
        "Using matplotlib backend: Qt4Agg\n"
       ]
      },
      {
       "metadata": {},
       "output_type": "pyout",
       "prompt_number": 5,
       "text": [
        "<matplotlib.axes._subplots.AxesSubplot at 0x7ffa5c2f82d0>"
       ]
      }
     ],
     "prompt_number": 5
    },
    {
     "cell_type": "code",
     "collapsed": false,
     "input": [
      "%matplotlib\n",
      "pred, test = load_file('model_saved/BPNN_2_0.0473775280419.npz')\n",
      "plot_figure_with_label(y_pred=pred[100:200], y_test=test[100:200], title='BPNN (Sliding Window Size = 3)', \n",
      "                       metric='Memory Usage (%)')"
     ],
     "language": "python",
     "metadata": {},
     "outputs": [
      {
       "output_type": "stream",
       "stream": "stdout",
       "text": [
        "Using matplotlib backend: Qt4Agg\n"
       ]
      },
      {
       "metadata": {},
       "output_type": "pyout",
       "prompt_number": 6,
       "text": [
        "<matplotlib.axes._subplots.AxesSubplot at 0x7ffa540ea4d0>"
       ]
      }
     ],
     "prompt_number": 6
    },
    {
     "cell_type": "code",
     "collapsed": false,
     "input": [
      "%matplotlib\n",
      "pred, test = load_file('model_saved/GABPNN_4_0.0369266157741.npz')\n",
      "plot_figure_with_label(y_pred=pred[100:200], y_test=test[100:200], title='GABPNN (Sliding Window Size = 3)', \n",
      "                       metric='Memory Usage (%)')"
     ],
     "language": "python",
     "metadata": {},
     "outputs": [
      {
       "output_type": "stream",
       "stream": "stdout",
       "text": [
        "Using matplotlib backend: Qt4Agg\n"
       ]
      },
      {
       "metadata": {},
       "output_type": "pyout",
       "prompt_number": 7,
       "text": [
        "<matplotlib.axes._subplots.AxesSubplot at 0x7ffa54008d10>"
       ]
      }
     ],
     "prompt_number": 7
    },
    {
     "cell_type": "code",
     "collapsed": false,
     "input": [
      "%matplotlib\n",
      "pred, test = load_file('model_saved/fuzzy_BPNN_4_0.0491736343367.npz')\n",
      "plot_figure_with_label(y_pred=pred[100:200], y_test=test[100:200], title='Fuzzy BPNN (Sliding Window Size = 3)', \n",
      "                       metric='Memory Usage (%)')"
     ],
     "language": "python",
     "metadata": {},
     "outputs": [
      {
       "output_type": "stream",
       "stream": "stdout",
       "text": [
        "Using matplotlib backend: Qt4Agg\n"
       ]
      },
      {
       "metadata": {},
       "output_type": "pyout",
       "prompt_number": 8,
       "text": [
        "<matplotlib.axes._subplots.AxesSubplot at 0x7ffa4fd9cb50>"
       ]
      }
     ],
     "prompt_number": 8
    },
    {
     "cell_type": "code",
     "collapsed": false,
     "input": [
      "%matplotlib\n",
      "pred, test = load_file('model_saved/fuzzy_GABPNN_5_0.0512979910714.npz')\n",
      "plot_figure_with_label(y_pred=pred[100:200], y_test=test[100:200], title='Fuzzy GABPNN (Sliding Window Size = 3)', \n",
      "                       metric='Memory Usage (%)')"
     ],
     "language": "python",
     "metadata": {},
     "outputs": [
      {
       "output_type": "stream",
       "stream": "stdout",
       "text": [
        "Using matplotlib backend: Qt4Agg\n"
       ]
      },
      {
       "metadata": {},
       "output_type": "pyout",
       "prompt_number": 9,
       "text": [
        "<matplotlib.axes._subplots.AxesSubplot at 0x7ffa4fd2fe10>"
       ]
      }
     ],
     "prompt_number": 9
    },
    {
     "cell_type": "code",
     "collapsed": false,
     "input": [
      "ypred, ytrue = load_file(\"model_saved/BPNNM_3_1.05107994991.npz\")\n",
      "cpu_pred, cpu_test = np.maximum(ypred[:,0],0), ytrue[:,0]\n",
      "ram_pred, ram_test = np.maximum(ypred[:,1],0), ytrue[:,1]\n",
      "%matplotlib\n",
      "# plot_figure_with_label(y_pred=cpu_pred[100:200], y_test=cpu_test[100:200], \n",
      "#                        title='BPNN Multi Dimension (Sliding Window Size = 3)', metric='CPU Utilization (%)')\n",
      "plot_figure_with_label(y_pred=ram_pred[100:200], y_test=ram_test[100:200], \n",
      "                       title='BPNN Multi Dimension (Sliding Window Size = 3)', metric='Memory usage (%)')\n"
     ],
     "language": "python",
     "metadata": {},
     "outputs": [
      {
       "output_type": "stream",
       "stream": "stdout",
       "text": [
        "Using matplotlib backend: Qt4Agg\n"
       ]
      },
      {
       "metadata": {},
       "output_type": "pyout",
       "prompt_number": 12,
       "text": [
        "<matplotlib.axes._subplots.AxesSubplot at 0x7f77164a2290>"
       ]
      }
     ],
     "prompt_number": 12
    },
    {
     "cell_type": "code",
     "collapsed": false,
     "input": [
      "ypred, ytrue = load_file(\"model_saved/Result_2_7/GABPNNM_2_1.05183134772.npz\")\n",
      "cpu_pred, cpu_test = np.maximum(ypred[:,0],0), ytrue[:,0]\n",
      "ram_pred, ram_test = np.maximum(ypred[:,1],0), ytrue[:,1]\n",
      "%matplotlib\n",
      "# plot_figure_with_label(y_pred=cpu_pred[100:200], y_test=cpu_test[100:200], \n",
      "#                        title='GABPNN Multi Dimension (Sliding Window Size = 3)', metric='CPU Utilization (%)')\n",
      "plot_figure_with_label(y_pred=ram_pred[100:200], y_test=ram_test[100:200], \n",
      "                       title='GABPNN Multi Dimension (Sliding Window Size = 3)', metric='Memory usage (%)')\n"
     ],
     "language": "python",
     "metadata": {},
     "outputs": [
      {
       "output_type": "stream",
       "stream": "stdout",
       "text": [
        "Using matplotlib backend: Qt4Agg\n"
       ]
      },
      {
       "metadata": {},
       "output_type": "pyout",
       "prompt_number": 7,
       "text": [
        "<matplotlib.axes._subplots.AxesSubplot at 0x7f9b3d868a10>"
       ]
      }
     ],
     "prompt_number": 7
    },
    {
     "cell_type": "code",
     "collapsed": false,
     "input": [
      "ypred, ytrue = load_file(\"model_saved/FGABPNNM_3_0.759630623608.npz\")\n",
      "cpu_pred, cpu_test = np.maximum(ypred[:,0],0), ytrue[:,0]\n",
      "ram_pred, ram_test = np.maximum(ypred[:,1],0), ytrue[:,1]\n",
      "%matplotlib\n",
      "plot_figure_with_label(y_pred=cpu_pred[100:200], y_test=cpu_test[100:200], \n",
      "                       title='Fuzzy BPNN Multi Dimension (Sliding Window Size = 3)', metric='CPU Utilization (%)')\n",
      "# plot_figure_with_label(y_pred=ram_pred[100:200], y_test=ram_test[100:200], \n",
      "#                        title='BPNN Multi Dimension (Sliding Window Size = 3)', metric='Memory usage (%)')\n"
     ],
     "language": "python",
     "metadata": {},
     "outputs": [
      {
       "output_type": "stream",
       "stream": "stdout",
       "text": [
        "Using matplotlib backend: Qt4Agg\n"
       ]
      },
      {
       "metadata": {},
       "output_type": "pyout",
       "prompt_number": 19,
       "text": [
        "<matplotlib.axes._subplots.AxesSubplot at 0x7f9b2a277c10>"
       ]
      }
     ],
     "prompt_number": 19
    }
   ],
   "metadata": {}
  }
 ]
}