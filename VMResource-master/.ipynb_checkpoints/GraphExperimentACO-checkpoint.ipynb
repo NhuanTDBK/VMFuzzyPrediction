{
 "cells": [
  {
   "cell_type": "code",
   "execution_count": 5,
   "metadata": {
    "collapsed": false
   },
   "outputs": [],
   "source": [
    "from GraphUtil import *\n",
    "from MetricFeeder import *\n",
    "from ACOEstimator import ACOEstimator\n",
    "from initializer import *\n",
    "from NeuralFlow import NeuralFlowRegressor\n",
    "from OptimizerNNEstimator import OptimizerNNEstimator\n",
    "from sklearn.metrics import mean_squared_error\n",
    "\n",
    "n_windows = 4\n",
    "n_hidden = 15\n",
    "# range_training = (-1,28919)\n",
    "# range_test = (28919,-1)\n",
    "# metric_types = [\"cpu_util\",\"disk_write_rate\"]\n",
    "dataFeeder = MetricFeeder(skip_lists=5)\n",
    "\n",
    "print \"Getting data\"\n",
    "X_train,y_train,X_test,y_test = dataFeeder.split_train_and_test(n_sliding_window=n_windows)\n",
    "neural_shape = [len(dataFeeder.metric_type)*n_windows,n_hidden,len(dataFeeder.metric_type)]\n",
    "estimator = ACOEstimator(Q=0.65,epsilon=0.20000001,number_of_solutions=190)\n",
    "archive_solution = construct_solution(estimator.number_of_solutions,neural_shape,uniform_init=False)\n",
    "fit_param = {'neural_shape':neural_shape,\"archive\":archive_solution}\n",
    "neuralNet = NeuralFlowRegressor()\n",
    "optimizer = OptimizerNNEstimator(estimator,neuralNet)\n",
    "optimizer.fit(X_train,y_train,**fit_param)\n",
    "print optimizer.score(X_test,y_test)\n",
    "y_pred = optimizer.predict(X_test)\n",
    "print optimizer.score(y_pred,y_test)\n",
    "# plot_metric_figure(y_pred,y_test,dataFeeder.metric_type,title=\"ACONN\")\n",
    "# disk_write_pred = dataFeeder.convert(y_pred[:,1],type=metric_types[1])\n",
    "# disk_write_test = dataFeeder.convert(y_test[:,1],type=metric_types[1])\n",
    "# plot_figure(y_pred=disk_write_pred,y_true=disk_write_test,title=\"Disk write Prediction based on ACONN - score = %s\"%np.sqrt(mean_squared_error(disk_write_test,disk_write_pred)))\n",
    "# plot_figure(y_pred=y_pred[:,0],y_true=y_test[:,0],title=\"Disk write Prediction based on ACONN - score = %s\"%np.sqrt(mean_squared_error(y_pred[:,0],y_test[:,0])))\n"
   ]
  },
  {
   "cell_type": "code",
   "execution_count": 8,
   "metadata": {
    "collapsed": false
   },
   "outputs": [
    {
     "name": "stdout",
     "output_type": "stream",
     "text": [
      "0.00633314938593\n"
     ]
    }
   ],
   "source": [
    "print mean_squared_error(y_pred,y_test)\n",
    "# plot_metric_figure(y_pred,y_test,dataFeeder.metric_type,title=\"ACONN\")"
   ]
  }
 ],
 "metadata": {
  "kernelspec": {
   "display_name": "Python 2",
   "language": "python",
   "name": "python2"
  },
  "language_info": {
   "codemirror_mode": {
    "name": "ipython",
    "version": 2
   },
   "file_extension": ".py",
   "mimetype": "text/x-python",
   "name": "python",
   "nbconvert_exporter": "python",
   "pygments_lexer": "ipython2",
   "version": "2.7.10"
  }
 },
 "nbformat": 4,
 "nbformat_minor": 0
}
