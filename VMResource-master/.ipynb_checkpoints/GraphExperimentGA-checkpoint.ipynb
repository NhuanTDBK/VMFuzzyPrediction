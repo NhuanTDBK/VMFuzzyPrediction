{
 "cells": [
  {
   "cell_type": "code",
   "execution_count": 3,
   "metadata": {
    "collapsed": false
   },
   "outputs": [],
   "source": [
    "from GraphUtil import *\n",
    "from MetricFeeder import *\n",
    "from GAEstimator import GAEstimator\n",
    "from initializer import *\n",
    "from NeuralFlow import NeuralFlowRegressor\n",
    "from OptimizerNNEstimator import OptimizerNNEstimator\n",
    "from sklearn.metrics import mean_squared_error\n",
    "from numpy import savez\n",
    "\n",
    "n_windows = 4\n",
    "n_hidden = 15\n",
    "\n",
    "metric_types = [\"cpu_util\",\"disk_write_rate\"]\n",
    "dataFeeder = MetricFeeder(skip_lists=5)\n",
    "\n",
    "print \"Getting data\"\n",
    "X_train,y_train,X_test,y_test = dataFeeder.split_train_and_test(n_sliding_window=n_windows)\n",
    "# savez(\"train_test\",X_train=X_train,y_train=y_train,X_test=X_test,y_test=y_test)\n",
    "neural_shape = [len(dataFeeder.metric_type)*n_windows,n_hidden,len(dataFeeder.metric_type)]\n",
    "estimator = GAEstimator(cross_rate=0.65,mutation_rate=0.04,pop_size=45)\n",
    "archive_solution = construct_solution(estimator.number_of_solutions,neural_shape,uniform_init=False)\n",
    "fit_param = {'neural_shape':neural_shape,\"archive\":archive_solution}\n",
    "neuralNet = NeuralFlowRegressor()\n",
    "optimizer = OptimizerNNEstimator(estimator,neuralNet)\n",
    "optimizer.fit(X_train,y_train,**fit_param)\n",
    "score = optimizer.score(X_test,y_test)\n",
    "y_pred = optimizer.predict(X_test)\n",
    "# plot_metric_figure(y_pred=y_pred,y_test=y_test, metric_type=dataFeeder.metric_type,title=\"GANN\")\n"
   ]
  },
  {
   "cell_type": "code",
   "execution_count": 4,
   "metadata": {
    "collapsed": false
   },
   "outputs": [
    {
     "name": "stdout",
     "output_type": "stream",
     "text": [
      "0.00660045829316\n"
     ]
    }
   ],
   "source": [
    "print mean_squared_error(y_pred,y_test)"
   ]
  }
 ],
 "metadata": {
  "kernelspec": {
   "display_name": "Python 2",
   "language": "python",
   "name": "python2"
  },
  "language_info": {
   "codemirror_mode": {
    "name": "ipython",
    "version": 2
   },
   "file_extension": ".py",
   "mimetype": "text/x-python",
   "name": "python",
   "nbconvert_exporter": "python",
   "pygments_lexer": "ipython2",
   "version": "2.7.10"
  }
 },
 "nbformat": 4,
 "nbformat_minor": 0
}
