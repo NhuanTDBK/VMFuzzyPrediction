{
 "metadata": {
  "name": ""
 },
 "nbformat": 3,
 "nbformat_minor": 0,
 "worksheets": [
  {
   "cells": [
    {
     "cell_type": "code",
     "collapsed": false,
     "input": [
      "from estimators.ACOEstimator import ACOEstimator\n",
      "from estimators.NeuralFlow import NeuralFlowRegressor\n",
      "from estimators.GAEstimator import GAEstimator\n",
      "from estimators.OptimizerNNEstimator import OptimizerNNEstimator\n",
      "from utils.GraphUtil import *\n",
      "from utils.initializer import *\n",
      "from estimators.FuzzyStep import *\n",
      "from preprocessing.FuzzyProcessor import FuzzyProcessor"
     ],
     "language": "python",
     "metadata": {},
     "outputs": [
      {
       "output_type": "stream",
       "stream": "stderr",
       "text": [
        "/usr/local/lib/python2.7/dist-packages/theano/tensor/signal/downsample.py:6: UserWarning: downsample module has been moved to the theano.tensor.signal.pool module.\n",
        "  \"downsample module has been moved to the theano.tensor.signal.pool module.\")\n"
       ]
      }
     ],
     "prompt_number": 2
    },
    {
     "cell_type": "code",
     "collapsed": false,
     "input": [
      "print 'FACO Model'\n",
      "dat_usage = pd.read_csv('cpu_usage.csv')['cpu_usage']\n",
      "# define training_set and testing _set\n",
      "training_set_size = 2000\n",
      "testing_set_size = 500\n",
      "\n",
      "\n",
      "######## FUZZY before TRAINING\n",
      "# length of sliding windows for input\n",
      "n_sliding_window = 1\n",
      "\n",
      "# #define training_set, testing set\n",
      "# X_train = np.zeros(training_set_size)\n",
      "# for i in range (0,training_set_size):\n",
      "#     X_train[i] = dat_usage[i]\n",
      "\n",
      "# y_train = np.zeros(training_set_size)\n",
      "# for i in range (0,training_set_size):\n",
      "#     y_train[i] = dat_usage[i + 1]\n",
      "\n",
      "# X_test = np.zeros(testing_set_size)\n",
      "# for i in range (0,testing_set_size):\n",
      "#     X_test[i] = dat_usage[i + training_set_size]\n",
      "\n",
      "# y_test = np.zeros(testing_set_size - 1)\n",
      "# for i in range (0,testing_set_size - 1):\n",
      "#     y_test[i] = dat_usage[i + training_set_size + 1]\n",
      "\n",
      "# Number of hiddens node (one hidden layer)\n",
      "n_hidden = 120\n",
      "\n",
      "# Define neural shape\n",
      "    # Input layer: [n_sample*n_size]\n",
      "    # Hidden layer:\n",
      "    # Output layer: regression\n",
      "# neural_shape = [fuzzy_set_size,n_hidden,fuzzy_set_size]\n"
     ],
     "language": "python",
     "metadata": {},
     "outputs": [
      {
       "output_type": "stream",
       "stream": "stdout",
       "text": [
        "FACO Model\n"
       ]
      }
     ],
     "prompt_number": 15
    },
    {
     "cell_type": "code",
     "collapsed": false,
     "input": [
      "fuzzyEngine = FuzzyProcessor(automf=True)\n",
      "X_dat = fuzzyEngine.fit_transform(dat_usage)\n",
      "X_train = np.zeros((training_set_size,X_dat.shape[1]))\n",
      "for i in range (0,training_set_size):\n",
      "    X_train[i] = X_dat[i]\n",
      "y_train = np.zeros(X_train.shape)\n",
      "for i in range (0,training_set_size):\n",
      "    y_train[i] = dat_usage[i + 1]\n",
      "X_test_f = []\n",
      "X_test = np.zeros(testing_set_size)\n",
      "for i in range (0,testing_set_size):\n",
      "    X_test_f.append(X_dat[i + training_set_size])\n",
      "    X_test[i] = dat_usage[i+training_set_size]\n",
      "y_test = np.zeros(testing_set_size - 1)\n",
      "for i in range (0,testing_set_size - 1):\n",
      "    y_test[i] = dat_usage[i + training_set_size + 1]"
     ],
     "language": "python",
     "metadata": {},
     "outputs": [],
     "prompt_number": 16
    },
    {
     "cell_type": "code",
     "collapsed": false,
     "input": [
      "X_train_f = X_train\n",
      "y_train_f = y_train\n",
      "neural_shape = [X_train_f.shape[1],n_hidden,y_train_f.shape[1]]\n",
      "\n",
      "# Initialize ACO Estimator\n",
      "estimator = ACOEstimator(Q=0.7,epsilon=0.1,number_of_solutions=130)\n",
      "neuralNet = NeuralFlowRegressor(learning_rate=1E-03)\n",
      "# estimator = GAEstimator(cross_rate=0.65,mutation_rate=0.01)\n",
      "fit_param = {'neural_shape':neural_shape}\n",
      "# There are many techniques for combining GA with NN. One of this, the optimizer solution of GA will be weights initialized of NN\n",
      "optimizer = OptimizerNNEstimator(estimator,neuralNet)\n",
      "# optimizer = neuralNet\n",
      "optimizer.fit(X_train_f,y_train_f,**fit_param)\n",
      "print  optimizer.score(X_train_f,y_train_f)"
     ],
     "language": "python",
     "metadata": {},
     "outputs": [
      {
       "output_type": "stream",
       "stream": "stdout",
       "text": [
        "Initialization\n",
        "Initilization\n",
        "Step #100, epoch #6, avg. train loss: 0.43139"
       ]
      },
      {
       "output_type": "stream",
       "stream": "stdout",
       "text": [
        "\n",
        "Step #200, epoch #12, avg. train loss: 0.00331"
       ]
      },
      {
       "output_type": "stream",
       "stream": "stdout",
       "text": [
        "\n",
        "Step #300, epoch #18, avg. train loss: 0.00280"
       ]
      },
      {
       "output_type": "stream",
       "stream": "stdout",
       "text": [
        "\n",
        "Step #400, epoch #25, avg. train loss: 0.00264"
       ]
      },
      {
       "output_type": "stream",
       "stream": "stdout",
       "text": [
        "\n",
        "Step #500, epoch #31, avg. train loss: 0.00260"
       ]
      },
      {
       "output_type": "stream",
       "stream": "stdout",
       "text": [
        "\n",
        "Step #600, epoch #37, avg. train loss: 0.00256"
       ]
      },
      {
       "output_type": "stream",
       "stream": "stdout",
       "text": [
        "\n",
        "Step #700, epoch #43, avg. train loss: 0.00254"
       ]
      },
      {
       "output_type": "stream",
       "stream": "stdout",
       "text": [
        "\n",
        "Step #800, epoch #50, avg. train loss: 0.00253"
       ]
      },
      {
       "output_type": "stream",
       "stream": "stdout",
       "text": [
        "\n",
        "Step #900, epoch #56, avg. train loss: 0.00251"
       ]
      },
      {
       "output_type": "stream",
       "stream": "stdout",
       "text": [
        "\n",
        "Step #1000, epoch #62, avg. train loss: 0.00251"
       ]
      },
      {
       "output_type": "stream",
       "stream": "stdout",
       "text": [
        "\n",
        "Step #1100, epoch #6, avg. train loss: 0.00356"
       ]
      },
      {
       "output_type": "stream",
       "stream": "stdout",
       "text": [
        "\n",
        "Step #1200, epoch #12, avg. train loss: 0.00341"
       ]
      },
      {
       "output_type": "stream",
       "stream": "stdout",
       "text": [
        "\n",
        "Step #1300, epoch #18, avg. train loss: 0.00346"
       ]
      },
      {
       "output_type": "stream",
       "stream": "stdout",
       "text": [
        "\n",
        "Step #1400, epoch #25, avg. train loss: 0.00337"
       ]
      },
      {
       "output_type": "stream",
       "stream": "stdout",
       "text": [
        "\n",
        "Step #1500, epoch #31, avg. train loss: 0.00333"
       ]
      },
      {
       "output_type": "stream",
       "stream": "stdout",
       "text": [
        "\n",
        "Step #1600, epoch #37, avg. train loss: 0.00331"
       ]
      },
      {
       "output_type": "stream",
       "stream": "stdout",
       "text": [
        "\n",
        "Step #1700, epoch #43, avg. train loss: 0.00327"
       ]
      },
      {
       "output_type": "stream",
       "stream": "stdout",
       "text": [
        "\n",
        "Step #1800, epoch #50, avg. train loss: 0.00321"
       ]
      },
      {
       "output_type": "stream",
       "stream": "stdout",
       "text": [
        "\n",
        "Step #1900, epoch #56, avg. train loss: 0.00319"
       ]
      },
      {
       "output_type": "stream",
       "stream": "stdout",
       "text": [
        "\n",
        "Step #2000, epoch #62, avg. train loss: 0.00316"
       ]
      },
      {
       "output_type": "stream",
       "stream": "stdout",
       "text": [
        "\n",
        "Step #2100, epoch #6, avg. train loss: 0.00294"
       ]
      },
      {
       "output_type": "stream",
       "stream": "stdout",
       "text": [
        "\n",
        "Step #2200, epoch #12, avg. train loss: 0.00292"
       ]
      },
      {
       "output_type": "stream",
       "stream": "stdout",
       "text": [
        "\n",
        "Step #2300, epoch #18, avg. train loss: 0.00290"
       ]
      },
      {
       "output_type": "stream",
       "stream": "stdout",
       "text": [
        "\n",
        "Step #2400, epoch #25, avg. train loss: 0.00288"
       ]
      },
      {
       "output_type": "stream",
       "stream": "stdout",
       "text": [
        "\n",
        "Step #2500, epoch #31, avg. train loss: 0.00287"
       ]
      },
      {
       "output_type": "stream",
       "stream": "stdout",
       "text": [
        "\n",
        "Step #2600, epoch #37, avg. train loss: 0.00291"
       ]
      },
      {
       "output_type": "stream",
       "stream": "stdout",
       "text": [
        "\n",
        "Step #2700, epoch #43, avg. train loss: 0.00289"
       ]
      },
      {
       "output_type": "stream",
       "stream": "stdout",
       "text": [
        "\n",
        "Step #2800, epoch #50, avg. train loss: 0.00288"
       ]
      },
      {
       "output_type": "stream",
       "stream": "stdout",
       "text": [
        "\n",
        "Step #2900, epoch #56, avg. train loss: 0.00287"
       ]
      },
      {
       "output_type": "stream",
       "stream": "stdout",
       "text": [
        "\n",
        "Step #3000, epoch #62, avg. train loss: 0.00290"
       ]
      },
      {
       "output_type": "stream",
       "stream": "stdout",
       "text": [
        "\n",
        "Step #3100, epoch #6, avg. train loss: 0.00253"
       ]
      },
      {
       "output_type": "stream",
       "stream": "stdout",
       "text": [
        "\n",
        "Step #3200, epoch #12, avg. train loss: 0.00253"
       ]
      },
      {
       "output_type": "stream",
       "stream": "stdout",
       "text": [
        "\n",
        "Step #3300, epoch #18, avg. train loss: 0.00253"
       ]
      },
      {
       "output_type": "stream",
       "stream": "stdout",
       "text": [
        "\n",
        "Step #3400, epoch #25, avg. train loss: 0.00253"
       ]
      },
      {
       "output_type": "stream",
       "stream": "stdout",
       "text": [
        "\n",
        "Step #3500, epoch #31, avg. train loss: 0.00252"
       ]
      },
      {
       "output_type": "stream",
       "stream": "stdout",
       "text": [
        "\n",
        "Step #3600, epoch #37, avg. train loss: 0.00253"
       ]
      },
      {
       "output_type": "stream",
       "stream": "stdout",
       "text": [
        "\n",
        "Step #3700, epoch #43, avg. train loss: 0.00251"
       ]
      },
      {
       "output_type": "stream",
       "stream": "stdout",
       "text": [
        "\n",
        "Step #3800, epoch #50, avg. train loss: 0.00253"
       ]
      },
      {
       "output_type": "stream",
       "stream": "stdout",
       "text": [
        "\n",
        "Step #3900, epoch #56, avg. train loss: 0.00251"
       ]
      },
      {
       "output_type": "stream",
       "stream": "stdout",
       "text": [
        "\n",
        "Step #4000, epoch #62, avg. train loss: 0.00254"
       ]
      },
      {
       "output_type": "stream",
       "stream": "stdout",
       "text": [
        "\n",
        "Step #4100, epoch #6, avg. train loss: 0.00248"
       ]
      },
      {
       "output_type": "stream",
       "stream": "stdout",
       "text": [
        "\n",
        "Step #4200, epoch #12, avg. train loss: 0.00247"
       ]
      },
      {
       "output_type": "stream",
       "stream": "stdout",
       "text": [
        "\n",
        "Step #4300, epoch #18, avg. train loss: 0.00246"
       ]
      },
      {
       "output_type": "stream",
       "stream": "stdout",
       "text": [
        "\n",
        "Step #4400, epoch #25, avg. train loss: 0.00246"
       ]
      },
      {
       "output_type": "stream",
       "stream": "stdout",
       "text": [
        "\n",
        "Step #4500, epoch #31, avg. train loss: 0.00245"
       ]
      },
      {
       "output_type": "stream",
       "stream": "stdout",
       "text": [
        "\n",
        "Step #4600, epoch #37, avg. train loss: 0.00246"
       ]
      },
      {
       "output_type": "stream",
       "stream": "stdout",
       "text": [
        "\n",
        "Step #4700, epoch #43, avg. train loss: 0.00245"
       ]
      },
      {
       "output_type": "stream",
       "stream": "stdout",
       "text": [
        "\n",
        "Step #4800, epoch #50, avg. train loss: 0.00245"
       ]
      },
      {
       "output_type": "stream",
       "stream": "stdout",
       "text": [
        "\n",
        "Step #4900, epoch #56, avg. train loss: 0.00247"
       ]
      },
      {
       "output_type": "stream",
       "stream": "stdout",
       "text": [
        "\n",
        "Step #5000, epoch #62, avg. train loss: 0.00247"
       ]
      },
      {
       "output_type": "stream",
       "stream": "stdout",
       "text": [
        "\n",
        "0.0027856968076\n"
       ]
      }
     ],
     "prompt_number": 18
    },
    {
     "cell_type": "code",
     "collapsed": false,
     "input": [
      "y_pred = optimizer.predict(np.array(X_test_f))\n",
      "#defuzzy step:\n",
      "ft = defuzzy(X_test, y_pred)\n",
      "#mean_squared_error\n",
      "print mean_squared_error(y_test, ft)\n",
      "#plot graph\n",
      "%matplotlib\n",
      "plot_figure(ft,y_test,color=['blue','red'],title='FGANN')"
     ],
     "language": "python",
     "metadata": {},
     "outputs": [
      {
       "output_type": "stream",
       "stream": "stdout",
       "text": [
        "ok\n",
        "0.00103304156882\n",
        "Using matplotlib backend: Qt4Agg\n"
       ]
      }
     ],
     "prompt_number": 19
    },
    {
     "cell_type": "code",
     "collapsed": false,
     "input": [],
     "language": "python",
     "metadata": {},
     "outputs": []
    }
   ],
   "metadata": {}
  }
 ]
}