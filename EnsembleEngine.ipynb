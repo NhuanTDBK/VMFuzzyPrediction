{
 "metadata": {
  "name": ""
 },
 "nbformat": 3,
 "nbformat_minor": 0,
 "worksheets": [
  {
   "cells": [
    {
     "cell_type": "code",
     "collapsed": false,
     "input": [
      "import pandas as pd\n",
      "import numpy as np\n",
      "from sklearn.preprocessing import MinMaxScaler\n",
      "import math\n",
      "from estimators.NeuralFlow import *\n",
      "from utils.SlidingWindowUtil import SlidingWindow\n",
      "from sklearn.linear_model import LinearRegression, Ridge\n",
      "from sklearn.neighbors import KNeighborsRegressor\n",
      "from sklearn.cross_validation import KFold\n",
      "from sklearn.ensemble import *\n",
      "from utils.GraphUtil import *\n",
      "from sklearn.metrics import mean_absolute_error, mean_squared_error\n",
      "from sklearn.grid_search import GridSearchCV"
     ],
     "language": "python",
     "metadata": {},
     "outputs": [],
     "prompt_number": 1
    },
    {
     "cell_type": "code",
     "collapsed": false,
     "input": [
      "scaler = MinMaxScaler()\n",
      "sliding_number = 3\n",
      "dat = pd.read_csv('sampling_617685_metric_10min_datetime.csv',parse_dates=True,index_col=0)[:3000]['cpu_rate']\n",
      "dat_nn = np.asarray(scaler.fit_transform(dat))\n",
      "X_train_size = int(len(dat_nn)*0.7)\n",
      "sliding = np.array(list(SlidingWindow(dat_nn, sliding_number)))\n",
      "X_train_nn = sliding[:X_train_size]\n",
      "y_train_nn = dat_nn[sliding_number:X_train_size+sliding_number].reshape(-1,1)\n",
      "X_test_nn = sliding[X_train_size:]\n",
      "y_test_nn = dat_nn[X_train_size+sliding_number-1:].reshape(-1,1)\n",
      "y_actual_test = dat[X_train_size+sliding_number-1:].tolist()"
     ],
     "language": "python",
     "metadata": {},
     "outputs": [
      {
       "output_type": "stream",
       "stream": "stderr",
       "text": [
        "/usr/local/lib/python2.7/dist-packages/sklearn/preprocessing/data.py:324: DeprecationWarning: Passing 1d arrays as data is deprecated in 0.17 and will raise ValueError in 0.19. Reshape your data either using X.reshape(-1, 1) if your data has a single feature or X.reshape(1, -1) if it contains a single sample.\n",
        "  warnings.warn(DEPRECATION_MSG_1D, DeprecationWarning)\n",
        "/usr/local/lib/python2.7/dist-packages/sklearn/preprocessing/data.py:359: DeprecationWarning: Passing 1d arrays as data is deprecated in 0.17 and will raise ValueError in 0.19. Reshape your data either using X.reshape(-1, 1) if your data has a single feature or X.reshape(1, -1) if it contains a single sample.\n",
        "  warnings.warn(DEPRECATION_MSG_1D, DeprecationWarning)\n"
       ]
      }
     ],
     "prompt_number": 2
    },
    {
     "cell_type": "code",
     "collapsed": false,
     "input": [
      "clf = [\n",
      "#        LinearRegression(),\n",
      "#        Ridge(alpha=0.1),\n",
      "#        NeuralFlowRegressor(hidden_nodes=[10], learning_rate=0.01, steps=7000),\n",
      "       KNeighborsRegressor(n_neighbors=99, weights='distance'),\n",
      "       RandomForestRegressor(n_estimators=220, max_depth=3, max_features=sliding_number, min_samples_leaf=3, \n",
      "                             warm_start=True),\n",
      "       GradientBoostingRegressor(learning_rate=0.05, n_estimators=59, max_depth=3,max_features=sliding_number,\n",
      "                                      subsample=0.85,min_samples_split=11, min_samples_leaf=4,warm_start=True),\n",
      "       ExtraTreesRegressor(bootstrap=True, warm_start=True,\n",
      "                                max_features=sliding_number,n_estimators=700,max_depth=6, min_samples_split=4),\n",
      "       AdaBoostRegressor(loss='exponential', learning_rate=0.01,n_estimators=12, )\n",
      "       ]\n",
      "# GBM, KNN, NN, RF and ET."
     ],
     "language": "python",
     "metadata": {},
     "outputs": [],
     "prompt_number": 173
    },
    {
     "cell_type": "heading",
     "level": 1,
     "metadata": {},
     "source": [
      "Tuning AdaBoosting"
     ]
    },
    {
     "cell_type": "code",
     "collapsed": false,
     "input": [
      "estimator = AdaBoostRegressor(loss='exponential', learning_rate=0.01,n_estimators=12, )\n",
      "param_grid = {\n",
      "#               \"n_estimators\":np.arange(10,30,step=1)\n",
      "#               'max_depth':range(3,16,1),\n",
      "#               'min_samples_split':range(1,20,1),\n",
      "#               'min_samples_leaf':range(1,50,1)\n",
      "#                 'max_features':range(1,4,1)\n",
      "#                 'subsample':np.arange(0.7,0.9,0.05)\n",
      "}\n",
      "grid_search = GridSearchCV(estimator,param_grid,scoring='mean_absolute_error',cv=10, n_jobs=-1)\n",
      "grid_search.fit(X_train_nn,y_train_nn.ravel())\n",
      "estimator = grid_search.best_estimator_\n",
      "print estimator\n",
      "y_pred = estimator.predict(X_test_nn)\n",
      "print mean_absolute_error(scaler.inverse_transform(y_pred), y_actual_test)"
     ],
     "language": "python",
     "metadata": {},
     "outputs": [
      {
       "output_type": "stream",
       "stream": "stdout",
       "text": [
        "AdaBoostRegressor(base_estimator=None, learning_rate=0.01, loss='exponential',\n",
        "         n_estimators=12, random_state=None)\n",
        "0.847120692835\n"
       ]
      },
      {
       "output_type": "stream",
       "stream": "stderr",
       "text": [
        "/usr/local/lib/python2.7/dist-packages/sklearn/preprocessing/data.py:377: DeprecationWarning: Passing 1d arrays as data is deprecated in 0.17 and will raise ValueError in 0.19. Reshape your data either using X.reshape(-1, 1) if your data has a single feature or X.reshape(1, -1) if it contains a single sample.\n",
        "  warnings.warn(DEPRECATION_MSG_1D, DeprecationWarning)\n"
       ]
      }
     ],
     "prompt_number": 4
    },
    {
     "cell_type": "heading",
     "level": 1,
     "metadata": {},
     "source": [
      "Tuning Gradient Boosting"
     ]
    },
    {
     "cell_type": "code",
     "collapsed": false,
     "input": [
      "estimator = GradientBoostingRegressor(learning_rate=0.05, n_estimators=59, max_depth=3,max_features=sliding_number,\n",
      "                                      subsample=0.89,min_samples_split=11, min_samples_leaf=1)\n",
      "param_grid = {\n",
      "#               \"n_estimators\":np.arange(40,80,step=1)\n",
      "#               'max_depth':range(3,16,1),\n",
      "              'min_samples_split':range(1,20,1),\n",
      "#               'min_samples_leaf':range(1,50,1)\n",
      "#                 'max_features':range(1,4,1)\n",
      "#                 'subsample':np.arange(0.7,0.9,0.05)\n",
      "}\n",
      "grid_search = GridSearchCV(estimator,param_grid,scoring='mean_absolute_error',cv=10, n_jobs=-1)\n",
      "grid_search.fit(X_train_nn,y_train_nn.ravel())\n",
      "estimator = grid_search.best_estimator_\n",
      "print estimator\n",
      "y_pred = estimator.predict(X_test_nn)\n",
      "print mean_absolute_error(scaler.inverse_transform(y_pred), y_actual_test)"
     ],
     "language": "python",
     "metadata": {},
     "outputs": [
      {
       "output_type": "stream",
       "stream": "stdout",
       "text": [
        "GradientBoostingRegressor(alpha=0.9, init=None, learning_rate=0.05, loss='ls',\n",
        "             max_depth=3, max_features=3, max_leaf_nodes=None,\n",
        "             min_samples_leaf=1, min_samples_split=4,\n",
        "             min_weight_fraction_leaf=0.0, n_estimators=59, presort='auto',\n",
        "             random_state=None, subsample=0.89, verbose=0,\n",
        "             warm_start=False)\n",
        "0.89870945971\n"
       ]
      },
      {
       "output_type": "stream",
       "stream": "stderr",
       "text": [
        "/usr/local/lib/python2.7/dist-packages/sklearn/preprocessing/data.py:377: DeprecationWarning: Passing 1d arrays as data is deprecated in 0.17 and will raise ValueError in 0.19. Reshape your data either using X.reshape(-1, 1) if your data has a single feature or X.reshape(1, -1) if it contains a single sample.\n",
        "  warnings.warn(DEPRECATION_MSG_1D, DeprecationWarning)\n"
       ]
      }
     ],
     "prompt_number": 57
    },
    {
     "cell_type": "heading",
     "level": 1,
     "metadata": {},
     "source": [
      "Tuning KNN"
     ]
    },
    {
     "cell_type": "code",
     "collapsed": false,
     "input": [
      "estimator = KNeighborsRegressor(n_neighbors=10,weights='distance')\n",
      "param_grid = {\n",
      "#               \"n_estimators\":np.arange(40,80,step=1)\n",
      "                \"n_neighbors\": np.arange(1,100,step=1)\n",
      "}\n",
      "grid_search = GridSearchCV(estimator,param_grid,scoring='mean_absolute_error',cv=10, n_jobs=1)\n",
      "grid_search.fit(X_train_nn,y_train_nn.ravel())\n",
      "estimator = grid_search.best_estimator_\n",
      "print estimator\n",
      "y_pred = estimator.predict(X_test_nn)\n",
      "print mean_absolute_error(scaler.inverse_transform(y_pred), y_actual_test)"
     ],
     "language": "python",
     "metadata": {},
     "outputs": [
      {
       "output_type": "stream",
       "stream": "stdout",
       "text": [
        "KNeighborsRegressor(algorithm='auto', leaf_size=30, metric='minkowski',\n",
        "          metric_params=None, n_jobs=1, n_neighbors=99, p=2,\n",
        "          weights='distance')\n",
        "0.969923902327\n"
       ]
      },
      {
       "output_type": "stream",
       "stream": "stderr",
       "text": [
        "/usr/local/lib/python2.7/dist-packages/sklearn/preprocessing/data.py:377: DeprecationWarning: Passing 1d arrays as data is deprecated in 0.17 and will raise ValueError in 0.19. Reshape your data either using X.reshape(-1, 1) if your data has a single feature or X.reshape(1, -1) if it contains a single sample.\n",
        "  warnings.warn(DEPRECATION_MSG_1D, DeprecationWarning)\n"
       ]
      }
     ],
     "prompt_number": 68
    },
    {
     "cell_type": "heading",
     "level": 1,
     "metadata": {},
     "source": [
      "Tuning Random Forest"
     ]
    },
    {
     "cell_type": "code",
     "collapsed": false,
     "input": [
      "estimator = RandomForestRegressor(n_estimators=220, max_depth=3, max_features=sliding_number, min_samples_leaf=3)\n",
      "param_grid = {\n",
      "#               \"n_estimators\":np.arange(200,800,step=20)\n",
      "#               'max_depth':range(3,16,1),\n",
      "              'min_samples_split':range(1,20,1),\n",
      "#               'min_samples_leaf':range(1,10,1)\n",
      "#                 'max_features':range(1,4,1)\n",
      "#                 'subsample':np.arange(0.7,0.9,0.1)\n",
      "}\n",
      "grid_search = GridSearchCV(estimator,param_grid,scoring='mean_absolute_error',cv=10, n_jobs=1)\n",
      "grid_search.fit(X_train_nn,y_train_nn.ravel())\n",
      "estimator = grid_search.best_estimator_\n",
      "print estimator\n",
      "y_pred = estimator.predict(X_test_nn)\n",
      "print mean_absolute_error(scaler.inverse_transform(y_pred), y_actual_test)"
     ],
     "language": "python",
     "metadata": {},
     "outputs": [
      {
       "output_type": "stream",
       "stream": "stdout",
       "text": [
        "RandomForestRegressor(bootstrap=True, criterion='mse', max_depth=3,\n",
        "           max_features=3, max_leaf_nodes=None, min_samples_leaf=3,\n",
        "           min_samples_split=4, min_weight_fraction_leaf=0.0,\n",
        "           n_estimators=220, n_jobs=1, oob_score=False, random_state=None,\n",
        "           verbose=0, warm_start=False)\n",
        "0.792554878115\n"
       ]
      },
      {
       "output_type": "stream",
       "stream": "stderr",
       "text": [
        "/usr/local/lib/python2.7/dist-packages/sklearn/preprocessing/data.py:377: DeprecationWarning: Passing 1d arrays as data is deprecated in 0.17 and will raise ValueError in 0.19. Reshape your data either using X.reshape(-1, 1) if your data has a single feature or X.reshape(1, -1) if it contains a single sample.\n",
        "  warnings.warn(DEPRECATION_MSG_1D, DeprecationWarning)\n"
       ]
      }
     ],
     "prompt_number": 56
    },
    {
     "cell_type": "heading",
     "level": 1,
     "metadata": {},
     "source": [
      "Tuning Extra Boosting"
     ]
    },
    {
     "cell_type": "code",
     "collapsed": false,
     "input": [
      "estimator = ExtraTreesRegressor(bootstrap=True, warm_start=True, \n",
      "                                max_features=sliding_number,n_estimators=700,max_depth=6, min_samples_split=4)\n",
      "param_grid = {\n",
      "#               \"n_estimators\":np.arange(500,800,step=10)\n",
      "#               'max_depth':range(3,16,1),\n",
      "#               'min_samples_split':range(1,20,1),\n",
      "#               'min_samples_leaf':range(1,10,1)\n",
      "#                 'max_features':range(1,4,1)\n",
      "#                 'subsample':np.arange(0.7,0.9,0.1)\n",
      "}\n",
      "grid_search = GridSearchCV(estimator,param_grid,scoring='mean_absolute_error',cv=10, n_jobs=-1)\n",
      "grid_search.fit(X_train_nn,y_train_nn.ravel())\n",
      "estimator = grid_search.best_estimator_\n",
      "print estimator\n",
      "y_pred = estimator.predict(X_test_nn)\n",
      "print mean_absolute_error(scaler.inverse_transform(y_pred), y_actual_test)"
     ],
     "language": "python",
     "metadata": {},
     "outputs": [
      {
       "output_type": "stream",
       "stream": "stdout",
       "text": [
        "ExtraTreesRegressor(bootstrap=True, criterion='mse', max_depth=6,\n",
        "          max_features=3, max_leaf_nodes=None, min_samples_leaf=1,\n",
        "          min_samples_split=4, min_weight_fraction_leaf=0.0,\n",
        "          n_estimators=700, n_jobs=1, oob_score=False, random_state=None,\n",
        "          verbose=0, warm_start=True)\n",
        "0.872524403138"
       ]
      },
      {
       "output_type": "stream",
       "stream": "stdout",
       "text": [
        "\n"
       ]
      },
      {
       "output_type": "stream",
       "stream": "stderr",
       "text": [
        "/usr/local/lib/python2.7/dist-packages/sklearn/preprocessing/data.py:377: DeprecationWarning: Passing 1d arrays as data is deprecated in 0.17 and will raise ValueError in 0.19. Reshape your data either using X.reshape(-1, 1) if your data has a single feature or X.reshape(1, -1) if it contains a single sample.\n",
        "  warnings.warn(DEPRECATION_MSG_1D, DeprecationWarning)\n"
       ]
      }
     ],
     "prompt_number": 64
    },
    {
     "cell_type": "code",
     "collapsed": false,
     "input": [
      "# estimator = BaggingRegressor()\n",
      "# param_grid = {\n",
      "#               \"n_estimators\":np.arange(200,800,step=10)\n",
      "# #               'max_depth':range(3,16,1),\n",
      "# #               'min_samples_split':range(1,20,1),\n",
      "# #               'min_samples_leaf':range(1,10,1)\n",
      "# #                 'max_features':range(1,4,1)\n",
      "# #                 'subsample':np.arange(0.7,0.9,0.1)\n",
      "# }\n",
      "# grid_search = GridSearchCV(estimator,param_grid,scoring='mean_absolute_error',cv=10, n_jobs=-1)\n",
      "# grid_search.fit(X_train_nn,y_train_nn.ravel())\n",
      "# estimator = grid_search.best_estimator_\n",
      "# print estimator\n",
      "# y_pred = estimator.predict(X_test_nn)\n",
      "# print mean_absolute_error(scaler.inverse_transform(y_pred), y_actual_test)"
     ],
     "language": "python",
     "metadata": {},
     "outputs": [
      {
       "output_type": "stream",
       "stream": "stdout",
       "text": [
        "BaggingRegressor(base_estimator=None, bootstrap=True,\n",
        "         bootstrap_features=False, max_features=1.0, max_samples=1.0,\n",
        "         n_estimators=600, n_jobs=1, oob_score=False, random_state=None,\n",
        "         verbose=0, warm_start=False)\n",
        "0.913472462391"
       ]
      },
      {
       "output_type": "stream",
       "stream": "stdout",
       "text": [
        "\n"
       ]
      },
      {
       "output_type": "stream",
       "stream": "stderr",
       "text": [
        "/usr/local/lib/python2.7/dist-packages/sklearn/preprocessing/data.py:377: DeprecationWarning: Passing 1d arrays as data is deprecated in 0.17 and will raise ValueError in 0.19. Reshape your data either using X.reshape(-1, 1) if your data has a single feature or X.reshape(1, -1) if it contains a single sample.\n",
        "  warnings.warn(DEPRECATION_MSG_1D, DeprecationWarning)\n"
       ]
      }
     ],
     "prompt_number": 68
    },
    {
     "cell_type": "code",
     "collapsed": false,
     "input": [
      "n_folds = 10\n",
      "\n",
      "kfold = KFold(y_train_nn.shape[0], n_folds=n_folds)\n",
      "dataset_blend_train = np.zeros((X_train_nn.shape[0],len(clf)))\n",
      "dataset_blend_test = np.zeros((X_test_nn.shape[0],len(clf)))\n",
      "y_train_nn = y_train_nn.ravel()\n",
      "for i, estimator in enumerate(clf):\n",
      "    dataset_tmp = np.zeros((X_test_nn.shape[0],len(kfold)))\n",
      "    for j, (train, test) in enumerate(kfold):\n",
      "        estimator.fit(X_train_nn[train],y_train_nn[train])\n",
      "        y_pred = estimator.predict(X_train_nn[test]).flatten()\n",
      "#         print y_pred\n",
      "        dataset_blend_train[test,i] = y_pred\n",
      "        dataset_tmp[:, j] = estimator.predict(X_test_nn).flatten()\n",
      "    dataset_blend_test[:,i] = dataset_tmp.mean(1)\n",
      "\n",
      "# np.savez(\"blend_train\",X_train =dataset_blend_train)\n",
      "# blend_estimator = Ridge(alpha=0.0001)\n",
      "# blend_estimator.fit(dataset_blend_train,y_train_nn)\n",
      "estimator = ExtraTreesRegressor(bootstrap=True,warm_start=True, n_estimators=190, max_depth=8, min_samples_split=5,\n",
      "                                max_features=sliding_number)\n",
      "                                \n",
      "param_grid = {\n",
      "#               'alpha':[0.0001,0.001,0.01,0.1,1,10]\n",
      "#               \"n_estimators\":np.arange(100,00,step=10)\n",
      "#               'max_depth':range(3,16,1),\n",
      "#               'min_samples_split':range(1,20,1),\n",
      "#               'min_samples_leaf':range(1,10,1)\n",
      "#                 'max_features':range(1,sliding_number,1)\n",
      "#                 'subsample':np.arange(0.7,0.9,0.1)\n",
      "\n",
      "}\n",
      "grid_search = GridSearchCV(estimator,param_grid,scoring='mean_absolute_error',cv=n_folds, n_jobs=-1)\n",
      "grid_search.fit(dataset_blend_train,y_train_nn.ravel())\n",
      "estimator = grid_search.best_estimator_\n",
      "print estimator\n",
      "y_pred = estimator.predict(dataset_blend_test)\n",
      "print mean_absolute_error(scaler.inverse_transform(y_pred), y_actual_test)"
     ],
     "language": "python",
     "metadata": {},
     "outputs": [
      {
       "output_type": "stream",
       "stream": "stdout",
       "text": [
        "ExtraTreesRegressor(bootstrap=True, criterion='mse', max_depth=8,\n",
        "          max_features=3, max_leaf_nodes=None, min_samples_leaf=1,\n",
        "          min_samples_split=5, min_weight_fraction_leaf=0.0,\n",
        "          n_estimators=190, n_jobs=1, oob_score=False, random_state=None,\n",
        "          verbose=0, warm_start=True)\n",
        "0.93535302413\n"
       ]
      },
      {
       "output_type": "stream",
       "stream": "stderr",
       "text": [
        "/usr/local/lib/python2.7/dist-packages/sklearn/preprocessing/data.py:377: DeprecationWarning: Passing 1d arrays as data is deprecated in 0.17 and will raise ValueError in 0.19. Reshape your data either using X.reshape(-1, 1) if your data has a single feature or X.reshape(1, -1) if it contains a single sample.\n",
        "  warnings.warn(DEPRECATION_MSG_1D, DeprecationWarning)\n"
       ]
      }
     ],
     "prompt_number": 178
    },
    {
     "cell_type": "code",
     "collapsed": false,
     "input": [
      "# dataset_blend_test = np.zeros((X_test_nn.shape[0],len(clf)))\n",
      "# for i, estimator in enumerate(clf):\n",
      "#     y_pred = estimator.predict(X_test_nn).flatten()\n",
      "#     dataset_blend_test[:,i] = y_pred"
     ],
     "language": "python",
     "metadata": {},
     "outputs": [],
     "prompt_number": 137
    },
    {
     "cell_type": "code",
     "collapsed": false,
     "input": [
      "%matplotlib\n",
      "plot_figure_with_label(y_pred=y_pred[100:300], y_test=y_test_nn[100:300], title=\"CPU Utilization %\")"
     ],
     "language": "python",
     "metadata": {},
     "outputs": [
      {
       "output_type": "stream",
       "stream": "stdout",
       "text": [
        "Using matplotlib backend: Qt4Agg\n"
       ]
      },
      {
       "output_type": "stream",
       "stream": "stderr",
       "text": [
        "/usr/local/lib/python2.7/dist-packages/matplotlib/cbook.py:137: MatplotlibDeprecationWarning: The set_color_cycle attribute was deprecated in version 1.5. Use set_prop_cycle instead.\n",
        "  warnings.warn(message, mplDeprecation, stacklevel=1)\n"
       ]
      },
      {
       "metadata": {},
       "output_type": "pyout",
       "prompt_number": 91,
       "text": [
        "<matplotlib.axes._subplots.AxesSubplot at 0x7fe4630135d0>"
       ]
      }
     ],
     "prompt_number": 91
    },
    {
     "cell_type": "code",
     "collapsed": false,
     "input": [],
     "language": "python",
     "metadata": {},
     "outputs": []
    }
   ],
   "metadata": {}
  }
 ]
}