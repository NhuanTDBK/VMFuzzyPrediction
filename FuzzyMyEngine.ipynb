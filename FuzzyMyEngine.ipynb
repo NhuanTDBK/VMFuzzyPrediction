{
 "metadata": {
  "name": ""
 },
 "nbformat": 3,
 "nbformat_minor": 0,
 "worksheets": [
  {
   "cells": [
    {
     "cell_type": "code",
     "collapsed": false,
     "input": [
      "from estimators.ACOEstimator import ACOEstimator\n",
      "from estimators.NeuralFlow import NeuralFlowRegressor\n",
      "from estimators.GAEstimator import GAEstimator\n",
      "from estimators.OptimizerNNEstimator import OptimizerNNEstimator\n",
      "from utils.GraphUtil import *\n",
      "from utils.initializer import *\n",
      "from estimators.FuzzyStep import *\n",
      "from estimators.FuzzyFlow import *\n",
      "from utils.SlidingWindowUtil import *\n",
      "from sklearn.preprocessing import MinMaxScaler\n",
      "from sklearn.metrics import mean_absolute_error,mean_squared_error\n",
      "from metrics.mean_absolute_percentage_error import mean_absolute_percentage_error"
     ],
     "language": "python",
     "metadata": {},
     "outputs": [],
     "prompt_number": 4
    },
    {
     "cell_type": "code",
     "collapsed": false,
     "input": [
      "scaler = MinMaxScaler()\n",
      "print 'FACO Model'\n",
      "# dat_usage = pd.read_csv('sample_610_10min.csv')['cpu_rate'][:2400]\n",
      "# dat_usage = pd.read_csv('cpu_usage.csv')['cpu_usage']\n",
      "dat_usage = pd.Series(scaler.fit_transform(pd.read_csv('sample_610_10min.csv')['mem_usage'][:2400]))\n",
      "# define training_set and testing _set\n",
      "training_set_size = 1000\n",
      "testing_set_size = 500\n",
      "\n",
      "\n",
      "######## FUZZY before TRAINING\n",
      "# length of sliding windows for input\n",
      "\n",
      "#define training_set, testing set\n",
      "X_train = np.zeros(training_set_size)\n",
      "for i in range (0,training_set_size):\n",
      "    X_train[i] = dat_usage[i]\n",
      "\n",
      "y_train = np.zeros(training_set_size)\n",
      "for i in range (0,training_set_size):\n",
      "    y_train[i] = dat_usage[i + 1]\n",
      "\n",
      "X_test = np.zeros(testing_set_size)\n",
      "for i in range (0,testing_set_size):\n",
      "    X_test[i] = dat_usage[i + training_set_size]\n",
      "\n",
      "y_test = np.zeros(testing_set_size - 1)\n",
      "for i in range (0,testing_set_size - 1):\n",
      "    y_test[i] = dat_usage[i + training_set_size + 1]\n",
      "\n",
      "# Number of hiddens node (one hidden layer)\n",
      "n_hidden = 300\n",
      "sliding_number = 5"
     ],
     "language": "python",
     "metadata": {},
     "outputs": [
      {
       "output_type": "stream",
       "stream": "stdout",
       "text": [
        "FACO Model\n"
       ]
      },
      {
       "output_type": "stream",
       "stream": "stderr",
       "text": [
        "/usr/local/lib/python2.7/dist-packages/sklearn/preprocessing/data.py:324: DeprecationWarning: Passing 1d arrays as data is deprecated in 0.17 and will raise ValueError in 0.19. Reshape your data either using X.reshape(-1, 1) if your data has a single feature or X.reshape(1, -1) if it contains a single sample.\n",
        "  warnings.warn(DEPRECATION_MSG_1D, DeprecationWarning)\n",
        "/usr/local/lib/python2.7/dist-packages/sklearn/preprocessing/data.py:359: DeprecationWarning: Passing 1d arrays as data is deprecated in 0.17 and will raise ValueError in 0.19. Reshape your data either using X.reshape(-1, 1) if your data has a single feature or X.reshape(1, -1) if it contains a single sample.\n",
        "  warnings.warn(DEPRECATION_MSG_1D, DeprecationWarning)\n"
       ]
      }
     ],
     "prompt_number": 5
    },
    {
     "cell_type": "code",
     "collapsed": false,
     "input": [
      "fuzzyEngine = FuzzyFlow(fuzzy_distance=0.03,fuzzy_set_size=26)\n",
      "X_train_f = np.array(fuzzyEngine.fit_transform(X_train))\n",
      "y_train_f = np.array(fuzzyEngine.fit_transform(y_train))[sliding_number-1:]\n",
      "X_test_f = np.array(fuzzyEngine.fit_transform(X_test))\n",
      "\n",
      "\n",
      "X_train_f = np.array(list(SlidingWindow(X_train_f,sliding_number,concatenate=True)))\n",
      "# y_train_f = np.array(fuzzy(y_train)[n_sliding_window-1:])\n",
      "X_test_f = np.array(list(SlidingWindow(X_test_f,sliding_number,concatenate=True)))\n",
      "# X_train_f, a = fuzzy(X_train,automf=True)\n",
      "# y_train_f,b = fuzzy(y_train,automf=True)\n",
      "# X_test_f,c = fuzzy(X_test,automf=True)\n",
      "neural_shape = [len(X_train_f[0]),n_hidden,len(y_train_f[0])]\n",
      "# Initialize neural network model for regression\n",
      "\n",
      "# <codecell>\n",
      "\n"
     ],
     "language": "python",
     "metadata": {},
     "outputs": [
      {
       "output_type": "stream",
       "stream": "stdout",
       "text": [
        "26\n",
        "26\n",
        "26\n"
       ]
      }
     ],
     "prompt_number": 6
    },
    {
     "cell_type": "code",
     "collapsed": false,
     "input": [
      "# Initialize ACO Estimator\n",
      "estimator = ACOEstimator(Q=0.651,epsilon=0.1,number_of_solutions=100)\n",
      "# estimator = GAEstimator(cross_rate=0.7, mutation_rate=0.01,pop_size=45)\n",
      "# estimator = GAEstimator(cross_rate=0.65,mutation_rate=0.01)\n",
      "fit_param = {'neural_shape':neural_shape}\n",
      "neuralNet = NeuralFlowRegressor(learning_rate=1E-03,verbose=1,steps=3000,activation='sigmoid')\n",
      "\n",
      "# There are many techniques for combining GA with NN. One of this, the optimizer solution of GA will be weights initialized of NN\n",
      "optimizer = OptimizerNNEstimator(estimator,neuralNet)\n",
      "# optimizer = neuralNet\n",
      "optimizer.fit(X_train_f,y_train_f,**fit_param)\n",
      "\n",
      "# <codecell>\n",
      "\n",
      "print  optimizer.score(X_train_f,y_train_f)\n",
      "y_pred = optimizer.predict(X_test_f)\n",
      "# #defuzzy step:\n",
      "ft = abs(defuzzy(X_test[sliding_number-1:],y_pred))\n",
      "#mean_squared_error\n",
      "score_fuzz = mean_squared_error(y_test[sliding_number-1:], ft)\n",
      "score_mae = mean_absolute_error(y_test[sliding_number-1:], ft)\n",
      "# score_mape = mean_absolute_percentage_error(y_pred=ft,y_true=y_test[sliding_number-1:])\n",
      "print \"Score rmse = %s, mae = %s\"%(score_fuzz,score_mae)\n",
      "np.savez('Fuzzy_Time_Series_%s_sliding_%s'%(score_fuzz,sliding_number),y_test=y_test[:190], y_pred=ft[:190])\n",
      "#plot graph\n",
      "#%matplotlib\n",
      "plot_figure(ft[:190],y_test[:190],color=['blue','red'],title='Fuzzy Time Series for RAM usage with sliding window = %s,hidden nodes = %s => rmse = %s'%(sliding_number,n_hidden,score_fuzz))\n",
      "# <codecell>\n"
     ],
     "language": "python",
     "metadata": {},
     "outputs": [
      {
       "output_type": "stream",
       "stream": "stdout",
       "text": [
        "Initialization\n",
        "Initilization\n",
        "Step #100, epoch #12, avg. train loss: 0.24070"
       ]
      },
      {
       "output_type": "stream",
       "stream": "stdout",
       "text": [
        "\n",
        "Step #200, epoch #25, avg. train loss: 0.01207"
       ]
      },
      {
       "output_type": "stream",
       "stream": "stdout",
       "text": [
        "\n",
        "Step #300, epoch #37, avg. train loss: 0.01096"
       ]
      },
      {
       "output_type": "stream",
       "stream": "stdout",
       "text": [
        "\n",
        "Step #400, epoch #50, avg. train loss: 0.01029"
       ]
      },
      {
       "output_type": "stream",
       "stream": "stdout",
       "text": [
        "\n",
        "Step #500, epoch #62, avg. train loss: 0.00987"
       ]
      },
      {
       "output_type": "stream",
       "stream": "stdout",
       "text": [
        "\n",
        "Step #600, epoch #75, avg. train loss: 0.00946"
       ]
      },
      {
       "output_type": "stream",
       "stream": "stdout",
       "text": [
        "\n",
        "Step #700, epoch #87, avg. train loss: 0.00910"
       ]
      },
      {
       "output_type": "stream",
       "stream": "stdout",
       "text": [
        "\n",
        "Step #800, epoch #100, avg. train loss: 0.00884"
       ]
      },
      {
       "output_type": "stream",
       "stream": "stdout",
       "text": [
        "\n",
        "Step #900, epoch #112, avg. train loss: 0.00856"
       ]
      },
      {
       "output_type": "stream",
       "stream": "stdout",
       "text": [
        "\n",
        "Step #1000, epoch #125, avg. train loss: 0.00827"
       ]
      },
      {
       "output_type": "stream",
       "stream": "stdout",
       "text": [
        "\n",
        "Step #1100, epoch #137, avg. train loss: 0.00813"
       ]
      },
      {
       "output_type": "stream",
       "stream": "stdout",
       "text": [
        "\n",
        "Step #1200, epoch #150, avg. train loss: 0.00774"
       ]
      },
      {
       "output_type": "stream",
       "stream": "stdout",
       "text": [
        "\n",
        "Step #1300, epoch #162, avg. train loss: 0.00764"
       ]
      },
      {
       "output_type": "stream",
       "stream": "stdout",
       "text": [
        "\n",
        "Step #1400, epoch #175, avg. train loss: 0.00742"
       ]
      },
      {
       "output_type": "stream",
       "stream": "stdout",
       "text": [
        "\n",
        "Step #1500, epoch #187, avg. train loss: 0.00717"
       ]
      },
      {
       "output_type": "stream",
       "stream": "stdout",
       "text": [
        "\n",
        "Step #1600, epoch #200, avg. train loss: 0.00709"
       ]
      },
      {
       "output_type": "stream",
       "stream": "stdout",
       "text": [
        "\n",
        "Step #1700, epoch #212, avg. train loss: 0.00688"
       ]
      },
      {
       "output_type": "stream",
       "stream": "stdout",
       "text": [
        "\n",
        "Step #1800, epoch #225, avg. train loss: 0.00684"
       ]
      },
      {
       "output_type": "stream",
       "stream": "stdout",
       "text": [
        "\n",
        "Step #1900, epoch #237, avg. train loss: 0.00668"
       ]
      },
      {
       "output_type": "stream",
       "stream": "stdout",
       "text": [
        "\n",
        "Step #2000, epoch #250, avg. train loss: 0.00664"
       ]
      },
      {
       "output_type": "stream",
       "stream": "stdout",
       "text": [
        "\n",
        "Step #2100, epoch #262, avg. train loss: 0.00634"
       ]
      },
      {
       "output_type": "stream",
       "stream": "stdout",
       "text": [
        "\n",
        "Step #2200, epoch #275, avg. train loss: 0.00632"
       ]
      },
      {
       "output_type": "stream",
       "stream": "stdout",
       "text": [
        "\n",
        "Step #2300, epoch #287, avg. train loss: 0.00616"
       ]
      },
      {
       "output_type": "stream",
       "stream": "stdout",
       "text": [
        "\n",
        "Step #2400, epoch #300, avg. train loss: 0.00609"
       ]
      },
      {
       "output_type": "stream",
       "stream": "stdout",
       "text": [
        "\n",
        "Step #2500, epoch #312, avg. train loss: 0.00601"
       ]
      },
      {
       "output_type": "stream",
       "stream": "stdout",
       "text": [
        "\n",
        "Step #2600, epoch #325, avg. train loss: 0.00596"
       ]
      },
      {
       "output_type": "stream",
       "stream": "stdout",
       "text": [
        "\n",
        "Step #2700, epoch #337, avg. train loss: 0.00583"
       ]
      },
      {
       "output_type": "stream",
       "stream": "stdout",
       "text": [
        "\n",
        "Step #2800, epoch #350, avg. train loss: 0.00582"
       ]
      },
      {
       "output_type": "stream",
       "stream": "stdout",
       "text": [
        "\n",
        "Step #2900, epoch #362, avg. train loss: 0.00569"
       ]
      },
      {
       "output_type": "stream",
       "stream": "stdout",
       "text": [
        "\n",
        "Step #3000, epoch #375, avg. train loss: 0.00570"
       ]
      },
      {
       "output_type": "stream",
       "stream": "stdout",
       "text": [
        "\n",
        "Step #3100, epoch #12, avg. train loss: 0.00763"
       ]
      },
      {
       "output_type": "stream",
       "stream": "stdout",
       "text": [
        "\n",
        "Step #3200, epoch #25, avg. train loss: 0.00645"
       ]
      },
      {
       "output_type": "stream",
       "stream": "stdout",
       "text": [
        "\n",
        "Step #3300, epoch #37, avg. train loss: 0.00615"
       ]
      },
      {
       "output_type": "stream",
       "stream": "stdout",
       "text": [
        "\n",
        "Step #3400, epoch #50, avg. train loss: 0.00597"
       ]
      },
      {
       "output_type": "stream",
       "stream": "stdout",
       "text": [
        "\n",
        "Step #3500, epoch #62, avg. train loss: 0.00580"
       ]
      },
      {
       "output_type": "stream",
       "stream": "stdout",
       "text": [
        "\n",
        "Step #3600, epoch #75, avg. train loss: 0.00570"
       ]
      },
      {
       "output_type": "stream",
       "stream": "stdout",
       "text": [
        "\n",
        "Step #3700, epoch #87, avg. train loss: 0.00548"
       ]
      },
      {
       "output_type": "stream",
       "stream": "stdout",
       "text": [
        "\n",
        "Step #3800, epoch #100, avg. train loss: 0.00543"
       ]
      },
      {
       "output_type": "stream",
       "stream": "stdout",
       "text": [
        "\n",
        "Step #3900, epoch #112, avg. train loss: 0.00523"
       ]
      },
      {
       "output_type": "stream",
       "stream": "stdout",
       "text": [
        "\n",
        "Step #4000, epoch #125, avg. train loss: 0.00520"
       ]
      },
      {
       "output_type": "stream",
       "stream": "stdout",
       "text": [
        "\n",
        "Step #4100, epoch #137, avg. train loss: 0.00508"
       ]
      },
      {
       "output_type": "stream",
       "stream": "stdout",
       "text": [
        "\n",
        "Step #4200, epoch #150, avg. train loss: 0.00495"
       ]
      },
      {
       "output_type": "stream",
       "stream": "stdout",
       "text": [
        "\n",
        "Step #4300, epoch #162, avg. train loss: 0.00484"
       ]
      },
      {
       "output_type": "stream",
       "stream": "stdout",
       "text": [
        "\n",
        "Step #4400, epoch #175, avg. train loss: 0.00490"
       ]
      },
      {
       "output_type": "stream",
       "stream": "stdout",
       "text": [
        "\n",
        "Step #4500, epoch #187, avg. train loss: 0.00472"
       ]
      },
      {
       "output_type": "stream",
       "stream": "stdout",
       "text": [
        "\n",
        "Step #4600, epoch #200, avg. train loss: 0.00467"
       ]
      },
      {
       "output_type": "stream",
       "stream": "stdout",
       "text": [
        "\n",
        "Step #4700, epoch #212, avg. train loss: 0.00451"
       ]
      },
      {
       "output_type": "stream",
       "stream": "stdout",
       "text": [
        "\n",
        "Step #4800, epoch #225, avg. train loss: 0.00457"
       ]
      },
      {
       "output_type": "stream",
       "stream": "stdout",
       "text": [
        "\n",
        "Step #4900, epoch #237, avg. train loss: 0.00439"
       ]
      },
      {
       "output_type": "stream",
       "stream": "stdout",
       "text": [
        "\n",
        "Step #5000, epoch #250, avg. train loss: 0.00448"
       ]
      },
      {
       "output_type": "stream",
       "stream": "stdout",
       "text": [
        "\n",
        "Step #5100, epoch #262, avg. train loss: 0.00436"
       ]
      },
      {
       "output_type": "stream",
       "stream": "stdout",
       "text": [
        "\n",
        "Step #5200, epoch #275, avg. train loss: 0.00419"
       ]
      },
      {
       "output_type": "stream",
       "stream": "stdout",
       "text": [
        "\n",
        "Step #5300, epoch #287, avg. train loss: 0.00414"
       ]
      },
      {
       "output_type": "stream",
       "stream": "stdout",
       "text": [
        "\n",
        "Step #5400, epoch #300, avg. train loss: 0.00414"
       ]
      },
      {
       "output_type": "stream",
       "stream": "stdout",
       "text": [
        "\n",
        "Step #5500, epoch #312, avg. train loss: 0.00407"
       ]
      },
      {
       "output_type": "stream",
       "stream": "stdout",
       "text": [
        "\n",
        "Step #5600, epoch #325, avg. train loss: 0.00406"
       ]
      },
      {
       "output_type": "stream",
       "stream": "stdout",
       "text": [
        "\n",
        "Step #5700, epoch #337, avg. train loss: 0.00389"
       ]
      },
      {
       "output_type": "stream",
       "stream": "stdout",
       "text": [
        "\n",
        "Step #5800, epoch #350, avg. train loss: 0.00397"
       ]
      },
      {
       "output_type": "stream",
       "stream": "stdout",
       "text": [
        "\n",
        "Step #5900, epoch #362, avg. train loss: 0.00377"
       ]
      },
      {
       "output_type": "stream",
       "stream": "stdout",
       "text": [
        "\n",
        "Step #6000, epoch #375, avg. train loss: 0.00386"
       ]
      },
      {
       "output_type": "stream",
       "stream": "stdout",
       "text": [
        "\n",
        "Step #6100, epoch #12, avg. train loss: 0.00530"
       ]
      },
      {
       "output_type": "stream",
       "stream": "stdout",
       "text": [
        "\n",
        "Step #6200, epoch #25, avg. train loss: 0.00469"
       ]
      },
      {
       "output_type": "stream",
       "stream": "stdout",
       "text": [
        "\n",
        "Step #6300, epoch #37, avg. train loss: 0.00457"
       ]
      },
      {
       "output_type": "stream",
       "stream": "stdout",
       "text": [
        "\n",
        "Step #6400, epoch #50, avg. train loss: 0.00448"
       ]
      },
      {
       "output_type": "stream",
       "stream": "stdout",
       "text": [
        "\n",
        "Step #6500, epoch #62, avg. train loss: 0.00445"
       ]
      },
      {
       "output_type": "stream",
       "stream": "stdout",
       "text": [
        "\n",
        "Step #6600, epoch #75, avg. train loss: 0.00440"
       ]
      },
      {
       "output_type": "stream",
       "stream": "stdout",
       "text": [
        "\n",
        "Step #6700, epoch #87, avg. train loss: 0.00420"
       ]
      },
      {
       "output_type": "stream",
       "stream": "stdout",
       "text": [
        "\n",
        "Step #6800, epoch #100, avg. train loss: 0.00426"
       ]
      },
      {
       "output_type": "stream",
       "stream": "stdout",
       "text": [
        "\n",
        "Step #6900, epoch #112, avg. train loss: 0.00412"
       ]
      },
      {
       "output_type": "stream",
       "stream": "stdout",
       "text": [
        "\n",
        "Step #7000, epoch #125, avg. train loss: 0.00415"
       ]
      },
      {
       "output_type": "stream",
       "stream": "stdout",
       "text": [
        "\n",
        "Step #7100, epoch #137, avg. train loss: 0.00408"
       ]
      },
      {
       "output_type": "stream",
       "stream": "stdout",
       "text": [
        "\n",
        "Step #7200, epoch #150, avg. train loss: 0.00414"
       ]
      },
      {
       "output_type": "stream",
       "stream": "stdout",
       "text": [
        "\n",
        "Step #7300, epoch #162, avg. train loss: 0.00392"
       ]
      },
      {
       "output_type": "stream",
       "stream": "stdout",
       "text": [
        "\n",
        "Step #7400, epoch #175, avg. train loss: 0.00386"
       ]
      },
      {
       "output_type": "stream",
       "stream": "stdout",
       "text": [
        "\n",
        "Step #7500, epoch #187, avg. train loss: 0.00376"
       ]
      },
      {
       "output_type": "stream",
       "stream": "stdout",
       "text": [
        "\n",
        "Step #7600, epoch #200, avg. train loss: 0.00375"
       ]
      },
      {
       "output_type": "stream",
       "stream": "stdout",
       "text": [
        "\n",
        "Step #7700, epoch #212, avg. train loss: 0.00378"
       ]
      },
      {
       "output_type": "stream",
       "stream": "stdout",
       "text": [
        "\n",
        "Step #7800, epoch #225, avg. train loss: 0.00377"
       ]
      },
      {
       "output_type": "stream",
       "stream": "stdout",
       "text": [
        "\n",
        "Step #7900, epoch #237, avg. train loss: 0.00383"
       ]
      },
      {
       "output_type": "stream",
       "stream": "stdout",
       "text": [
        "\n",
        "Step #8000, epoch #250, avg. train loss: 0.00367"
       ]
      },
      {
       "output_type": "stream",
       "stream": "stdout",
       "text": [
        "\n",
        "Step #8100, epoch #262, avg. train loss: 0.00367"
       ]
      },
      {
       "output_type": "stream",
       "stream": "stdout",
       "text": [
        "\n",
        "Step #8200, epoch #275, avg. train loss: 0.00349"
       ]
      },
      {
       "output_type": "stream",
       "stream": "stdout",
       "text": [
        "\n",
        "Step #8300, epoch #287, avg. train loss: 0.00358"
       ]
      },
      {
       "output_type": "stream",
       "stream": "stdout",
       "text": [
        "\n",
        "Step #8400, epoch #300, avg. train loss: 0.00376"
       ]
      },
      {
       "output_type": "stream",
       "stream": "stdout",
       "text": [
        "\n",
        "Step #8500, epoch #312, avg. train loss: 0.00359"
       ]
      },
      {
       "output_type": "stream",
       "stream": "stdout",
       "text": [
        "\n",
        "Step #8600, epoch #325, avg. train loss: 0.00342"
       ]
      },
      {
       "output_type": "stream",
       "stream": "stdout",
       "text": [
        "\n",
        "Step #8700, epoch #337, avg. train loss: 0.00346"
       ]
      },
      {
       "output_type": "stream",
       "stream": "stdout",
       "text": [
        "\n",
        "Step #8800, epoch #350, avg. train loss: 0.00342"
       ]
      },
      {
       "output_type": "stream",
       "stream": "stdout",
       "text": [
        "\n",
        "Step #8900, epoch #362, avg. train loss: 0.00346"
       ]
      },
      {
       "output_type": "stream",
       "stream": "stdout",
       "text": [
        "\n",
        "Step #9000, epoch #375, avg. train loss: 0.00338"
       ]
      },
      {
       "output_type": "stream",
       "stream": "stdout",
       "text": [
        "\n",
        "Step #9100, epoch #12, avg. train loss: 0.00457"
       ]
      },
      {
       "output_type": "stream",
       "stream": "stdout",
       "text": [
        "\n",
        "Step #9200, epoch #25, avg. train loss: 0.00352"
       ]
      },
      {
       "output_type": "stream",
       "stream": "stdout",
       "text": [
        "\n",
        "Step #9300, epoch #37, avg. train loss: 0.00340"
       ]
      },
      {
       "output_type": "stream",
       "stream": "stdout",
       "text": [
        "\n",
        "Step #9400, epoch #50, avg. train loss: 0.00325"
       ]
      },
      {
       "output_type": "stream",
       "stream": "stdout",
       "text": [
        "\n",
        "Step #9500, epoch #62, avg. train loss: 0.00324"
       ]
      },
      {
       "output_type": "stream",
       "stream": "stdout",
       "text": [
        "\n",
        "Step #9600, epoch #75, avg. train loss: 0.00323"
       ]
      },
      {
       "output_type": "stream",
       "stream": "stdout",
       "text": [
        "\n",
        "Step #9700, epoch #87, avg. train loss: 0.00318"
       ]
      },
      {
       "output_type": "stream",
       "stream": "stdout",
       "text": [
        "\n",
        "Step #9800, epoch #100, avg. train loss: 0.00315"
       ]
      },
      {
       "output_type": "stream",
       "stream": "stdout",
       "text": [
        "\n",
        "Step #9900, epoch #112, avg. train loss: 0.00317"
       ]
      },
      {
       "output_type": "stream",
       "stream": "stdout",
       "text": [
        "\n",
        "Step #10000, epoch #125, avg. train loss: 0.00312"
       ]
      },
      {
       "output_type": "stream",
       "stream": "stdout",
       "text": [
        "\n",
        "Step #10100, epoch #137, avg. train loss: 0.00306"
       ]
      },
      {
       "output_type": "stream",
       "stream": "stdout",
       "text": [
        "\n",
        "Step #10200, epoch #150, avg. train loss: 0.00310"
       ]
      },
      {
       "output_type": "stream",
       "stream": "stdout",
       "text": [
        "\n",
        "Step #10300, epoch #162, avg. train loss: 0.00319"
       ]
      },
      {
       "output_type": "stream",
       "stream": "stdout",
       "text": [
        "\n",
        "Step #10400, epoch #175, avg. train loss: 0.00310"
       ]
      },
      {
       "output_type": "stream",
       "stream": "stdout",
       "text": [
        "\n",
        "Step #10500, epoch #187, avg. train loss: 0.00296"
       ]
      },
      {
       "output_type": "stream",
       "stream": "stdout",
       "text": [
        "\n",
        "Step #10600, epoch #200, avg. train loss: 0.00291"
       ]
      },
      {
       "output_type": "stream",
       "stream": "stdout",
       "text": [
        "\n",
        "Step #10700, epoch #212, avg. train loss: 0.00298"
       ]
      },
      {
       "output_type": "stream",
       "stream": "stdout",
       "text": [
        "\n",
        "Step #10800, epoch #225, avg. train loss: 0.00285"
       ]
      },
      {
       "output_type": "stream",
       "stream": "stdout",
       "text": [
        "\n",
        "Step #10900, epoch #237, avg. train loss: 0.00282"
       ]
      },
      {
       "output_type": "stream",
       "stream": "stdout",
       "text": [
        "\n",
        "Step #11000, epoch #250, avg. train loss: 0.00307"
       ]
      },
      {
       "output_type": "stream",
       "stream": "stdout",
       "text": [
        "\n",
        "Step #11100, epoch #262, avg. train loss: 0.00287"
       ]
      },
      {
       "output_type": "stream",
       "stream": "stdout",
       "text": [
        "\n",
        "Step #11200, epoch #275, avg. train loss: 0.00285"
       ]
      },
      {
       "output_type": "stream",
       "stream": "stdout",
       "text": [
        "\n",
        "Step #11300, epoch #287, avg. train loss: 0.00291"
       ]
      },
      {
       "output_type": "stream",
       "stream": "stdout",
       "text": [
        "\n",
        "Step #11400, epoch #300, avg. train loss: 0.00306"
       ]
      },
      {
       "output_type": "stream",
       "stream": "stdout",
       "text": [
        "\n",
        "Step #11500, epoch #312, avg. train loss: 0.00300"
       ]
      },
      {
       "output_type": "stream",
       "stream": "stdout",
       "text": [
        "\n",
        "Step #11600, epoch #325, avg. train loss: 0.00280"
       ]
      },
      {
       "output_type": "stream",
       "stream": "stdout",
       "text": [
        "\n",
        "Step #11700, epoch #337, avg. train loss: 0.00267"
       ]
      },
      {
       "output_type": "stream",
       "stream": "stdout",
       "text": [
        "\n",
        "Step #11800, epoch #350, avg. train loss: 0.00274"
       ]
      },
      {
       "output_type": "stream",
       "stream": "stdout",
       "text": [
        "\n",
        "Step #11900, epoch #362, avg. train loss: 0.00282"
       ]
      },
      {
       "output_type": "stream",
       "stream": "stdout",
       "text": [
        "\n",
        "Step #12000, epoch #375, avg. train loss: 0.00273"
       ]
      },
      {
       "output_type": "stream",
       "stream": "stdout",
       "text": [
        "\n",
        "Step #12100, epoch #12, avg. train loss: 0.00361"
       ]
      },
      {
       "output_type": "stream",
       "stream": "stdout",
       "text": [
        "\n",
        "Step #12200, epoch #25, avg. train loss: 0.00330"
       ]
      },
      {
       "output_type": "stream",
       "stream": "stdout",
       "text": [
        "\n",
        "Step #12300, epoch #37, avg. train loss: 0.00311"
       ]
      },
      {
       "output_type": "stream",
       "stream": "stdout",
       "text": [
        "\n",
        "Step #12400, epoch #50, avg. train loss: 0.00310"
       ]
      },
      {
       "output_type": "stream",
       "stream": "stdout",
       "text": [
        "\n",
        "Step #12500, epoch #62, avg. train loss: 0.00317"
       ]
      },
      {
       "output_type": "stream",
       "stream": "stdout",
       "text": [
        "\n",
        "Step #12600, epoch #75, avg. train loss: 0.00307"
       ]
      },
      {
       "output_type": "stream",
       "stream": "stdout",
       "text": [
        "\n",
        "Step #12700, epoch #87, avg. train loss: 0.00292"
       ]
      },
      {
       "output_type": "stream",
       "stream": "stdout",
       "text": [
        "\n",
        "Step #12800, epoch #100, avg. train loss: 0.00303"
       ]
      },
      {
       "output_type": "stream",
       "stream": "stdout",
       "text": [
        "\n",
        "Step #12900, epoch #112, avg. train loss: 0.00298"
       ]
      },
      {
       "output_type": "stream",
       "stream": "stdout",
       "text": [
        "\n",
        "Step #13000, epoch #125, avg. train loss: 0.00301"
       ]
      },
      {
       "output_type": "stream",
       "stream": "stdout",
       "text": [
        "\n",
        "Step #13100, epoch #137, avg. train loss: 0.00304"
       ]
      },
      {
       "output_type": "stream",
       "stream": "stdout",
       "text": [
        "\n",
        "Step #13200, epoch #150, avg. train loss: 0.00295"
       ]
      },
      {
       "output_type": "stream",
       "stream": "stdout",
       "text": [
        "\n",
        "Step #13300, epoch #162, avg. train loss: 0.00279"
       ]
      },
      {
       "output_type": "stream",
       "stream": "stdout",
       "text": [
        "\n",
        "Step #13400, epoch #175, avg. train loss: 0.00305"
       ]
      },
      {
       "output_type": "stream",
       "stream": "stdout",
       "text": [
        "\n",
        "Step #13500, epoch #187, avg. train loss: 0.00294"
       ]
      },
      {
       "output_type": "stream",
       "stream": "stdout",
       "text": [
        "\n",
        "Step #13600, epoch #200, avg. train loss: 0.00276"
       ]
      },
      {
       "output_type": "stream",
       "stream": "stdout",
       "text": [
        "\n",
        "Step #13700, epoch #212, avg. train loss: 0.00280"
       ]
      },
      {
       "output_type": "stream",
       "stream": "stdout",
       "text": [
        "\n",
        "Step #13800, epoch #225, avg. train loss: 0.00283"
       ]
      },
      {
       "output_type": "stream",
       "stream": "stdout",
       "text": [
        "\n",
        "Step #13900, epoch #237, avg. train loss: 0.00275"
       ]
      },
      {
       "output_type": "stream",
       "stream": "stdout",
       "text": [
        "\n",
        "Step #14000, epoch #250, avg. train loss: 0.00286"
       ]
      },
      {
       "output_type": "stream",
       "stream": "stdout",
       "text": [
        "\n",
        "Step #14100, epoch #262, avg. train loss: 0.00271"
       ]
      },
      {
       "output_type": "stream",
       "stream": "stdout",
       "text": [
        "\n",
        "Step #14200, epoch #275, avg. train loss: 0.00283"
       ]
      },
      {
       "output_type": "stream",
       "stream": "stdout",
       "text": [
        "\n",
        "Step #14300, epoch #287, avg. train loss: 0.00276"
       ]
      },
      {
       "output_type": "stream",
       "stream": "stdout",
       "text": [
        "\n",
        "Step #14400, epoch #300, avg. train loss: 0.00292"
       ]
      },
      {
       "output_type": "stream",
       "stream": "stdout",
       "text": [
        "\n",
        "Step #14500, epoch #312, avg. train loss: 0.00278"
       ]
      },
      {
       "output_type": "stream",
       "stream": "stdout",
       "text": [
        "\n",
        "Step #14600, epoch #325, avg. train loss: 0.00270"
       ]
      },
      {
       "output_type": "stream",
       "stream": "stdout",
       "text": [
        "\n",
        "Step #14700, epoch #337, avg. train loss: 0.00266"
       ]
      },
      {
       "output_type": "stream",
       "stream": "stdout",
       "text": [
        "\n",
        "Step #14800, epoch #350, avg. train loss: 0.00260"
       ]
      },
      {
       "output_type": "stream",
       "stream": "stdout",
       "text": [
        "\n",
        "Step #14900, epoch #362, avg. train loss: 0.00276"
       ]
      },
      {
       "output_type": "stream",
       "stream": "stdout",
       "text": [
        "\n",
        "Step #15000, epoch #375, avg. train loss: 0.00261"
       ]
      },
      {
       "output_type": "stream",
       "stream": "stdout",
       "text": [
        "\n",
        "0.00399316999904\n",
        "ok"
       ]
      },
      {
       "output_type": "stream",
       "stream": "stdout",
       "text": [
        "\n",
        "Score rmse = 0.00253039181569, mae = 0.0344325143171\n"
       ]
      }
     ],
     "prompt_number": 8
    },
    {
     "cell_type": "code",
     "collapsed": false,
     "input": [
      "fuzzyEngine.difference.max()/0.026 + 1"
     ],
     "language": "python",
     "metadata": {},
     "outputs": [
      {
       "metadata": {},
       "output_type": "pyout",
       "prompt_number": 14,
       "text": [
        "25.072554744272107"
       ]
      }
     ],
     "prompt_number": 14
    }
   ],
   "metadata": {}
  }
 ]
}