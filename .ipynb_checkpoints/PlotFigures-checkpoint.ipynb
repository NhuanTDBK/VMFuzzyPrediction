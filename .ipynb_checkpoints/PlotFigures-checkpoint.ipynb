{
 "metadata": {
  "name": "",
  "signature": "sha256:0ee67e892ca21113aa71d6f4552646cc45161a8052bcf5ecce00b03f0def5a11"
 },
 "nbformat": 3,
 "nbformat_minor": 0,
 "worksheets": [
  {
   "cells": [
    {
     "cell_type": "code",
     "collapsed": false,
     "input": [
      "from scaling.ProactiveSLA import ProactiveSLA\n",
      "from utils.load_result import *\n",
      "from utils.GraphUtil import *\n",
      "import matplotlib.pyplot as plt\n",
      "import numpy as np\n",
      "from scaling.ProactiveManager import ProactiveManager\n",
      "import pandas as pd\n",
      "# import seaborn as sb"
     ],
     "language": "python",
     "metadata": {},
     "outputs": [],
     "prompt_number": 1
    },
    {
     "cell_type": "code",
     "collapsed": false,
     "input": [
      "dat = pd.read_csv(\"data/gdata/sampling_617685_metric_1min_datetime.csv\")\n",
      "metric = {\n",
      "    \"mem_usage\":1,\n",
      "    \"cpu_rate\":1\n",
      "}\n",
      "dat.cpu_rate = dat.cpu_rate/metric['cpu_rate']\n",
      "dat.mem_usage = dat.mem_usage/metric['mem_usage']"
     ],
     "language": "python",
     "metadata": {},
     "outputs": [],
     "prompt_number": 2
    },
    {
     "cell_type": "code",
     "collapsed": false,
     "input": [
      "%matplotlib\n",
      "dat.mem_usage.plot()"
     ],
     "language": "python",
     "metadata": {},
     "outputs": [
      {
       "output_type": "stream",
       "stream": "stdout",
       "text": [
        "Using matplotlib backend: Qt4Agg\n"
       ]
      },
      {
       "metadata": {},
       "output_type": "pyout",
       "prompt_number": 116,
       "text": [
        "<matplotlib.axes._subplots.AxesSubplot at 0x7f4d740a5e10>"
       ]
      }
     ],
     "prompt_number": 116
    },
    {
     "cell_type": "code",
     "collapsed": false,
     "input": [
      "%matplotlib\n",
      "ax = dat.cpu_rate[0:2000].plot(kind='line', title=\"CPU Trace\")\n",
      "ax.set_xlabel('Time (seconds)')\n",
      "ax.set_ylabel('CPU Usage')\n",
      "ax.grid(False)"
     ],
     "language": "python",
     "metadata": {},
     "outputs": [
      {
       "output_type": "stream",
       "stream": "stdout",
       "text": [
        "Using matplotlib backend: Qt4Agg\n"
       ]
      }
     ],
     "prompt_number": 6
    },
    {
     "cell_type": "code",
     "collapsed": false,
     "input": [
      "%matplotlib\n",
      "ax = dat.mem_usage[11000:15000].plot(kind='line', title=\"Memory Trace\")\n",
      "ax.set_xlabel('Time (seconds)')\n",
      "ax.set_ylabel('Memory Usage (%)')\n",
      "ax.grid(False)"
     ],
     "language": "python",
     "metadata": {},
     "outputs": [
      {
       "output_type": "stream",
       "stream": "stdout",
       "text": [
        "Using matplotlib backend: Qt4Agg\n"
       ]
      }
     ],
     "prompt_number": 5
    },
    {
     "cell_type": "heading",
     "level": 1,
     "metadata": {},
     "source": [
      "Trace Plot"
     ]
    },
    {
     "cell_type": "code",
     "collapsed": false,
     "input": [
      "%matplotlib\n",
      "bpnnpred, bpnntest = load_file('model_saved/Result_27_6/BPNN_2_0.801036813235.npz')\n",
      "ax = pd.Series(bpnntest).plot(kind='line', title=\"Memory Trace\")\n",
      "ax.set_xlabel('Time (seconds)')\n",
      "ax.set_ylabel('Memory Usage (%)')"
     ],
     "language": "python",
     "metadata": {},
     "outputs": [
      {
       "output_type": "stream",
       "stream": "stdout",
       "text": [
        "Using matplotlib backend: Qt4Agg\n"
       ]
      },
      {
       "metadata": {},
       "output_type": "pyout",
       "prompt_number": 4,
       "text": [
        "<matplotlib.text.Text at 0x7f8f587f8ed0>"
       ]
      }
     ],
     "prompt_number": 4
    },
    {
     "cell_type": "code",
     "collapsed": false,
     "input": [
      "%matplotlib\n",
      "pred, test = load_file('model_saved/BPNN_2_0.0473775280419.npz')\n",
      "ax = pd.Series(test[100:400]).plot(kind='line',title='Memory Trace')\n",
      "ax.set_xlabel('Time (minutes)')\n",
      "ax.set_ylabel('Memory Usage (%)')"
     ],
     "language": "python",
     "metadata": {},
     "outputs": [
      {
       "output_type": "stream",
       "stream": "stdout",
       "text": [
        "Using matplotlib backend: Qt4Agg\n"
       ]
      },
      {
       "metadata": {},
       "output_type": "pyout",
       "prompt_number": 80,
       "text": [
        "<matplotlib.text.Text at 0x7fb9c0b4f1d0>"
       ]
      }
     ],
     "prompt_number": 80
    },
    {
     "cell_type": "heading",
     "level": 1,
     "metadata": {},
     "source": [
      "Prediction Plot"
     ]
    },
    {
     "cell_type": "heading",
     "level": 2,
     "metadata": {},
     "source": [
      "CPU Univariate"
     ]
    },
    {
     "cell_type": "code",
     "collapsed": false,
     "input": [
      "%matplotlib\n",
      "range_plot = (770,870)\n",
      "fagapred, fagatest = load_file('model_saved/Result_27_6/BPNN_3_0.601145826955.npz')\n",
      "bpnnpred, bpnntest = load_file('model_saved/Result_27_6/BPNN_2_0.801036813235.npz')\n",
      "gabppred, gabptest = load_file('model_saved/Result_27_6/GABPNN_2_0.753117963855.npz')\n",
      "fapred, fatest = load_file('model_saved/Result_27_6/fuzzy_BPNN_2_0.722937764182.npz')\n",
      "plt.grid(False)\n",
      "ax = plt.subplot()\n",
      "titles = [\"Multivariate BPNN\", \"Multivariate GABPNN\", \"Multivariate Fuzzy BPNN\", \"Univariate Fuzzy GABPNN (Sliding Window Size = 4)\"]\n",
      "ax.set_title(titles[-1])\n",
      "ax.set_ylabel('CPU Usage')\n",
      "ax.set_xlabel('Time (minutes)')\n",
      "ax.plot(bpnntest[range_plot[0]:range_plot[1]]/metric['cpu_rate'],color='red',label='Actual')\n",
      "ax.plot(fagapred[range_plot[0]:range_plot[1]]/metric['cpu_rate'],'--',label='Predict')\n",
      "plt.legend()\n",
      "plt.tight_layout()\n",
      "plt.show()"
     ],
     "language": "python",
     "metadata": {},
     "outputs": [
      {
       "output_type": "stream",
       "stream": "stdout",
       "text": [
        "Using matplotlib backend: Qt4Agg\n"
       ]
      }
     ],
     "prompt_number": 120
    },
    {
     "cell_type": "code",
     "collapsed": false,
     "input": [
      "%matplotlib\n",
      "range_plot = (770,870)\n",
      "fagapred, fagatest = load_file('model_saved/Result_27_6/BPNN_3_0.601145826955.npz')\n",
      "bpnnpred, bpnntest = load_file('model_saved/Result_27_6/BPNN_2_0.801036813235.npz')\n",
      "gabppred, gabptest = load_file('model_saved/Result_27_6/GABPNN_2_0.753117963855.npz')\n",
      "fapred, fatest = load_file('model_saved/Result_27_6/fuzzy_BPNN_2_0.722937764182.npz')\n",
      "plt.grid(False)\n",
      "fig, ax = plt.subplots(nrows=2,ncols=2)\n",
      "# ax[0][0].set_title('Prediction Results')\n",
      "# ax.set_ylabel('CPU Utilization (%)')\n",
      "# ax.set_xlabel('Time (minutes)')\n",
      "titles = [\"Univariate BPNN\", \"Univariate GABPNN\", \"Univariate Fuzzy BPNN\", \"Univariate Fuzzy GABPNN\"]\n",
      "# ax[0][0].plot(bpnntest[range_plot[0]:range_plot[1]],label='Actual', color='red')\n",
      "ax[0][0].plot(bpnnpred[range_plot[0]:range_plot[1]],'--',label='Predict')\n",
      "ax[0][1].plot(gabppred[range_plot[0]:range_plot[1]],'--',label='Predict')\n",
      "# ax[0][1].plot(bpnntest[range_plot[0]:range_plot[1]],label='Actual')\n",
      "ax[1][0].plot(fapred[range_plot[0]:range_plot[1]],'--',label='Predict')\n",
      "# ax[1][0].plot(bpnntest[range_plot[0]:range_plot[1]],label='Actual')\n",
      "ax[1][1].plot(fagapred[range_plot[0]:range_plot[1]],'--',label='Predict')\n",
      "for i in range(0,2):\n",
      "    for j in range(0,2):\n",
      "        ax[i][j].plot(bpnntest[range_plot[0]:range_plot[1]], color='red',label='Actual')\n",
      "        ax[i][j].set_title(titles[i*2+j])\n",
      "        ax[i][j].legend()\n",
      "        ax[i][j].set_xlabel('Time (10 minutes)')\n",
      "        ax[i][j].set_ylabel('CPU Utilisation (%)')\n",
      "plt.tight_layout()\n",
      "plt.figure()"
     ],
     "language": "python",
     "metadata": {},
     "outputs": [
      {
       "output_type": "stream",
       "stream": "stdout",
       "text": [
        "Using matplotlib backend: Qt4Agg\n"
       ]
      },
      {
       "metadata": {},
       "output_type": "pyout",
       "prompt_number": 60,
       "text": [
        "<matplotlib.figure.Figure at 0x7f4d753ef9d0>"
       ]
      }
     ],
     "prompt_number": 60
    },
    {
     "cell_type": "heading",
     "level": 2,
     "metadata": {},
     "source": [
      "Memory Univariate"
     ]
    },
    {
     "cell_type": "code",
     "collapsed": false,
     "input": [
      "%matplotlib\n",
      "range_plot = (100,200)\n",
      "\n",
      "fagapred, fagatest = load_file('model_saved/fuzzy_GABPNN_3_0.0468173719376.npz')\n",
      "bpnnpred, bpnntest = load_file('model_saved/BPNN_2_0.0473775280419.npz')\n",
      "gabppred, gabptest = load_file('model_saved/GABPNN_4_0.0369266157741.npz')\n",
      "fapred, fatest = load_file('model_saved/fuzzy_BPNN_4_0.0491736343367.npz')\n",
      "plt.grid(False)\n",
      "fig, ax = plt.subplots(nrows=2,ncols=2)\n",
      "# ax[0][0].set_title('Prediction Results')\n",
      "# ax.set_ylabel('CPU Utilization (%)')\n",
      "# ax.set_xlabel('Time (minutes)')\n",
      "titles = [\"Univariate BPNN\", \"Univariate GABPNN\", \"Univariate Fuzzy BPNN\", \"Univariate Fuzzy GABPNN\"]\n",
      "# ax[0][0].plot(bpnntest[range_plot[0]:range_plot[1]],label='Actual', color='red')\n",
      "ax[0][0].plot(bpnnpred[range_plot[0]:range_plot[1]],'--',label='Predict')\n",
      "ax[0][1].plot(gabppred[range_plot[0]:range_plot[1]],'--',label='Predict')\n",
      "# ax[0][1].plot(bpnntest[range_plot[0]:range_plot[1]],label='Actual')\n",
      "ax[1][0].plot(fapred[range_plot[0]:range_plot[1]],'--',label='Predict')\n",
      "# ax[1][0].plot(bpnntest[range_plot[0]:range_plot[1]],label='Actual')\n",
      "ax[1][1].plot(fagapred[range_plot[0]:range_plot[1]],'--',label='Predict')\n",
      "for i in range(0,2):\n",
      "    for j in range(0,2):\n",
      "        ax[i][j].plot(bpnntest[range_plot[0]:range_plot[1]], color='red',label='Actual')\n",
      "        ax[i][j].set_title(titles[i*2+j])\n",
      "        ax[i][j].legend(loc='upper left')\n",
      "        ax[i][j].set_xlabel('Time (10 minutes)')\n",
      "        ax[i][j].set_ylabel('Memory Usage (%)')\n",
      "plt.tight_layout()\n",
      "plt.figure()"
     ],
     "language": "python",
     "metadata": {},
     "outputs": [
      {
       "output_type": "stream",
       "stream": "stdout",
       "text": [
        "Using matplotlib backend: Qt4Agg\n"
       ]
      },
      {
       "metadata": {},
       "output_type": "pyout",
       "prompt_number": 22,
       "text": [
        "<matplotlib.figure.Figure at 0x7f4d77019350>"
       ]
      }
     ],
     "prompt_number": 22
    },
    {
     "cell_type": "code",
     "collapsed": false,
     "input": [
      "%matplotlib\n",
      "range_plot = (100,200)\n",
      "fapred, fatest = load_file('model_saved/fuzzy_BPNN_4_0.0491736343367.npz')\n",
      "plt.grid(False)\n",
      "ax = plt.subplot()\n",
      "titles = [\"Multivariate BPNN\", \"Multivariate GABPNN\", \"Multivariate Fuzzy BPNN\", \"Univariate Fuzzy GABPNN (Sliding Window Size = 4)\"]\n",
      "ax.set_title(titles[-1])\n",
      "ax.set_ylabel('Memory Usage')\n",
      "ax.set_xlabel('Time (minutes)')\n",
      "ax.plot(fatest[range_plot[0]:range_plot[1]]/metric['mem_usage'],color='red',label='Actual')\n",
      "ax.plot(fapred[range_plot[0]:range_plot[1]]/metric['mem_usage'],'--',label='Predict')\n",
      "plt.tight_layout()\n",
      "ax.legend(loc='upper left')\n",
      "plt.show()"
     ],
     "language": "python",
     "metadata": {},
     "outputs": [
      {
       "output_type": "stream",
       "stream": "stdout",
       "text": [
        "Using matplotlib backend: Qt4Agg\n"
       ]
      }
     ],
     "prompt_number": 121
    },
    {
     "cell_type": "heading",
     "level": 2,
     "metadata": {},
     "source": [
      "CPU Multivariate"
     ]
    },
    {
     "cell_type": "code",
     "collapsed": false,
     "input": [
      "%matplotlib\n",
      "range_plot = (770,870)\n",
      "ypred, ytrue = load_file(\"model_saved/BPNNM_3_1.05107994991.npz\")\n",
      "# cpu_pred, cpu_test = np.maximum(ypred[:,0],0), ytrue[:,0]\n",
      "bpnnpred, bpnntest = np.maximum(ypred[:,0],0), ytrue[:,0]\n",
      "ypred, ytrue = load_file(\"model_saved/Result_2_7/GABPNNM_2_1.05183134772.npz\")\n",
      "gabppred, gabptest = np.maximum(ypred[:,0],0), ytrue[:,0]\n",
      "\n",
      "ypred, ytrue = load_file(\"model_saved/BPNNM_3_1.04617726314.npz\")\n",
      "fapred, fatest = np.maximum(ypred[:,0],0), ytrue[:,0]\n",
      "\n",
      "ypred, ytrue = load_file(\"model_saved/BPNNM_5_1.04553189303.npz\")\n",
      "fagapred, fagatest = np.maximum(ypred[:,0],0), ytrue[:,0]\n",
      "# fagapred = np.load('model_saved/CPU_FGABPNNM_3_0.738779287305.npz')['y_pred']\n",
      "# fagatest = np.load('model_saved/CPU_FGABPNNM_2_0.75546679644.npz')['y_test']\n",
      "\n",
      "fig, ax = plt.subplots(nrows=2,ncols=2)\n",
      "# ax[0][0].set_title('Prediction Results')\n",
      "# ax.set_ylabel('CPU Utilization (%)')\n",
      "# ax.set_xlabel('Time (minutes)')\n",
      "titles = [\"Multivariate BPNN\", \"Multivariate GABPNN\", \"Multivariate Fuzzy BPNN\", \"Multivariate Fuzzy GABPNN\"]\n",
      "# ax[0][0].plot(bpnntest[range_plot[0]:range_plot[1]],label='Actual', color='red')\n",
      "ax[0][0].plot(bpnnpred[range_plot[0]:range_plot[1]],'--',label='Predict')\n",
      "ax[0][1].plot(gabppred[range_plot[0]:range_plot[1]],'--',label='Predict')\n",
      "# ax[0][1].plot(bpnntest[range_plot[0]:range_plot[1]],label='Actual')\n",
      "ax[1][0].plot(fapred[range_plot[0]:range_plot[1]],'--',label='Predict')\n",
      "# ax[1][0].plot(bpnntest[range_plot[0]:range_plot[1]],label='Actual')\n",
      "ax[1][1].plot(fagapred[range_plot[0]:range_plot[1]],'--',label='Predict')\n",
      "for i in range(0,2):\n",
      "    for j in range(0,2):\n",
      "        ax[i][j].plot(bpnntest[range_plot[0]:range_plot[1]], color='red',label='Actual')\n",
      "        ax[i][j].set_title(titles[i*2+j])\n",
      "        ax[i][j].legend()\n",
      "        ax[i][j].set_xlabel('Time (10 minutes)')\n",
      "        ax[i][j].set_ylabel('CPU Utilisation (%)')\n",
      "plt.tight_layout()"
     ],
     "language": "python",
     "metadata": {},
     "outputs": [
      {
       "output_type": "stream",
       "stream": "stdout",
       "text": [
        "Using matplotlib backend: Qt4Agg\n"
       ]
      }
     ],
     "prompt_number": 34
    },
    {
     "cell_type": "code",
     "collapsed": false,
     "input": [
      "%matplotlib\n",
      "range_plot = (770,870)\n",
      "ypred, ytrue = load_file(\"model_saved/BPNNM_5_1.04553189303.npz\")\n",
      "fagapred, fagatest = np.maximum(ypred[:,0],0), ytrue[:,0]\n",
      "plt.grid(False)\n",
      "ax = plt.subplot()\n",
      "titles = [\"Multivariate BPNN\", \"Multivariate GABPNN\", \"Multivariate Fuzzy BPNN\", \"Multivariate Fuzzy GABPNN (Sliding Window Size = 4)\"]\n",
      "ax.set_title(titles[-1])\n",
      "ax.set_ylabel('CPU Usage')\n",
      "ax.set_xlabel('Time (minutes)')\n",
      "ax.plot(fagatest[range_plot[0]:range_plot[1]]/metric['cpu_rate'],color='red',label='Actual')\n",
      "ax.plot(fagapred[range_plot[0]:range_plot[1]]/metric['cpu_rate'],'--',label='Predict')\n",
      "plt.legend()\n",
      "plt.tight_layout()\n",
      "plt.show()"
     ],
     "language": "python",
     "metadata": {},
     "outputs": [
      {
       "output_type": "stream",
       "stream": "stdout",
       "text": [
        "Using matplotlib backend: Qt4Agg\n"
       ]
      }
     ],
     "prompt_number": 122
    },
    {
     "cell_type": "heading",
     "level": 2,
     "metadata": {},
     "source": [
      "RAM Multivariate"
     ]
    },
    {
     "cell_type": "code",
     "collapsed": false,
     "input": [
      "%matplotlib\n",
      "range_plot = (100,200)\n",
      "bpnnpred, bpnntest = load_file(\"model_saved/RAM_FGABPNNM_2_0.951730088988.npz\")\n",
      "# cpu_pred, cpu_test = np.maximum(ypred[:,0],0), ytrue[:,0]\n",
      "# bpnnpred, bpnnpred = np.maximum(ypred[:,0],0), ytrue[:,0]\n",
      "gabppred, gabptest = load_file(\"model_saved/RAM_FGABPNNM_2_0.924042547275.npz\")\n",
      "# gabppred, gabptest = np.maximum(ypred[:,0],0), ytrue[:,0]\n",
      "\n",
      "fapred, fatest = load_file(\"model_saved/fuzzy_BPNN_2_0.773756952169.npz\")\n",
      "# fapred, fatest = np.maximum(ypred[:,0],0), ytrue[:,0]\n",
      "\n",
      "ypred, ytrue = load_file(\"model_saved/BPNNM_5_1.04553189303.npz\")\n",
      "fagapred, fagatest = np.maximum(ypred[:,0],0), ytrue[:,0]\n",
      "\n",
      "fig, ax = plt.subplots(nrows=2,ncols=2)\n",
      "# ax[0][0].set_title('Prediction Results')\n",
      "# ax.set_ylabel('CPU Utilization (%)')\n",
      "# ax.set_xlabel('Time (minutes)')\n",
      "scale_factor = 5\n",
      "titles = [\"Multivariate BPNN\", \"Multivariate GABPNN\", \"Multivariate Fuzzy BPNN\", \"Multivariate Fuzzy GABPNN\"]\n",
      "# ax[0][0].plot(bpnntest[range_plot[0]:range_plot[1]],label='Actual', color='red')\n",
      "ax[0][0].plot(fagapred[range_plot[0]:range_plot[1]]/scale_factor,'--',label='Predict')\n",
      "ax[0][1].plot(bpnnpred[range_plot[0]:range_plot[1]]/scale_factor,'--',label='Predict')\n",
      "ax[1][0].plot(fapred[range_plot[0]:range_plot[1]]/scale_factor,'--',label='Predict')\n",
      "ax[1][1].plot(gabppred[range_plot[0]:range_plot[1]]/scale_factor,'--',label='Predict')\n",
      "for i in range(0,2):\n",
      "    for j in range(0,2):\n",
      "        ax[i][j].plot(bpnntest[range_plot[0]:range_plot[1]], color='red',label='Actual')\n",
      "        ax[i][j].set_title(titles[i*2+j])\n",
      "        ax[i][j].legend(loc='upper left')\n",
      "        ax[i][j].set_xlabel('Time (10 minutes)')\n",
      "        ax[i][j].set_ylabel('Memory Usage (%)')\n",
      "plt.tight_layout()"
     ],
     "language": "python",
     "metadata": {},
     "outputs": [
      {
       "output_type": "stream",
       "stream": "stdout",
       "text": [
        "Using matplotlib backend: Qt4Agg\n"
       ]
      }
     ],
     "prompt_number": 44
    },
    {
     "cell_type": "code",
     "collapsed": false,
     "input": [
      "%matplotlib\n",
      "pred, test = load_file('model_saved/Result_27_6/BPNN_3_0.601145826955.npz')\n",
      "plot_figure_with_label(y_pred=pred[100:200], y_test=test[100:200], title='Fuzzy GABPNN (Sliding Window Size = 3)', metric='CPU Utilization (%)')\n",
      "%matplotlib\n",
      "pred, test = load_file('model_saved/Result_27_6/BPNN_2_0.801036813235.npz')\n",
      "plot_figure_with_label(y_pred=pred[100:200], y_test=test[100:200], \n",
      "                       title='BPNN (Sliding Window Size = 3)', metric='CPU Utilization (%)')\n",
      "%matplotlib\n",
      "pred, test = load_file('model_saved/Result_27_6/GABPNN_2_0.753117963855.npz')\n",
      "plot_figure_with_label(y_pred=pred[100:200], y_test=test[100:200], title='GABPNN (Sliding Window Size = 3)', metric='CPU Utilization (%)')\n",
      "%matplotlib\n",
      "pred, test = load_file('model_saved/Result_27_6/fuzzy_BPNN_2_0.722937764182.npz')\n",
      "plot_figure_with_label(y_pred=pred[100:200], y_test=test[100:200], title='Fuzzy BPNN (Sliding Window Size = 3)', metric='CPU Utilization (%)')\n",
      "%matplotlib\n",
      "pred, test = load_file('model_saved/BPNN_2_0.0473775280419.npz')\n",
      "plot_figure_with_label(y_pred=pred[100:200], y_test=test[100:200], title='BPNN (Sliding Window Size = 3)', \n",
      "                       metric='Memory Usage (%)')\n",
      "%matplotlib\n",
      "pred, test = load_file('model_saved/GABPNN_4_0.0369266157741.npz')\n",
      "plot_figure_with_label(y_pred=pred[100:200], y_test=test[100:200], title='GABPNN (Sliding Window Size = 3)', \n",
      "                       metric='Memory Usage (%)')"
     ],
     "language": "python",
     "metadata": {},
     "outputs": [
      {
       "output_type": "stream",
       "stream": "stdout",
       "text": [
        "Using matplotlib backend: Qt4Agg\n"
       ]
      },
      {
       "output_type": "stream",
       "stream": "stderr",
       "text": [
        "/usr/local/lib/python2.7/dist-packages/matplotlib/cbook.py:137: MatplotlibDeprecationWarning: The set_color_cycle attribute was deprecated in version 1.5. Use set_prop_cycle instead.\n",
        "  warnings.warn(message, mplDeprecation, stacklevel=1)\n"
       ]
      },
      {
       "metadata": {},
       "output_type": "pyout",
       "prompt_number": 2,
       "text": [
        "<matplotlib.axes._subplots.AxesSubplot at 0x7ffa98219450>"
       ]
      }
     ],
     "prompt_number": 2
    },
    {
     "cell_type": "code",
     "collapsed": false,
     "input": [
      "%matplotlib\n",
      "range_plot = (100,200)\n",
      "bpnnpred, bpnntest = load_file(\"model_saved/RAM_FGABPNNM_2_0.951730088988.npz\")\n",
      "# cpu_pred, cpu_test = np.maximum(ypred[:,0],0), ytrue[:,0]\n",
      "# bpnnpred, bpnnpred = np.maximum(ypred[:,0],0), ytrue[:,0]\n",
      "gabppred, gabptest = load_file(\"model_saved/RAM_FGABPNNM_2_0.924042547275.npz\")\n",
      "# gabppred, gabptest = np.maximum(ypred[:,0],0), ytrue[:,0]\n",
      "\n",
      "fapred, fatest = load_file(\"model_saved/fuzzy_BPNN_2_0.773756952169.npz\")\n",
      "# fapred, fatest = np.maximum(ypred[:,0],0), ytrue[:,0]\n",
      "\n",
      "ypred, ytrue = load_file(\"model_saved/BPNNM_5_1.04553189303.npz\")\n",
      "fagapred, fagatest = np.maximum(ypred[:,0],0), ytrue[:,0]\n",
      "\n",
      "ax = plt.subplot()\n",
      "# ax[0][0].set_title('Prediction Results')\n",
      "# ax.set_ylabel('CPU Utilization (%)')\n",
      "# ax.set_xlabel('Time (minutes)')\n",
      "scale_factor = 5\n",
      "titles = [\"Multivariate BPNN\", \"Multivariate GABPNN\", \"Multivariate Fuzzy BPNN\", \"Multivariate Fuzzy GABPNN (Sliding Window Size = 4)\"]\n",
      "ax.plot(bpnnpred[range_plot[0]:range_plot[1]]/(scale_factor*metric['mem_usage']),'--',label='Predict')\n",
      "\n",
      "ax.plot(bpnntest[range_plot[0]:range_plot[1]]/metric['mem_usage'], color='red',label='Actual')\n",
      "ax.set_title(titles[-1])\n",
      "ax.legend(loc='upper left')\n",
      "ax.set_xlabel('Time (10 minutes)')\n",
      "ax.set_ylabel('Memory Usage')\n",
      "plt.tight_layout()"
     ],
     "language": "python",
     "metadata": {},
     "outputs": [
      {
       "output_type": "stream",
       "stream": "stdout",
       "text": [
        "Using matplotlib backend: Qt4Agg\n"
       ]
      }
     ],
     "prompt_number": 10
    },
    {
     "cell_type": "heading",
     "level": 1,
     "metadata": {},
     "source": [
      "Fuzzy Multi"
     ]
    },
    {
     "cell_type": "code",
     "collapsed": false,
     "input": [
      "ypred, ytrue = load_file(\"model_saved/Fuzzy_BPNNM_3_0.767331403118.npz\")\n",
      "cpu_pred, cpu_test = np.maximum(ypred[:,0],0), ytrue[:,0]\n",
      "ram_pred, ram_test = np.maximum(ypred[:,1],0), ytrue[:,1]\n",
      "%matplotlib\n",
      "plot_figure_with_label(y_pred=cpu_pred[100:200], y_test=cpu_test[100:200], \n",
      "                       title='Fuzzy BPNN Multi Dimension (Sliding Window Size = 3)', metric='CPU Utilization (%)')\n"
     ],
     "language": "python",
     "metadata": {},
     "outputs": [
      {
       "output_type": "stream",
       "stream": "stdout",
       "text": [
        "Using matplotlib backend: Qt4Agg\n"
       ]
      },
      {
       "metadata": {},
       "output_type": "pyout",
       "prompt_number": 15,
       "text": [
        "<matplotlib.axes._subplots.AxesSubplot at 0x7fb9d6a9ee50>"
       ]
      }
     ],
     "prompt_number": 15
    },
    {
     "cell_type": "code",
     "collapsed": false,
     "input": [
      "%matplotlib\n",
      "pred = np.load('model_saved/RAM_FGABPNNM_3_0.101944766147.npz')['y_pred']\n",
      "test = np.load('model_saved/RAM_FGABPNNM_3_0.101944766147.npz')['y_test']\n",
      "plot_figure_with_label(y_pred=pred[100:200], y_test=test[100:200], \n",
      "                       title='Fuzy GABPNN (Sliding Window Size = 3)', metric='Memory usage (%)')\n",
      "plt.legend(loc='upper left')\n"
     ],
     "language": "python",
     "metadata": {},
     "outputs": [
      {
       "output_type": "stream",
       "stream": "stdout",
       "text": [
        "Using matplotlib backend: Qt4Agg\n"
       ]
      },
      {
       "output_type": "stream",
       "stream": "stderr",
       "text": [
        "/usr/local/lib/python2.7/dist-packages/matplotlib/cbook.py:137: MatplotlibDeprecationWarning: The set_color_cycle attribute was deprecated in version 1.5. Use set_prop_cycle instead.\n",
        "  warnings.warn(message, mplDeprecation, stacklevel=1)\n"
       ]
      },
      {
       "metadata": {},
       "output_type": "pyout",
       "prompt_number": 14,
       "text": [
        "<matplotlib.legend.Legend at 0x7fb9d4dc82d0>"
       ]
      }
     ],
     "prompt_number": 14
    },
    {
     "cell_type": "heading",
     "level": 1,
     "metadata": {},
     "source": [
      "MAE Comparision"
     ]
    },
    {
     "cell_type": "code",
     "collapsed": false,
     "input": [
      "columns = [\"BPNN\",\"GABPNN\",\"FBPNN\",\"FGABPNN\"]\n",
      "data = np.array([[0.8848,0.9380,0.89730,0.9127],\n",
      "                 [0.9465,0.8875,0.7959,0.7847],\n",
      "                 [1.0328,0.9157,0.8908,0.8842],\n",
      "                 [0.8806,0.7867,0.83640,0.8297]])\n",
      "mae_HighOrder_CPU = pd.DataFrame(data,columns=columns,index=np.arange(2,6))\n",
      "data = [[0.0639,0.0487,0.05341,0.0534],\n",
      "        [0.0723,0.0602,0.05340,0.0561],\n",
      "        [0.0741,0.0547,0.05890,0.0523],\n",
      "        [0.0704,0.0528,0.05230,0.0593]]\n",
      "\n",
      "mae_HighOrder_RAM = pd.DataFrame(data,columns=columns,index=np.arange(2,6))\n",
      "%matplotlib\n",
      "\n",
      "colors = ['y','b','c','r']\n",
      "fig,ax = plt.subplots(ncols=2,sharex=True)\n",
      "plt.grid('off')\n",
      "mae_HighOrder_CPU.plot(kind='bar',rot=0,ax=ax[0],legend=False,grid=False,color=colors)\n",
      "ax[0].annotate('CPU', xy=(1.15,1.15), xytext=(2.5,1.15))\n",
      "mae_HighOrder_RAM.plot(kind='bar',rot=0,ax=ax[1],legend=False,color=colors)\n",
      "ax[1].annotate('RAM', xy=(0.06,0.06), xytext=(2.8,0.077))\n",
      "# fig.text(0.04, 0.5, 'Mean Absolute Error', va='center', rotation='vertical')\n",
      "# fig.text(0.5, 0.01, 'Mean Absolute Error vs. Sliding Window', ha='center')\n",
      "# plt.ylabel(\"Mean Absolute Error vs. Sliding Window\")\n",
      "# plt.xlabel(\"Sliding Window\")\n",
      "# fig.title('Mean Absolute Error vs. Sliding Window')\n",
      "plt.legend(loc='lower center',ncol=5,\n",
      "           bbox_to_anchor=[-0.1,-0.16],prop={'size':12})\n",
      "# a.draggable(state=True)\n",
      "plt.grid('off')\n",
      "# plt.figtext(0.05,0.03,'bold figure suptitle')\n",
      "plt.tight_layout()\n",
      "plt.show()"
     ],
     "language": "python",
     "metadata": {},
     "outputs": [
      {
       "output_type": "stream",
       "stream": "stdout",
       "text": [
        "Using matplotlib backend: Qt4Agg\n"
       ]
      }
     ],
     "prompt_number": 11
    },
    {
     "cell_type": "code",
     "collapsed": false,
     "input": [
      "# columns = [\"BPNN\",\"GABPNN\",\"FBPNN\",\"FGABPNN\"]\n",
      "\n",
      "# %matplotlib\n",
      "# label = np.arange(2,6)\n",
      "# # ax = plt.subplots(nrows=2, sh)\n",
      "# mae_HighOrder_RAM.plot(kind='bar',rot=0, title=\"MAE Comparison on Memory Usage Prediction\")\n",
      "# plt.xlabel(\"\")\n",
      "# plt.legend(loc='lower center',ncol=5,bbox_to_anchor=[0.5,-0.1],prop={'size':10})\n",
      "# # a.draggable(state=True)\n",
      "# plt.grid('off')\n",
      "# plt.tight_layout()\n",
      "# plt.show()"
     ],
     "language": "python",
     "metadata": {},
     "outputs": [
      {
       "output_type": "stream",
       "stream": "stdout",
       "text": [
        "Using matplotlib backend: Qt4Agg\n"
       ]
      }
     ],
     "prompt_number": 6
    },
    {
     "cell_type": "heading",
     "level": 1,
     "metadata": {},
     "source": [
      "Multi Dimension "
     ]
    },
    {
     "cell_type": "code",
     "collapsed": false,
     "input": [
      "columns = [\"BPNN\",\"GABPNN\",\"FBPNN\",\"FGABPNN\"]\n",
      "data = np.array([[1.0528,1.0528,1.0536,1.0489],\n",
      "                  [1.0410,1.0519,1.0501,1.0631],\n",
      "                  [0.8103,0.7737,0.7857,0.8166],\n",
      "                  [0.8688,0.7596,0.8741,0.8451]])\n",
      "mae_Multi_CPU = pd.DataFrame(data.T,columns=columns,index=np.arange(2,6))\n",
      "data = np.array([[0.1232,0.1173,0.1178,0.0874],\n",
      "                  [0.1305,0.1166,0.0881,0.0917],\n",
      "                  [0.0874,0.1387,0.1116,0.1225],\n",
      "                  [0.0991,0.0889,0.1191,0.1168]])\n",
      "mae_Multi_RAM = pd.DataFrame(data.T,columns=columns,index=np.arange(2,6))\n",
      "\n",
      "%matplotlib\n",
      "colors = ['y','b','c','r']\n",
      "fig,ax = plt.subplots(ncols=2,sharex=True)\n",
      "mae_Multi_CPU.plot(kind='bar',rot=0,ax=ax[0],legend=False,grid=False, color=colors)\n",
      "mae_Multi_RAM.plot(kind='bar',rot=0,ax=ax[1],legend=False, color=colors)\n",
      "ax[0].annotate('CPU', xy=(1.15,1.15), xytext=(2.5,1.15))\n",
      "# mae_HighOrder_RAM.plot(kind='bar',rot=0,ax=ax[1],legend=False,color=colors)\n",
      "ax[1].annotate('RAM', xy=(0.06,0.06), xytext=(2.4,0.1342))\n",
      "plt.xlabel(\"\")\n",
      "plt.legend(loc='lower center',ncol=5,\n",
      "           bbox_to_anchor=[-0.1,-0.14],prop={'size':12})\n",
      "# a.draggable(state=True)\n",
      "plt.grid('off')\n",
      "# plt.figtext(0.05,0.03,'bold figure suptitle')\n",
      "# plt.tight_layout()\n",
      "plt.show()"
     ],
     "language": "python",
     "metadata": {},
     "outputs": [
      {
       "output_type": "stream",
       "stream": "stdout",
       "text": [
        "Using matplotlib backend: Qt4Agg\n"
       ]
      }
     ],
     "prompt_number": 37
    },
    {
     "cell_type": "code",
     "collapsed": false,
     "input": [
      "ADI_metric = np.array([316.45,154.002,183.55,120.54,179.73,125.23,95.21,89.26])\n",
      "columns = [\"Univariate BPNN\",\"Univariate GABPNN\",\"Univariate Fuzzy BPNN\",\"Univariate Fuzzy GABPNN\",\n",
      "           \"Multivariate BPNN\",\"Multivariate GABPNN\",\"Multivariate Fuzzy BPNN\",\"Multivariate Fuzzy GABPNN\"]\n",
      "data = pd.DataFrame(ADI_metric).T\n",
      "# %matplotlib\n",
      "# data.plot()"
     ],
     "language": "python",
     "metadata": {},
     "outputs": [],
     "prompt_number": 63
    },
    {
     "cell_type": "code",
     "collapsed": false,
     "input": [
      "%matplotlib\n",
      "ax = data.plot(kind='bar',legend=False)\n",
      "ax.set_ylabel(\"ADI\")\n",
      "ax.set_xlabel(''.join(columns))"
     ],
     "language": "python",
     "metadata": {},
     "outputs": [
      {
       "output_type": "stream",
       "stream": "stdout",
       "text": [
        "Using matplotlib backend: Qt4Agg\n"
       ]
      },
      {
       "metadata": {},
       "output_type": "pyout",
       "prompt_number": 65,
       "text": [
        "<matplotlib.text.Text at 0x7fb9d6a8f690>"
       ]
      }
     ],
     "prompt_number": 65
    },
    {
     "cell_type": "code",
     "collapsed": false,
     "input": [
      "0.08647/metric['cpu_rate']"
     ],
     "language": "python",
     "metadata": {},
     "outputs": [
      {
       "metadata": {},
       "output_type": "pyout",
       "prompt_number": 98,
       "text": [
        "3.4588"
       ]
      }
     ],
     "prompt_number": 98
    }
   ],
   "metadata": {}
  }
 ]
}