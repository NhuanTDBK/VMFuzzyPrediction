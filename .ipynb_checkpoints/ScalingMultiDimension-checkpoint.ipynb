{
 "metadata": {
  "name": ""
 },
 "nbformat": 3,
 "nbformat_minor": 0,
 "worksheets": [
  {
   "cells": [
    {
     "cell_type": "code",
     "collapsed": false,
     "input": [
      "from scaling.ProactiveSLA import ProactiveSLA\n",
      "from utils.load_result import *\n",
      "from utils.GraphUtil import *\n",
      "import matplotlib.pyplot as plt\n",
      "import numpy as np\n",
      "from scaling.ProactiveManager import ProactiveManager\n",
      "import pandas as pd"
     ],
     "language": "python",
     "metadata": {},
     "outputs": [],
     "prompt_number": 1
    },
    {
     "cell_type": "code",
     "collapsed": false,
     "input": [
      "def sla_violate(file_name, broker):\n",
      "    ypred, ytrue = load_file(file_name)\n",
      "    \n",
      "    cpu_pred, cpu_test = np.maximum(ypred[:,0],0), ytrue[:,0]\n",
      "    ram_pred, ram_test = np.maximum(ypred[:,1],0), ytrue[:,1]\n",
      "    \n",
      "    resource_used = np.array(zip(*(cpu_test,ram_test)))\n",
      "    resource_predict = np.array(zip(*(cpu_pred,ram_pred)))\n",
      "    \n",
      "    number_of_VMs = np.array(broker.allocate_VMs(resource_used=resource_used,resource_predicted=resource_predict))\n",
      "    \n",
      "    cpu_pred_VMs = number_of_VMs * broker.capacity_VM[0]\n",
      "    ram_pred_VMs = number_of_VMs * broker.capacity_VM[1]\n",
      "    \n",
      "    c = np.array((cpu_test>=cpu_pred_VMs))\n",
      "    d = np.array((ram_test>=ram_pred_VMs))\n",
      "    e = np.array([(x or y) for x,y in zip(c,d)])\n",
      "    return float(len(e[e==True])) * 100/ len(e)"
     ],
     "language": "python",
     "metadata": {},
     "outputs": [],
     "prompt_number": 2
    },
    {
     "cell_type": "code",
     "collapsed": false,
     "input": [
      "broker = ProactiveManager(sla=2.5, past_consecutive_values=10)\n",
      "print sla_violate('model_saved/BPNNM_3_1.05107994991.npz',broker)\n",
      "print sla_violate('model_saved/GABPNNM_5_1.05844921083.npz',broker)\n",
      "print sla_violate('model_saved/Result_2_7/Fuzzy_BPNNM_5_0.896544977679.npz',broker)\n",
      "print sla_violate('model_saved/FGABPNNM_4_0.901227257525.npz',broker)"
     ],
     "language": "python",
     "metadata": {},
     "outputs": [
      {
       "ename": "IndexError",
       "evalue": "too many indices for array",
       "output_type": "pyerr",
       "traceback": [
        "\u001b[0;31m---------------------------------------------------------------------------\u001b[0m\n\u001b[0;31mIndexError\u001b[0m                                Traceback (most recent call last)",
        "\u001b[0;32m<ipython-input-8-fff72ace25c5>\u001b[0m in \u001b[0;36m<module>\u001b[0;34m()\u001b[0m\n\u001b[1;32m      2\u001b[0m \u001b[0;32mprint\u001b[0m \u001b[0msla_violate\u001b[0m\u001b[0;34m(\u001b[0m\u001b[0;34m'model_saved/BPNNM_3_1.05107994991.npz'\u001b[0m\u001b[0;34m,\u001b[0m\u001b[0mbroker\u001b[0m\u001b[0;34m)\u001b[0m\u001b[0;34m\u001b[0m\u001b[0m\n\u001b[1;32m      3\u001b[0m \u001b[0;32mprint\u001b[0m \u001b[0msla_violate\u001b[0m\u001b[0;34m(\u001b[0m\u001b[0;34m'model_saved/GABPNNM_5_1.05844921083.npz'\u001b[0m\u001b[0;34m,\u001b[0m\u001b[0mbroker\u001b[0m\u001b[0;34m)\u001b[0m\u001b[0;34m\u001b[0m\u001b[0m\n\u001b[0;32m----> 4\u001b[0;31m \u001b[0;32mprint\u001b[0m \u001b[0msla_violate\u001b[0m\u001b[0;34m(\u001b[0m\u001b[0;34m'model_saved/Result_2_7/Fuzzy_BPNNM_5_0.896544977679.npz'\u001b[0m\u001b[0;34m,\u001b[0m\u001b[0mbroker\u001b[0m\u001b[0;34m)\u001b[0m\u001b[0;34m\u001b[0m\u001b[0m\n\u001b[0m\u001b[1;32m      5\u001b[0m \u001b[0;32mprint\u001b[0m \u001b[0msla_violate\u001b[0m\u001b[0;34m(\u001b[0m\u001b[0;34m'model_saved/FGABPNNM_4_0.901227257525.npz'\u001b[0m\u001b[0;34m,\u001b[0m\u001b[0mbroker\u001b[0m\u001b[0;34m)\u001b[0m\u001b[0;34m\u001b[0m\u001b[0m\n",
        "\u001b[0;32m<ipython-input-2-922270255e50>\u001b[0m in \u001b[0;36msla_violate\u001b[0;34m(file_name, broker)\u001b[0m\n\u001b[1;32m      2\u001b[0m     \u001b[0mypred\u001b[0m\u001b[0;34m,\u001b[0m \u001b[0mytrue\u001b[0m \u001b[0;34m=\u001b[0m \u001b[0mload_file\u001b[0m\u001b[0;34m(\u001b[0m\u001b[0mfile_name\u001b[0m\u001b[0;34m)\u001b[0m\u001b[0;34m\u001b[0m\u001b[0m\n\u001b[1;32m      3\u001b[0m \u001b[0;34m\u001b[0m\u001b[0m\n\u001b[0;32m----> 4\u001b[0;31m     \u001b[0mcpu_pred\u001b[0m\u001b[0;34m,\u001b[0m \u001b[0mcpu_test\u001b[0m \u001b[0;34m=\u001b[0m \u001b[0mnp\u001b[0m\u001b[0;34m.\u001b[0m\u001b[0mmaximum\u001b[0m\u001b[0;34m(\u001b[0m\u001b[0mypred\u001b[0m\u001b[0;34m[\u001b[0m\u001b[0;34m:\u001b[0m\u001b[0;34m,\u001b[0m\u001b[0;36m0\u001b[0m\u001b[0;34m]\u001b[0m\u001b[0;34m,\u001b[0m\u001b[0;36m0\u001b[0m\u001b[0;34m)\u001b[0m\u001b[0;34m,\u001b[0m \u001b[0mytrue\u001b[0m\u001b[0;34m[\u001b[0m\u001b[0;34m:\u001b[0m\u001b[0;34m,\u001b[0m\u001b[0;36m0\u001b[0m\u001b[0;34m]\u001b[0m\u001b[0;34m\u001b[0m\u001b[0m\n\u001b[0m\u001b[1;32m      5\u001b[0m     \u001b[0mram_pred\u001b[0m\u001b[0;34m,\u001b[0m \u001b[0mram_test\u001b[0m \u001b[0;34m=\u001b[0m \u001b[0mnp\u001b[0m\u001b[0;34m.\u001b[0m\u001b[0mmaximum\u001b[0m\u001b[0;34m(\u001b[0m\u001b[0mypred\u001b[0m\u001b[0;34m[\u001b[0m\u001b[0;34m:\u001b[0m\u001b[0;34m,\u001b[0m\u001b[0;36m1\u001b[0m\u001b[0;34m]\u001b[0m\u001b[0;34m,\u001b[0m\u001b[0;36m0\u001b[0m\u001b[0;34m)\u001b[0m\u001b[0;34m,\u001b[0m \u001b[0mytrue\u001b[0m\u001b[0;34m[\u001b[0m\u001b[0;34m:\u001b[0m\u001b[0;34m,\u001b[0m\u001b[0;36m1\u001b[0m\u001b[0;34m]\u001b[0m\u001b[0;34m\u001b[0m\u001b[0m\n\u001b[1;32m      6\u001b[0m \u001b[0;34m\u001b[0m\u001b[0m\n",
        "\u001b[0;31mIndexError\u001b[0m: too many indices for array"
       ]
      },
      {
       "output_type": "stream",
       "stream": "stdout",
       "text": [
        "2.11817168339\n",
        "0.782122905028\n"
       ]
      }
     ],
     "prompt_number": 8
    },
    {
     "cell_type": "code",
     "collapsed": false,
     "input": [
      "dat = np.load('multi_test_2.npz')\n",
      "ytest = dat['y_test']\n",
      "ypred = np.load('model_saved/Result_2_7/Fuzzy_BPNNM_5_0.896544977679.npz')['y_pred']\n",
      "np.savez('model_saved/Fuzzy_BPNNM_2_0.840208954394.npz',y_pred=ypred,y_true=ytest)"
     ],
     "language": "python",
     "metadata": {},
     "outputs": [],
     "prompt_number": 55
    },
    {
     "cell_type": "code",
     "collapsed": false,
     "input": [],
     "language": "python",
     "metadata": {},
     "outputs": []
    }
   ],
   "metadata": {}
  }
 ]
}