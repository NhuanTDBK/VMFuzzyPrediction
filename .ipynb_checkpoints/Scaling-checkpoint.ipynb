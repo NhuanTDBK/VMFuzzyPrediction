{
 "metadata": {
  "name": ""
 },
 "nbformat": 3,
 "nbformat_minor": 0,
 "worksheets": [
  {
   "cells": [
    {
     "cell_type": "code",
     "collapsed": false,
     "input": [
      "from scaling.ProactiveSLA import ProactiveSLA\n",
      "from utils.load_result import *\n",
      "from utils.GraphUtil import *\n",
      "import matplotlib.pyplot as plt\n",
      "import numpy as np\n",
      "from scaling.ProactiveManager import ProactiveManager\n",
      "import pandas as pd"
     ],
     "language": "python",
     "metadata": {},
     "outputs": [],
     "prompt_number": 6
    },
    {
     "cell_type": "heading",
     "level": 1,
     "metadata": {},
     "source": [
      "High Order"
     ]
    },
    {
     "cell_type": "code",
     "collapsed": false,
     "input": [
      "def sla_violate(cpu, ram, broker):\n",
      "    cpu_pred,cpu_test = load_file(cpu)\n",
      "    ram_pred, ram_test = load_file(ram)\n",
      "    \n",
      "    resource_used = np.array(zip(*(cpu_test,ram_test)))\n",
      "    resource_predict = np.array(zip(*(cpu_pred,ram_pred)))\n",
      "    \n",
      "    number_of_VMs = np.array(broker.allocate_VMs(resource_used=resource_used,resource_predicted=resource_predict))\n",
      "    \n",
      "    cpu_pred_VMs = number_of_VMs * broker.capacity_VM[0]\n",
      "    ram_pred_VMs = number_of_VMs * broker.capacity_VM[1]\n",
      "    \n",
      "    c = np.array((cpu_test>=cpu_pred_VMs))\n",
      "    d = np.array((ram_test>=ram_pred_VMs))\n",
      "    e = np.array([(x or y) for x,y in zip(c,d)])\n",
      "    return float(len(e[e==True])) * 100/ len(e)"
     ],
     "language": "python",
     "metadata": {},
     "outputs": [],
     "prompt_number": 7
    },
    {
     "cell_type": "code",
     "collapsed": false,
     "input": [
      "broker = ProactiveManager(sla=1.5, past_consecutive_values=10)"
     ],
     "language": "python",
     "metadata": {},
     "outputs": [],
     "prompt_number": 41
    },
    {
     "cell_type": "code",
     "collapsed": false,
     "input": [
      "print \"BPNN SLA = %s\"%sla_violate('model_saved/BPNN_3_0.758963898566.npz', 'model_saved/BPNN_3_0.107712300012.npz',broker)\n",
      "print \"GABPNN SLA = %s\"%sla_violate('model_saved/GABPNN_3_0.87939447399.npz','model_saved/GABPNN_3_0.0599617422856.npz',broker)\n",
      "print \"FBPNN SLA = %s\"%sla_violate('model_saved/fuzzy_BPNN_5_0.912768973214.npz','model_saved/fuzzy_BPNN_5_0.0681936383929.npz',broker)\n",
      "print \"FGABPNN SLA = %s\"%sla_violate('model_saved/fuzzy_GABPNN_3_0.795924721604.npz','model_saved/fuzzy_GABPNN_3_0.0534459910913.npz',broker)"
     ],
     "language": "python",
     "metadata": {},
     "outputs": [
      {
       "output_type": "stream",
       "stream": "stdout",
       "text": [
        "BPNN SLA = 1.22494432071\n",
        "GABPNN SLA = 0.890868596882"
       ]
      },
      {
       "output_type": "stream",
       "stream": "stdout",
       "text": [
        "\n",
        "FBPNN SLA = 1.89732142857\n",
        "FGABPNN SLA = 0.779510022272\n"
       ]
      }
     ],
     "prompt_number": 42
    },
    {
     "cell_type": "code",
     "collapsed": false,
     "input": [],
     "language": "python",
     "metadata": {},
     "outputs": []
    }
   ],
   "metadata": {}
  }
 ]
}