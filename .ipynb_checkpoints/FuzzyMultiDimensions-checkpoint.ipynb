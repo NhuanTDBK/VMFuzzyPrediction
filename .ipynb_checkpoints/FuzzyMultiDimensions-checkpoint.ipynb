{
 "cells": [
  {
   "cell_type": "code",
   "execution_count": 1,
   "metadata": {
    "collapsed": false
   },
   "outputs": [
    {
     "name": "stderr",
     "output_type": "stream",
     "text": [
      "Mapped name None to device cuda: GeForce GT 630M\n",
      "Using cuDNN version 5103 on context None\n"
     ]
    }
   ],
   "source": [
    "import pandas as pd\n",
    "import numpy as np\n",
    "from sklearn.preprocessing import MinMaxScaler\n",
    "import math\n",
    "from estimators.NeuralFlow import *\n",
    "from utils.SlidingWindowUtil import SlidingWindow\n",
    "\n",
    "from sklearn import datasets, metrics\n",
    "from sklearn.metrics import mean_absolute_error, mean_squared_error\n",
    "from utils.GraphUtil import *\n",
    "from estimators.GAEstimator import GAEstimator\n",
    "from estimators.OptimizerNNEstimator import OptimizerNNEstimator\n",
    "from io_utils.NumLoad import *\n",
    "from sklearn.cross_validation import train_test_split\n",
    "from estimators.FuzzyFlow import FuzzyFlow\n",
    "from utils.TrainingTestMaker import TrainingTestMaker\n",
    "from scaling.ProactiveSLA import ProactiveSLA"
   ]
  },
  {
   "cell_type": "markdown",
   "metadata": {},
   "source": [
    "# Import Data"
   ]
  },
  {
   "cell_type": "code",
   "execution_count": 59,
   "metadata": {
    "collapsed": false
   },
   "outputs": [],
   "source": [
    "dataset_holder = []\n",
    "trainee_holder = {}\n",
    "metrics = [\"cpu_rate\",\"mem_usage\",\"disk_io_time\"]\n",
    "arr_desk = ['X_train','y_train','X_test']\n",
    "sliding_number = 3\n",
    "data = pd.read_csv('sampling_617685_metric_10min_datetime_origin.csv',parse_dates=True,index_col=0)[:3000]\n",
    "data.interpolate(inplace=True)\n",
    "for metric in metrics:\n",
    "    dat = pd.Series(data[metric].round(5))\n",
    "    fuzzy_engine = FuzzyFlow()\n",
    "    data_maker = TrainingTestMaker()\n",
    "    fuzzy_engine.fit_transform(dat)\n",
    "    sliding = np.array(list(SlidingWindow(fuzzy_engine.u_class_transform, sliding_number)))\n",
    "    X_train, y_train, X_test, y_test = data_maker.make_fuzzy_test(sliding, fuzzy_engine.u_class_transform, dat)\n",
    "    dataset_holder.append(fuzzy_engine)\n",
    "#     if(metric==\"cpu_rate\"):\n",
    "    trainee_holder[metric]={\n",
    "        'X_train':X_train,\n",
    "        \"y_train\":y_train,\n",
    "        \"X_test\":X_test,\n",
    "        \"y_test\":y_test\n",
    "    }\n",
    "#     else:\n",
    "#         trainee_holder[metric]={\n",
    "#             'X_train':np.array(X_train)*100+1,\n",
    "#             \"y_train\":np.array(y_train)*100+1,\n",
    "#             \"X_test\":np.array(X_test)*100+1,\n",
    "#             \"y_test\":np.array(y_test)\n",
    "#         }"
   ]
  },
  {
   "cell_type": "code",
   "execution_count": 60,
   "metadata": {
    "collapsed": false
   },
   "outputs": [],
   "source": [
    "# X_train = zip(trainee_holder['cpu_rate']['X_train'],trainee_holder['mem_usage']['X_train'])\n",
    "y_train = np.asarray(zip(*[trainee_holder[metric]['y_train'] for metric in metrics]))\n",
    "# X_test = zip(trainee_holder['cpu_rate']['X_test'],trainee_holder['mem_usage']['X_test'])\n",
    "X_train = []\n",
    "X_test = []\n",
    "# y_train = []\n",
    "for i in np.arange(len(trainee_holder['cpu_rate']['X_train'])):\n",
    "#     tmp = zip(trainee_holder['cpu_rate']['X_train'][i],trainee_holder['mem_usage']['X_train'][i])\n",
    "    tmp = zip(*[trainee_holder[metric]['X_train'][i] for metric in metrics])\n",
    "    X_train.append(np.ravel(tmp))\n",
    "for i in np.arange(len(trainee_holder['cpu_rate']['X_test'])):\n",
    "    tmp = zip(*[trainee_holder[metric]['X_test'][i] for metric in metrics])\n",
    "    X_test.append(np.ravel(tmp))\n",
    "X_train = np.array(X_train)\n",
    "X_test = np.array(X_test)\n",
    "#     y_train.append(np.ravel(zip(trainee_holder['cpu_rate']['y_train'][i],trainee_holder['mem_usage']['y_train'][i])))"
   ]
  },
  {
   "cell_type": "code",
   "execution_count": 40,
   "metadata": {
    "collapsed": false
   },
   "outputs": [
    {
     "name": "stderr",
     "output_type": "stream",
     "text": [
      "Using Theano backend.\n"
     ]
    }
   ],
   "source": [
    "from keras.layers import Dense\n",
    "from keras.models import Sequential\n",
    "from keras.callbacks import EarlyStopping\n",
    "from estimators.KerasRegressor import KerasRegressor"
   ]
  },
  {
   "cell_type": "code",
   "execution_count": 41,
   "metadata": {
    "collapsed": false
   },
   "outputs": [],
   "source": [
    "model = Sequential(\n",
    "    [\n",
    "        Dense(128,input_dim=X_train.shape[1],activation='relu'),\n",
    "        Dense(12,activation='relu'),\n",
    "        Dense(y_train.shape[1],activation='relu')\n",
    "    ])\n",
    "earlyStopping = EarlyStopping(monitor='val_loss',patience=30)"
   ]
  },
  {
   "cell_type": "code",
   "execution_count": 42,
   "metadata": {
    "collapsed": false
   },
   "outputs": [
    {
     "name": "stdout",
     "output_type": "stream",
     "text": [
      "Using matplotlib backend: Qt4Agg\n"
     ]
    },
    {
     "data": {
      "text/plain": [
       "<matplotlib.axes._subplots.AxesSubplot at 0x7f4b40022ed0>"
      ]
     },
     "execution_count": 42,
     "metadata": {},
     "output_type": "execute_result"
    }
   ],
   "source": [
    "%matplotlib\n",
    "pd.Series(dataset_holder[0].u_class_transform).plot()"
   ]
  },
  {
   "cell_type": "code",
   "execution_count": 43,
   "metadata": {
    "collapsed": true
   },
   "outputs": [],
   "source": [
    "model.compile(loss=\"mean_squared_error\",optimizer='adam')"
   ]
  },
  {
   "cell_type": "code",
   "execution_count": 46,
   "metadata": {
    "collapsed": false
   },
   "outputs": [
    {
     "name": "stdout",
     "output_type": "stream",
     "text": [
      "Initialization\n"
     ]
    }
   ],
   "source": [
    "model = KerasRegressor(hidden_nodes=[128,64],steps=5000,batch_size=32)"
   ]
  },
  {
   "cell_type": "code",
   "execution_count": 47,
   "metadata": {
    "collapsed": false
   },
   "outputs": [
    {
     "name": "stdout",
     "output_type": "stream",
     "text": [
      "____________________________________________________________________________________________________\n",
      "Layer (type)                     Output Shape          Param #     Connected to                     \n",
      "====================================================================================================\n",
      "dense_4 (Dense)                  (None, 128)           896         dense_input_2[0][0]              \n",
      "____________________________________________________________________________________________________\n",
      "dense_5 (Dense)                  (None, 64)            8256        dense_4[0][0]                    \n",
      "____________________________________________________________________________________________________\n",
      "dense_6 (Dense)                  (None, 2)             130         dense_5[0][0]                    \n",
      "====================================================================================================\n",
      "Total params: 9282\n",
      "____________________________________________________________________________________________________\n",
      "None\n"
     ]
    },
    {
     "data": {
      "text/plain": [
       "KerasRegressor(activation='relu', batch_size=32, learning_rate=0.1,\n",
       "        optimize=<class 'keras.optimizers.Adam'>, steps=5000,\n",
       "        uniform_init=True, weights_matrix=None)"
      ]
     },
     "execution_count": 47,
     "metadata": {},
     "output_type": "execute_result"
    }
   ],
   "source": [
    "model.fit(X_train,y_train)"
   ]
  },
  {
   "cell_type": "code",
   "execution_count": 53,
   "metadata": {
    "collapsed": true
   },
   "outputs": [],
   "source": [
    "classifier = model"
   ]
  },
  {
   "cell_type": "code",
   "execution_count": 56,
   "metadata": {
    "collapsed": false
   },
   "outputs": [
    {
     "name": "stdout",
     "output_type": "stream",
     "text": [
      "1.29006875278\n",
      "0.259685790646\n"
     ]
    }
   ],
   "source": [
    "y_pred = np.round(abs(classifier.predict(X_test)))\n",
    "y_cpu = dataset_holder[0].inverse_transform(abs(y_pred[:,0]))\n",
    "y_ram = dataset_holder[1].inverse_transform(abs(y_pred[:,1]))\n",
    "score_mae_CPU = mean_absolute_error(y_cpu, trainee_holder['cpu_rate']['y_test'])\n",
    "print score_mae_CPU\n",
    "score_mae_RAM = mean_absolute_error(y_ram, trainee_holder['mem_usage']['y_test'])\n",
    "print score_mae_RAM"
   ]
  },
  {
   "cell_type": "code",
   "execution_count": 57,
   "metadata": {
    "collapsed": false
   },
   "outputs": [
    {
     "data": {
      "text/plain": [
       "[1.10565,\n",
       " 1.10565,\n",
       " 1.10565,\n",
       " 1.10565,\n",
       " 1.10565,\n",
       " 1.10565,\n",
       " 1.10565,\n",
       " 1.10565,\n",
       " 1.10565,\n",
       " 1.10565,\n",
       " 1.10565,\n",
       " 1.10565,\n",
       " 1.10565,\n",
       " 1.10565,\n",
       " 1.10565,\n",
       " 1.10565,\n",
       " 1.10565,\n",
       " 1.10565,\n",
       " 1.10565,\n",
       " 1.10565,\n",
       " 1.10565,\n",
       " 1.10565,\n",
       " 1.10565,\n",
       " 1.10565,\n",
       " 1.10565,\n",
       " 1.10565,\n",
       " 1.10565,\n",
       " 1.10565,\n",
       " 1.10565,\n",
       " 1.10565,\n",
       " 1.10565,\n",
       " 1.10565,\n",
       " 1.10565,\n",
       " 1.10565,\n",
       " 1.10565,\n",
       " 1.10565,\n",
       " 1.10565,\n",
       " 1.10565,\n",
       " 1.10565,\n",
       " 1.10565,\n",
       " 1.10565,\n",
       " 1.10565,\n",
       " 1.10565,\n",
       " 1.10565,\n",
       " 1.10565,\n",
       " 1.10565,\n",
       " 1.10565,\n",
       " 1.10565,\n",
       " 1.10565,\n",
       " 1.10565,\n",
       " 1.10565,\n",
       " 1.10565,\n",
       " 1.10565,\n",
       " 1.10565,\n",
       " 1.10565,\n",
       " 1.10565,\n",
       " 1.10565,\n",
       " 1.10565,\n",
       " 1.10565,\n",
       " 1.10565,\n",
       " 1.10565,\n",
       " 1.10565,\n",
       " 1.10565,\n",
       " 1.10565,\n",
       " 1.10565,\n",
       " 1.10565,\n",
       " 1.10565,\n",
       " 1.10565,\n",
       " 1.10565,\n",
       " 1.10565,\n",
       " 1.10565,\n",
       " 1.10565,\n",
       " 1.10565,\n",
       " 1.10565,\n",
       " 1.10565,\n",
       " 1.10565,\n",
       " 1.10565,\n",
       " 1.10565,\n",
       " 1.10565,\n",
       " 1.10565,\n",
       " 1.10565,\n",
       " 1.10565,\n",
       " 1.10565,\n",
       " 1.10565,\n",
       " 1.10565,\n",
       " 1.10565,\n",
       " 1.10565,\n",
       " 1.10565,\n",
       " 1.10565,\n",
       " 1.10565,\n",
       " 1.10565,\n",
       " 1.10565,\n",
       " 1.10565,\n",
       " 1.10565,\n",
       " 1.10565,\n",
       " 1.10565,\n",
       " 1.10565,\n",
       " 1.10565,\n",
       " 1.10565,\n",
       " 1.10565,\n",
       " 1.10565,\n",
       " 1.10565,\n",
       " 1.10565,\n",
       " 1.10565,\n",
       " 1.10565,\n",
       " 1.10565,\n",
       " 1.10565,\n",
       " 1.10565,\n",
       " 1.10565,\n",
       " 1.10565,\n",
       " 1.10565,\n",
       " 1.10565,\n",
       " 1.10565,\n",
       " 1.10565,\n",
       " 1.10565,\n",
       " 1.10565,\n",
       " 1.10565,\n",
       " 1.10565,\n",
       " 1.10565,\n",
       " 1.10565,\n",
       " 1.10565,\n",
       " 1.10565,\n",
       " 1.10565,\n",
       " 1.10565,\n",
       " 1.10565,\n",
       " 1.10565,\n",
       " 1.10565,\n",
       " 1.10565,\n",
       " 1.10565,\n",
       " 1.10565,\n",
       " 1.10565,\n",
       " 1.10565,\n",
       " 1.10565,\n",
       " 1.10565,\n",
       " 1.10565,\n",
       " 1.10565,\n",
       " 1.10565,\n",
       " 1.10565,\n",
       " 1.10565,\n",
       " 1.10565,\n",
       " 1.10565,\n",
       " 1.10565,\n",
       " 1.10565,\n",
       " 1.10565,\n",
       " 1.10565,\n",
       " 1.10565,\n",
       " 1.10565,\n",
       " 1.10565,\n",
       " 1.10565,\n",
       " 1.10565,\n",
       " 1.10565,\n",
       " 1.10565,\n",
       " 1.10565,\n",
       " 1.10565,\n",
       " 1.10565,\n",
       " 1.10565,\n",
       " 1.10565,\n",
       " 1.10565,\n",
       " 1.10565,\n",
       " 1.10565,\n",
       " 1.10565,\n",
       " 1.10565,\n",
       " 1.10565,\n",
       " 1.10565,\n",
       " 1.10565,\n",
       " 1.10565,\n",
       " 1.10565,\n",
       " 1.10565,\n",
       " 1.10565,\n",
       " 1.10565,\n",
       " 1.10565,\n",
       " 1.10565,\n",
       " 1.10565,\n",
       " 1.10565,\n",
       " 1.10565,\n",
       " 1.10565,\n",
       " 1.10565,\n",
       " 1.10565,\n",
       " 1.10565,\n",
       " 1.10565,\n",
       " 1.10565,\n",
       " 1.10565,\n",
       " 1.10565,\n",
       " 1.10565,\n",
       " 1.10565,\n",
       " 1.10565,\n",
       " 1.10565,\n",
       " 1.10565,\n",
       " 1.10565,\n",
       " 1.10565,\n",
       " 1.10565,\n",
       " 1.10565,\n",
       " 1.10565,\n",
       " 1.10565,\n",
       " 1.10565,\n",
       " 1.10565,\n",
       " 1.10565,\n",
       " 1.10565,\n",
       " 1.10565,\n",
       " 1.10565,\n",
       " 1.10565,\n",
       " 1.10565,\n",
       " 1.10565,\n",
       " 1.10565,\n",
       " 1.10565,\n",
       " 1.10565,\n",
       " 1.10565,\n",
       " 1.10565,\n",
       " 1.10565,\n",
       " 1.10565,\n",
       " 1.10565,\n",
       " 1.10565,\n",
       " 1.10565,\n",
       " 1.10565,\n",
       " 1.10565,\n",
       " 1.10565,\n",
       " 1.10565,\n",
       " 1.10565,\n",
       " 1.10565,\n",
       " 1.10565,\n",
       " 1.10565,\n",
       " 1.10565,\n",
       " 1.10565,\n",
       " 1.10565,\n",
       " 1.10565,\n",
       " 1.10565,\n",
       " 1.10565,\n",
       " 1.10565,\n",
       " 1.10565,\n",
       " 1.10565,\n",
       " 1.10565,\n",
       " 1.10565,\n",
       " 1.10565,\n",
       " 1.10565,\n",
       " 1.10565,\n",
       " 1.10565,\n",
       " 1.10565,\n",
       " 1.10565,\n",
       " 1.10565,\n",
       " 1.10565,\n",
       " 1.10565,\n",
       " 1.10565,\n",
       " 1.10565,\n",
       " 1.10565,\n",
       " 1.10565,\n",
       " 1.10565,\n",
       " 1.10565,\n",
       " 1.10565,\n",
       " 1.10565,\n",
       " 1.10565,\n",
       " 1.10565,\n",
       " 1.10565,\n",
       " 1.10565,\n",
       " 1.10565,\n",
       " 1.10565,\n",
       " 1.10565,\n",
       " 1.10565,\n",
       " 1.10565,\n",
       " 1.10565,\n",
       " 1.10565,\n",
       " 1.10565,\n",
       " 1.10565,\n",
       " 1.10565,\n",
       " 1.10565,\n",
       " 1.10565,\n",
       " 1.10565,\n",
       " 1.10565,\n",
       " 1.10565,\n",
       " 1.10565,\n",
       " 1.10565,\n",
       " 1.10565,\n",
       " 1.10565,\n",
       " 1.10565,\n",
       " 1.10565,\n",
       " 1.10565,\n",
       " 1.10565,\n",
       " 1.10565,\n",
       " 1.10565,\n",
       " 1.10565,\n",
       " 1.10565,\n",
       " 1.10565,\n",
       " 1.10565,\n",
       " 1.10565,\n",
       " 1.10565,\n",
       " 1.10565,\n",
       " 1.10565,\n",
       " 1.10565,\n",
       " 1.10565,\n",
       " 1.10565,\n",
       " 1.10565,\n",
       " 1.10565,\n",
       " 1.10565,\n",
       " 1.10565,\n",
       " 1.10565,\n",
       " 1.10565,\n",
       " 1.10565,\n",
       " 1.10565,\n",
       " 1.10565,\n",
       " 1.10565,\n",
       " 1.10565,\n",
       " 1.10565,\n",
       " 1.10565,\n",
       " 1.10565,\n",
       " 1.10565,\n",
       " 1.10565,\n",
       " 1.10565,\n",
       " 1.10565,\n",
       " 1.10565,\n",
       " 1.10565,\n",
       " 1.10565,\n",
       " 1.10565,\n",
       " 1.10565,\n",
       " 1.10565,\n",
       " 1.10565,\n",
       " 1.10565,\n",
       " 1.10565,\n",
       " 1.10565,\n",
       " 1.10565,\n",
       " 1.10565,\n",
       " 1.10565,\n",
       " 1.10565,\n",
       " 1.10565,\n",
       " 1.10565,\n",
       " 1.10565,\n",
       " 1.10565,\n",
       " 1.10565,\n",
       " 1.10565,\n",
       " 1.10565,\n",
       " 1.10565,\n",
       " 1.10565,\n",
       " 1.10565,\n",
       " 1.10565,\n",
       " 1.10565,\n",
       " 1.10565,\n",
       " 1.10565,\n",
       " 1.10565,\n",
       " 1.10565,\n",
       " 1.10565,\n",
       " 1.10565,\n",
       " 1.10565,\n",
       " 1.10565,\n",
       " 1.10565,\n",
       " 1.10565,\n",
       " 1.10565,\n",
       " 1.10565,\n",
       " 1.10565,\n",
       " 1.10565,\n",
       " 1.10565,\n",
       " 1.10565,\n",
       " 1.10565,\n",
       " 1.10565,\n",
       " 1.10565,\n",
       " 1.10565,\n",
       " 1.10565,\n",
       " 1.10565,\n",
       " 1.10565,\n",
       " 1.10565,\n",
       " 1.10565,\n",
       " 1.10565,\n",
       " 1.10565,\n",
       " 1.10565,\n",
       " 1.10565,\n",
       " 1.10565,\n",
       " 1.10565,\n",
       " 1.10565,\n",
       " 1.10565,\n",
       " 1.10565,\n",
       " 1.10565,\n",
       " 1.10565,\n",
       " 1.10565,\n",
       " 1.10565,\n",
       " 1.10565,\n",
       " 1.10565,\n",
       " 1.10565,\n",
       " 1.10565,\n",
       " 1.10565,\n",
       " 1.10565,\n",
       " 1.10565,\n",
       " 1.10565,\n",
       " 1.10565,\n",
       " 1.10565,\n",
       " 1.10565,\n",
       " 1.10565,\n",
       " 1.10565,\n",
       " 1.10565,\n",
       " 1.10565,\n",
       " 1.10565,\n",
       " 1.10565,\n",
       " 1.10565,\n",
       " 1.10565,\n",
       " 1.10565,\n",
       " 1.10565,\n",
       " 1.10565,\n",
       " 1.10565,\n",
       " 1.10565,\n",
       " 1.10565,\n",
       " 1.10565,\n",
       " 1.10565,\n",
       " 1.10565,\n",
       " 1.10565,\n",
       " 1.10565,\n",
       " 1.10565,\n",
       " 1.10565,\n",
       " 1.10565,\n",
       " 1.10565,\n",
       " 1.10565,\n",
       " 1.10565,\n",
       " 1.10565,\n",
       " 1.10565,\n",
       " 1.10565,\n",
       " 1.10565,\n",
       " 1.10565,\n",
       " 1.10565,\n",
       " 1.10565,\n",
       " 1.10565,\n",
       " 1.10565,\n",
       " 1.10565,\n",
       " 1.10565,\n",
       " 1.10565,\n",
       " 1.10565,\n",
       " 1.10565,\n",
       " 1.10565,\n",
       " 1.10565,\n",
       " 1.10565,\n",
       " 1.10565,\n",
       " 1.10565,\n",
       " 1.10565,\n",
       " 1.10565,\n",
       " 1.10565,\n",
       " 1.10565,\n",
       " 1.10565,\n",
       " 1.10565,\n",
       " 1.10565,\n",
       " 1.10565,\n",
       " 1.10565,\n",
       " 1.10565,\n",
       " 1.10565,\n",
       " 1.10565,\n",
       " 1.10565,\n",
       " 1.10565,\n",
       " 1.10565,\n",
       " 1.10565,\n",
       " 1.10565,\n",
       " 1.10565,\n",
       " 1.10565,\n",
       " 1.10565,\n",
       " 1.10565,\n",
       " 1.10565,\n",
       " 1.10565,\n",
       " 1.10565,\n",
       " 1.10565,\n",
       " 1.10565,\n",
       " 1.10565,\n",
       " 1.10565,\n",
       " 1.10565,\n",
       " 1.10565,\n",
       " 1.10565,\n",
       " 1.10565,\n",
       " 1.10565,\n",
       " 1.10565,\n",
       " 1.10565,\n",
       " 1.10565,\n",
       " 1.10565,\n",
       " 1.10565,\n",
       " 1.10565,\n",
       " 1.10565,\n",
       " 1.10565,\n",
       " 1.10565,\n",
       " 1.10565,\n",
       " 1.10565,\n",
       " 1.10565,\n",
       " 1.10565,\n",
       " 1.10565,\n",
       " 1.10565,\n",
       " 1.10565,\n",
       " 1.10565,\n",
       " 1.10565,\n",
       " 1.10565,\n",
       " 1.10565,\n",
       " 1.10565,\n",
       " 1.10565,\n",
       " 1.10565,\n",
       " 1.10565,\n",
       " 1.10565,\n",
       " 1.10565,\n",
       " 1.10565,\n",
       " 1.10565,\n",
       " 1.10565,\n",
       " 1.10565,\n",
       " 1.10565,\n",
       " 1.10565,\n",
       " 1.10565,\n",
       " 1.10565,\n",
       " 1.10565,\n",
       " 1.10565,\n",
       " 1.10565,\n",
       " 1.10565,\n",
       " 1.10565,\n",
       " 1.10565,\n",
       " 1.10565,\n",
       " 1.10565,\n",
       " 1.10565,\n",
       " 1.10565,\n",
       " 1.10565,\n",
       " 1.10565,\n",
       " 1.10565,\n",
       " 1.10565,\n",
       " 1.10565,\n",
       " 1.10565,\n",
       " 1.10565,\n",
       " 1.10565,\n",
       " 1.10565,\n",
       " 1.10565,\n",
       " 1.10565,\n",
       " 1.10565,\n",
       " 1.10565,\n",
       " 1.10565,\n",
       " 1.10565,\n",
       " 1.10565,\n",
       " 1.10565,\n",
       " 1.10565,\n",
       " 1.10565,\n",
       " 1.10565,\n",
       " 1.10565,\n",
       " 1.10565,\n",
       " 1.10565,\n",
       " 1.10565,\n",
       " 1.10565,\n",
       " 1.10565,\n",
       " 1.10565,\n",
       " 1.10565,\n",
       " 1.10565,\n",
       " 1.10565,\n",
       " 1.10565,\n",
       " 1.10565,\n",
       " 1.10565,\n",
       " 1.10565,\n",
       " 1.10565,\n",
       " 1.10565,\n",
       " 1.10565,\n",
       " 1.10565,\n",
       " 1.10565,\n",
       " 1.10565,\n",
       " 1.10565,\n",
       " 1.10565,\n",
       " 1.10565,\n",
       " 1.10565,\n",
       " 1.10565,\n",
       " 1.10565,\n",
       " 1.10565,\n",
       " 1.10565,\n",
       " 1.10565,\n",
       " 1.10565,\n",
       " 1.10565,\n",
       " 1.10565,\n",
       " 1.10565,\n",
       " 1.10565,\n",
       " 1.10565,\n",
       " 1.10565,\n",
       " 1.10565,\n",
       " 1.10565,\n",
       " 1.10565,\n",
       " 1.10565,\n",
       " 1.10565,\n",
       " 1.10565,\n",
       " 1.10565,\n",
       " 1.10565,\n",
       " 1.10565,\n",
       " 1.10565,\n",
       " 1.10565,\n",
       " 1.10565,\n",
       " 1.10565,\n",
       " 1.10565,\n",
       " 1.10565,\n",
       " 1.10565,\n",
       " 1.10565,\n",
       " 1.10565,\n",
       " 1.10565,\n",
       " 1.10565,\n",
       " 1.10565,\n",
       " 1.10565,\n",
       " 1.10565,\n",
       " 1.10565,\n",
       " 1.10565,\n",
       " 1.10565,\n",
       " 1.10565,\n",
       " 1.10565,\n",
       " 1.10565,\n",
       " 1.10565,\n",
       " 1.10565,\n",
       " 1.10565,\n",
       " 1.10565,\n",
       " 1.10565,\n",
       " 1.10565,\n",
       " 1.10565,\n",
       " 1.10565,\n",
       " 1.10565,\n",
       " 1.10565,\n",
       " 1.10565,\n",
       " 1.10565,\n",
       " 1.10565,\n",
       " 1.10565,\n",
       " 1.10565,\n",
       " 1.10565,\n",
       " 1.10565,\n",
       " 1.10565,\n",
       " 1.10565,\n",
       " 1.10565,\n",
       " 1.10565,\n",
       " 1.10565,\n",
       " 1.10565,\n",
       " 1.10565,\n",
       " 1.10565,\n",
       " 1.10565,\n",
       " 1.10565,\n",
       " 1.10565,\n",
       " 1.10565,\n",
       " 1.10565,\n",
       " 1.10565,\n",
       " 1.10565,\n",
       " 1.10565,\n",
       " 1.10565,\n",
       " 1.10565,\n",
       " 1.10565,\n",
       " 1.10565,\n",
       " 1.10565,\n",
       " 1.10565,\n",
       " 1.10565,\n",
       " 1.10565,\n",
       " 1.10565,\n",
       " 1.10565,\n",
       " 1.10565,\n",
       " 1.10565,\n",
       " 1.10565,\n",
       " 1.10565,\n",
       " 1.10565,\n",
       " 1.10565,\n",
       " 1.10565,\n",
       " 1.10565,\n",
       " 1.10565,\n",
       " 1.10565,\n",
       " 1.10565,\n",
       " 1.10565,\n",
       " 1.10565,\n",
       " 1.10565,\n",
       " 1.10565,\n",
       " 1.10565,\n",
       " 1.10565,\n",
       " 1.10565,\n",
       " 1.10565,\n",
       " 1.10565,\n",
       " 1.10565,\n",
       " 1.10565,\n",
       " 1.10565,\n",
       " 1.10565,\n",
       " 1.10565,\n",
       " 1.10565,\n",
       " 1.10565,\n",
       " 1.10565,\n",
       " 1.10565,\n",
       " 1.10565,\n",
       " 1.10565,\n",
       " 1.10565,\n",
       " 1.10565,\n",
       " 1.10565,\n",
       " 1.10565,\n",
       " 1.10565,\n",
       " 1.10565,\n",
       " 1.10565,\n",
       " 1.10565,\n",
       " 1.10565,\n",
       " 1.10565,\n",
       " 1.10565,\n",
       " 1.10565,\n",
       " 1.10565,\n",
       " 1.10565,\n",
       " 1.10565,\n",
       " 1.10565,\n",
       " 1.10565,\n",
       " 1.10565,\n",
       " 1.10565,\n",
       " 1.10565,\n",
       " 1.10565,\n",
       " 1.10565,\n",
       " 1.10565,\n",
       " 1.10565,\n",
       " 1.10565,\n",
       " 1.10565,\n",
       " 1.10565,\n",
       " 1.10565,\n",
       " 1.10565,\n",
       " 1.10565,\n",
       " 1.10565,\n",
       " 1.10565,\n",
       " 1.10565,\n",
       " 1.10565,\n",
       " 1.10565,\n",
       " 1.10565,\n",
       " 1.10565,\n",
       " 1.10565,\n",
       " 1.10565,\n",
       " 1.10565,\n",
       " 1.10565,\n",
       " 1.10565,\n",
       " 1.10565,\n",
       " 1.10565,\n",
       " 1.10565,\n",
       " 1.10565,\n",
       " 1.10565,\n",
       " 1.10565,\n",
       " 1.10565,\n",
       " 1.10565,\n",
       " 1.10565,\n",
       " 1.10565,\n",
       " 1.10565,\n",
       " 1.10565,\n",
       " 1.10565,\n",
       " 1.10565,\n",
       " 1.10565,\n",
       " 1.10565,\n",
       " 1.10565,\n",
       " 1.10565,\n",
       " 1.10565,\n",
       " 1.10565,\n",
       " 1.10565,\n",
       " 1.10565,\n",
       " 1.10565,\n",
       " 1.10565,\n",
       " 1.10565,\n",
       " 1.10565,\n",
       " 1.10565,\n",
       " 1.10565,\n",
       " 1.10565,\n",
       " 1.10565,\n",
       " 1.10565,\n",
       " 1.10565,\n",
       " 1.10565,\n",
       " 1.10565,\n",
       " 1.10565,\n",
       " 1.10565,\n",
       " 1.10565,\n",
       " 1.10565,\n",
       " 1.10565,\n",
       " 1.10565,\n",
       " 1.10565,\n",
       " 1.10565,\n",
       " 1.10565,\n",
       " 1.10565,\n",
       " 1.10565,\n",
       " 1.10565,\n",
       " 1.10565,\n",
       " 1.10565,\n",
       " 1.10565,\n",
       " 1.10565,\n",
       " 1.10565,\n",
       " 1.10565,\n",
       " 1.10565,\n",
       " 1.10565,\n",
       " 1.10565,\n",
       " 1.10565,\n",
       " 1.10565,\n",
       " 1.10565,\n",
       " 1.10565,\n",
       " 1.10565,\n",
       " 1.10565,\n",
       " 1.10565,\n",
       " 1.10565,\n",
       " 1.10565,\n",
       " 1.10565,\n",
       " 1.10565,\n",
       " 1.10565,\n",
       " 1.10565,\n",
       " 1.10565,\n",
       " 1.10565,\n",
       " 1.10565,\n",
       " 1.10565,\n",
       " 1.10565,\n",
       " 1.10565,\n",
       " 1.10565,\n",
       " 1.10565,\n",
       " 1.10565,\n",
       " 1.10565,\n",
       " 1.10565,\n",
       " 1.10565,\n",
       " 1.10565,\n",
       " 1.10565,\n",
       " 1.10565,\n",
       " 1.10565,\n",
       " 1.10565,\n",
       " 1.10565,\n",
       " 1.10565,\n",
       " 1.10565,\n",
       " 1.10565,\n",
       " 1.10565,\n",
       " 1.10565,\n",
       " 1.10565,\n",
       " 1.10565,\n",
       " 1.10565,\n",
       " 1.10565,\n",
       " 1.10565,\n",
       " 1.10565,\n",
       " 1.10565,\n",
       " 1.10565,\n",
       " 1.10565,\n",
       " 1.10565,\n",
       " 1.10565,\n",
       " 1.10565,\n",
       " 1.10565,\n",
       " 1.10565,\n",
       " 1.10565,\n",
       " 1.10565,\n",
       " 1.10565,\n",
       " 1.10565,\n",
       " 1.10565,\n",
       " 1.10565,\n",
       " 1.10565,\n",
       " 1.10565,\n",
       " 1.10565,\n",
       " 1.10565,\n",
       " 1.10565,\n",
       " 1.10565,\n",
       " 1.10565,\n",
       " 1.10565,\n",
       " 1.10565,\n",
       " 1.10565,\n",
       " 1.10565,\n",
       " 1.10565,\n",
       " 1.10565,\n",
       " 1.10565,\n",
       " 1.10565,\n",
       " 1.10565,\n",
       " 1.10565,\n",
       " 1.10565,\n",
       " 1.10565,\n",
       " 1.10565,\n",
       " 1.10565,\n",
       " 1.10565,\n",
       " 1.10565,\n",
       " 1.10565,\n",
       " 1.10565,\n",
       " 1.10565,\n",
       " 1.10565,\n",
       " 1.10565,\n",
       " 1.10565,\n",
       " 1.10565,\n",
       " 1.10565,\n",
       " 1.10565,\n",
       " 1.10565,\n",
       " 1.10565,\n",
       " 1.10565,\n",
       " 1.10565,\n",
       " 1.10565,\n",
       " 1.10565,\n",
       " 1.10565,\n",
       " 1.10565,\n",
       " 1.10565,\n",
       " 1.10565,\n",
       " 1.10565,\n",
       " 1.10565,\n",
       " 1.10565,\n",
       " 1.10565,\n",
       " 1.10565,\n",
       " 1.10565,\n",
       " 1.10565,\n",
       " 1.10565,\n",
       " 1.10565,\n",
       " 1.10565,\n",
       " 1.10565,\n",
       " 1.10565,\n",
       " 1.10565,\n",
       " 1.10565,\n",
       " 1.10565,\n",
       " 1.10565,\n",
       " 1.10565,\n",
       " 1.10565,\n",
       " 1.10565,\n",
       " 1.10565,\n",
       " 1.10565,\n",
       " 1.10565,\n",
       " 1.10565,\n",
       " 1.10565,\n",
       " 1.10565,\n",
       " 1.10565,\n",
       " 1.10565,\n",
       " 1.10565,\n",
       " 1.10565,\n",
       " 1.10565,\n",
       " 1.10565,\n",
       " 1.10565,\n",
       " 1.10565,\n",
       " 1.10565,\n",
       " 1.10565,\n",
       " 1.10565,\n",
       " 1.10565,\n",
       " 1.10565,\n",
       " 1.10565,\n",
       " 1.10565,\n",
       " 1.10565]"
      ]
     },
     "execution_count": 57,
     "metadata": {},
     "output_type": "execute_result"
    }
   ],
   "source": [
    "y_cpu"
   ]
  },
  {
   "cell_type": "code",
   "execution_count": 58,
   "metadata": {
    "collapsed": false
   },
   "outputs": [
    {
     "name": "stdout",
     "output_type": "stream",
     "text": [
      "Using matplotlib backend: Qt4Agg\n"
     ]
    },
    {
     "data": {
      "text/plain": [
       "<matplotlib.axes._subplots.AxesSubplot at 0x7f4b1aaf5650>"
      ]
     },
     "execution_count": 58,
     "metadata": {},
     "output_type": "execute_result"
    }
   ],
   "source": [
    "%matplotlib\n",
    "# plot_figure_with_label(y_pred=y_cpu[100:200], y_test=trainee_holder['cpu_rate']['y_test'][100:200], \n",
    "#                        title='Fuzzy BPNN Multi Dimension (Sliding Window Size = 3)', metric='CPU Utilization (%)')\n",
    "plot_figure_with_label(y_pred=y_ram[100:200], y_test=trainee_holder['mem_usage']['y_test'][100:200], \n",
    "                       title='Fuzzy BPNN Multi Dimension (Sliding Window Size = 3)', metric='Memory Usage (%)')"
   ]
  },
  {
   "cell_type": "code",
   "execution_count": 17,
   "metadata": {
    "collapsed": false
   },
   "outputs": [],
   "source": [
    "np.savez('model_saved/CPU_BPNNM_%s_%s' % (sliding_number, score_mae_CPU), y_pred=y_cpu, \n",
    "         y_true=trainee_holder['cpu_rate']['y_test'])\n",
    "np.savez('model_saved/RAM_BPNNM_%s_%s' % (sliding_number, score_mae_RAM), \n",
    "         y_pred=y_ram, y_test=trainee_holder['mem_usage']['y_test'])"
   ]
  },
  {
   "cell_type": "markdown",
   "metadata": {},
   "source": [
    "# Fuzzy GABPNN"
   ]
  },
  {
   "cell_type": "code",
   "execution_count": 5,
   "metadata": {
    "collapsed": false
   },
   "outputs": [],
   "source": [
    "n_hidden = 7\n",
    "fit_params = {\n",
    "    'neural_shape': [len(X_train[0]), n_hidden, 2]\n",
    "}\n",
    "ga_estimator = GAEstimator(cross_rate=0.5, mutation_rate=0.02, gen_size=100, pop_size=30)\n",
    "nn = NeuralFlowRegressor(hidden_nodes=[n_hidden], optimize='Adam',activation='sigmoid'\n",
    "                         , steps=7000, learning_rate=1E-02)\n",
    "classifier = OptimizerNNEstimator(ga_estimator, nn)\n",
    "classifier.fit(X_train,y_train, **fit_params)"
   ]
  },
  {
   "cell_type": "code",
   "execution_count": 20,
   "metadata": {
    "collapsed": false
   },
   "outputs": [
    {
     "name": "stdout",
     "output_type": "stream",
     "text": [
      "0.785109242762\n",
      "0.11264298441\n"
     ]
    }
   ],
   "source": [
    "y_pred = np.round(abs(classifier.predict(X_test)))\n",
    "y_cpu = dataset_holder[0].inverse_transform(abs(y_pred[:,0]))\n",
    "y_ram = dataset_holder[1].inverse_transform(abs(y_pred[:,1]))\n",
    "score_mae_CPU = mean_absolute_error(y_cpu, trainee_holder['cpu_rate']['y_test'])\n",
    "print score_mae_CPU\n",
    "score_mae_RAM = mean_absolute_error(y_ram, trainee_holder['mem_usage']['y_test'])\n",
    "print score_mae_RAM"
   ]
  },
  {
   "cell_type": "code",
   "execution_count": 27,
   "metadata": {
    "collapsed": false
   },
   "outputs": [
    {
     "name": "stdout",
     "output_type": "stream",
     "text": [
      "Using matplotlib backend: Qt4Agg\n"
     ]
    },
    {
     "data": {
      "text/plain": [
       "<matplotlib.axes._subplots.AxesSubplot at 0x7faea01a5450>"
      ]
     },
     "execution_count": 27,
     "metadata": {},
     "output_type": "execute_result"
    }
   ],
   "source": [
    "%matplotlib\n",
    "# plot_figure_with_label(y_pred=y_cpu[100:200], y_test=trainee_holder['cpu_rate']['y_test'][100:200], \n",
    "#                        title='Fuzzy GABPNN Multi Dimension (Sliding Window Size = 3)', metric='CPU Utilization (%)')\n",
    "plot_figure_with_label(y_pred=y_ram[100:200], y_test=trainee_holder['mem_usage']['y_test'][100:200], \n",
    "                       title='Fuzzy GABPNN Multi Dimension (Sliding Window Size = 3)', metric='Memory Usage (%)')"
   ]
  },
  {
   "cell_type": "code",
   "execution_count": 21,
   "metadata": {
    "collapsed": false
   },
   "outputs": [],
   "source": [
    "np.savez('model_saved/CPU_FGABPNNM_%s_%s' % (sliding_number, score_mae_CPU), y_pred=y_cpu, \n",
    "         y_true=trainee_holder['cpu_rate']['y_test'])\n",
    "np.savez('model_saved/RAM_FGABPNNM_%s_%s' % (sliding_number, score_mae_RAM), \n",
    "         y_pred=y_ram, y_test=trainee_holder['mem_usage']['y_test'])"
   ]
  },
  {
   "cell_type": "markdown",
   "metadata": {},
   "source": [
    "# Keras Multilayers"
   ]
  },
  {
   "cell_type": "code",
   "execution_count": 4,
   "metadata": {
    "collapsed": false
   },
   "outputs": [
    {
     "name": "stderr",
     "output_type": "stream",
     "text": [
      "Using Theano backend.\n"
     ]
    }
   ],
   "source": [
    "from keras.models import Model, Sequential\n",
    "from keras.layers import Input, Dense, Dropout, Merge\n",
    "from keras.utils.visualize_util import plot\n",
    "from keras.callbacks import EarlyStopping\n",
    "from IPython.display import SVG\n",
    "from keras.utils.visualize_util import model_to_dot"
   ]
  },
  {
   "cell_type": "code",
   "execution_count": 5,
   "metadata": {
    "collapsed": false
   },
   "outputs": [],
   "source": [
    "cpu_train = X_train[:,:3]\n",
    "ram_train = X_train[:,3:]\n",
    "cpu_test = X_test[:,:3]\n",
    "ram_test = X_test[:,3:]"
   ]
  },
  {
   "cell_type": "code",
   "execution_count": 6,
   "metadata": {
    "collapsed": false
   },
   "outputs": [],
   "source": [
    "cpu_target = trainee_holder['cpu_rate']['y_test']\n",
    "ram_target = trainee_holder['mem_usage']['y_test']"
   ]
  },
  {
   "cell_type": "code",
   "execution_count": 61,
   "metadata": {
    "collapsed": false
   },
   "outputs": [],
   "source": [
    "model_cpu = Sequential([Dense(3, input_dim=cpu_train.shape[1],activation='relu')])\n",
    "model_ram = Sequential([Dense(3, input_dim=ram_train.shape[1],activation='relu')])"
   ]
  },
  {
   "cell_type": "code",
   "execution_count": 62,
   "metadata": {
    "collapsed": false
   },
   "outputs": [],
   "source": [
    "merged_model = Sequential()\n",
    "merged_model.add(Merge([model_cpu, model_ram], mode='ave', concat_axis=1))\n",
    "infer_model = Sequential([\n",
    "        merged_model,\n",
    "        Dense(1024, activation='relu'),\n",
    "        Dropout(0.5),\n",
    "        Dense(512,activation='relu'),\n",
    "        Dense(256,activation='relu'),\n",
    "        Dense(32,activation='relu'),\n",
    "        Dense(output_dim=2,activation='relu')\n",
    "    ])"
   ]
  },
  {
   "cell_type": "code",
   "execution_count": 63,
   "metadata": {
    "collapsed": false
   },
   "outputs": [],
   "source": [
    "infer_model.compile(loss='mean_squared_error',optimizer='adam')\n",
    "earlyStop = EarlyStopping(monitor='val_loss',patience=20)"
   ]
  },
  {
   "cell_type": "code",
   "execution_count": 64,
   "metadata": {
    "collapsed": false
   },
   "outputs": [
    {
     "name": "stdout",
     "output_type": "stream",
     "text": [
      "Train on 1890 samples, validate on 210 samples\n",
      "Epoch 1/5000\n",
      "0s - loss: 10.6999 - val_loss: 64.7213\n",
      "Epoch 2/5000\n",
      "0s - loss: 7.2567 - val_loss: 63.8412\n",
      "Epoch 3/5000\n",
      "0s - loss: 7.1655 - val_loss: 63.4482\n",
      "Epoch 4/5000\n",
      "0s - loss: 7.1745 - val_loss: 63.4283\n",
      "Epoch 5/5000\n",
      "0s - loss: 7.1396 - val_loss: 63.7168\n",
      "Epoch 6/5000\n",
      "0s - loss: 7.1425 - val_loss: 63.7338\n",
      "Epoch 7/5000\n",
      "0s - loss: 7.1477 - val_loss: 65.2760\n",
      "Epoch 8/5000\n",
      "0s - loss: 7.1754 - val_loss: 63.7664\n",
      "Epoch 9/5000\n",
      "0s - loss: 7.1487 - val_loss: 64.4669\n",
      "Epoch 10/5000\n",
      "0s - loss: 7.1682 - val_loss: 64.3312\n",
      "Epoch 11/5000\n",
      "0s - loss: 7.1363 - val_loss: 63.5353\n",
      "Epoch 12/5000\n",
      "0s - loss: 7.1573 - val_loss: 64.8231\n",
      "Epoch 13/5000\n",
      "0s - loss: 7.1606 - val_loss: 64.3240\n",
      "Epoch 14/5000\n",
      "0s - loss: 7.1400 - val_loss: 64.1241\n",
      "Epoch 15/5000\n",
      "0s - loss: 7.1415 - val_loss: 63.8108\n",
      "Epoch 16/5000\n",
      "0s - loss: 7.2563 - val_loss: 64.2214\n",
      "Epoch 17/5000\n",
      "0s - loss: 7.2512 - val_loss: 64.3820\n",
      "Epoch 18/5000\n",
      "0s - loss: 7.1624 - val_loss: 63.4711\n",
      "Epoch 19/5000\n",
      "0s - loss: 7.1666 - val_loss: 63.2462\n",
      "Epoch 20/5000\n",
      "0s - loss: 7.1731 - val_loss: 63.7189\n",
      "Epoch 21/5000\n",
      "0s - loss: 7.1421 - val_loss: 62.8445\n",
      "Epoch 22/5000\n",
      "0s - loss: 7.1311 - val_loss: 64.2256\n",
      "Epoch 23/5000\n",
      "0s - loss: 7.1592 - val_loss: 63.4262\n",
      "Epoch 24/5000\n",
      "0s - loss: 7.1684 - val_loss: 63.3440\n",
      "Epoch 25/5000\n",
      "0s - loss: 7.1257 - val_loss: 62.9395\n",
      "Epoch 26/5000\n",
      "0s - loss: 7.1665 - val_loss: 63.7107\n",
      "Epoch 27/5000\n",
      "0s - loss: 7.2009 - val_loss: 63.5948\n",
      "Epoch 28/5000\n",
      "0s - loss: 7.1734 - val_loss: 63.2689\n",
      "Epoch 29/5000\n",
      "0s - loss: 7.1997 - val_loss: 63.3134\n",
      "Epoch 30/5000\n",
      "0s - loss: 7.1824 - val_loss: 63.4316\n",
      "Epoch 31/5000\n",
      "0s - loss: 7.1559 - val_loss: 63.0163\n",
      "Epoch 32/5000\n",
      "0s - loss: 7.2199 - val_loss: 63.3279\n",
      "Epoch 33/5000\n",
      "0s - loss: 7.1958 - val_loss: 63.4301\n",
      "Epoch 34/5000\n",
      "0s - loss: 7.1732 - val_loss: 63.2633\n",
      "Epoch 35/5000\n",
      "0s - loss: 7.1569 - val_loss: 63.4777\n",
      "Epoch 36/5000\n",
      "0s - loss: 7.1359 - val_loss: 63.5510\n",
      "Epoch 37/5000\n",
      "0s - loss: 7.1953 - val_loss: 63.7322\n",
      "Epoch 38/5000\n",
      "0s - loss: 7.1771 - val_loss: 63.6133\n",
      "Epoch 39/5000\n",
      "0s - loss: 7.1326 - val_loss: 63.3644\n",
      "Epoch 40/5000\n",
      "0s - loss: 7.2012 - val_loss: 63.6704\n",
      "Epoch 41/5000\n",
      "0s - loss: 7.1545 - val_loss: 63.1678\n",
      "Epoch 42/5000\n",
      "0s - loss: 7.1505 - val_loss: 63.0226\n"
     ]
    }
   ],
   "source": [
    "history = infer_model.fit([cpu_train,ram_train],y_train,nb_epoch=5000,batch_size=64,verbose=2,validation_split=0.1,\n",
    "                callbacks=[earlyStop])"
   ]
  },
  {
   "cell_type": "code",
   "execution_count": 65,
   "metadata": {
    "collapsed": false
   },
   "outputs": [
    {
     "name": "stdout",
     "output_type": "stream",
     "text": [
      "Using matplotlib backend: Qt4Agg\n"
     ]
    },
    {
     "data": {
      "text/plain": [
       "<matplotlib.axes._subplots.AxesSubplot at 0x7f1ac5ef13d0>"
      ]
     },
     "execution_count": 65,
     "metadata": {},
     "output_type": "execute_result"
    }
   ],
   "source": [
    "log = history.history\n",
    "df = pd.DataFrame.from_dict(log)\n",
    "%matplotlib\n",
    "df.plot(kind='line')"
   ]
  },
  {
   "cell_type": "code",
   "execution_count": 66,
   "metadata": {
    "collapsed": false
   },
   "outputs": [
    {
     "name": "stdout",
     "output_type": "stream",
     "text": [
      "0.955596659243\n",
      "0.21644766147\n"
     ]
    }
   ],
   "source": [
    "y_pred = np.round(abs(infer_model.predict([cpu_test,ram_test])))\n",
    "y_cpu = dataset_holder[0].inverse_transform(abs(y_pred[:,0]))\n",
    "y_ram = dataset_holder[1].inverse_transform(abs(y_pred[:,1]))\n",
    "score_mae_CPU = mean_absolute_error(y_cpu, trainee_holder['cpu_rate']['y_test'])\n",
    "print score_mae_CPU\n",
    "score_mae_RAM = mean_absolute_error(y_ram, trainee_holder['mem_usage']['y_test'])\n",
    "print score_mae_RAM"
   ]
  },
  {
   "cell_type": "code",
   "execution_count": 67,
   "metadata": {
    "collapsed": false
   },
   "outputs": [
    {
     "name": "stdout",
     "output_type": "stream",
     "text": [
      "Using matplotlib backend: Qt4Agg\n"
     ]
    },
    {
     "name": "stderr",
     "output_type": "stream",
     "text": [
      "/usr/local/lib/python2.7/dist-packages/matplotlib/cbook.py:137: MatplotlibDeprecationWarning: The set_color_cycle attribute was deprecated in version 1.5. Use set_prop_cycle instead.\n",
      "  warnings.warn(message, mplDeprecation, stacklevel=1)\n"
     ]
    },
    {
     "data": {
      "text/plain": [
       "<matplotlib.axes._subplots.AxesSubplot at 0x7f1af8fed4d0>"
      ]
     },
     "execution_count": 67,
     "metadata": {},
     "output_type": "execute_result"
    }
   ],
   "source": [
    "%matplotlib\n",
    "# plot_figure_with_label(y_pred=y_cpu[100:200], y_test=trainee_holder['cpu_rate']['y_test'][100:200], \n",
    "#                        title='Fuzzy GABPNN Multi Dimension (Sliding Window Size = 3)', metric='CPU Utilization (%)')\n",
    "plot_figure_with_label(y_pred=y_ram[100:200], y_test=trainee_holder['mem_usage']['y_test'][100:200], \n",
    "                       title='Fuzzy GABPNN Multi Dimension (Sliding Window Size = 3)', metric='Memory Usage (%)')"
   ]
  },
  {
   "cell_type": "code",
   "execution_count": null,
   "metadata": {
    "collapsed": true
   },
   "outputs": [],
   "source": []
  },
  {
   "cell_type": "code",
   "execution_count": null,
   "metadata": {
    "collapsed": true
   },
   "outputs": [],
   "source": []
  },
  {
   "cell_type": "code",
   "execution_count": null,
   "metadata": {
    "collapsed": true
   },
   "outputs": [],
   "source": []
  },
  {
   "cell_type": "code",
   "execution_count": null,
   "metadata": {
    "collapsed": true
   },
   "outputs": [],
   "source": []
  },
  {
   "cell_type": "code",
   "execution_count": null,
   "metadata": {
    "collapsed": true
   },
   "outputs": [],
   "source": []
  },
  {
   "cell_type": "code",
   "execution_count": null,
   "metadata": {
    "collapsed": true
   },
   "outputs": [],
   "source": []
  }
 ],
 "metadata": {
  "kernelspec": {
   "display_name": "Python 2",
   "language": "python",
   "name": "python2"
  },
  "language_info": {
   "codemirror_mode": {
    "name": "ipython",
    "version": 2
   },
   "file_extension": ".py",
   "mimetype": "text/x-python",
   "name": "python",
   "nbconvert_exporter": "python",
   "pygments_lexer": "ipython2",
   "version": "2.7.12"
  }
 },
 "nbformat": 4,
 "nbformat_minor": 0
}
