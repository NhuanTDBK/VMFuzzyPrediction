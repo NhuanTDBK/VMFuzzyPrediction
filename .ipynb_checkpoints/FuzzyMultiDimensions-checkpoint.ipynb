{
 "cells": [
  {
   "cell_type": "code",
   "execution_count": 1,
   "metadata": {
    "collapsed": false
   },
   "outputs": [
    {
     "name": "stderr",
     "output_type": "stream",
     "text": [
      "Mapped name None to device cuda: GeForce GT 630M\n",
      "Using cuDNN version 5103 on context None\n"
     ]
    }
   ],
   "source": [
    "import pandas as pd\n",
    "import numpy as np\n",
    "from sklearn.preprocessing import MinMaxScaler\n",
    "import math\n",
    "from estimators.NeuralFlow import *\n",
    "from utils.SlidingWindowUtil import SlidingWindow\n",
    "\n",
    "from sklearn import datasets, metrics\n",
    "from sklearn.metrics import mean_absolute_error, mean_squared_error\n",
    "from utils.GraphUtil import *\n",
    "from estimators.GAEstimator import GAEstimator\n",
    "from estimators.OptimizerNNEstimator import OptimizerNNEstimator\n",
    "from io_utils.NumLoad import *\n",
    "from sklearn.cross_validation import train_test_split\n",
    "from estimators.FuzzyFlow import FuzzyFlow\n",
    "from utils.TrainingTestMaker import TrainingTestMaker\n",
    "from scaling.ProactiveSLA import ProactiveSLA"
   ]
  },
  {
   "cell_type": "markdown",
   "metadata": {},
   "source": [
    "# Import Data"
   ]
  },
  {
   "cell_type": "code",
   "execution_count": 2,
   "metadata": {
    "collapsed": false
   },
   "outputs": [],
   "source": [
    "dataset_holder = []\n",
    "trainee_holder = {}\n",
    "metrics = [\"cpu_rate\",\"mem_usage\"]\n",
    "arr_desk = ['X_train','y_train','X_test']\n",
    "sliding_number = 3\n",
    "data = pd.read_csv('sampling_617685_metric_10min_datetime.csv',parse_dates=True,index_col=0)[:3000]\n",
    "for metric in metrics:\n",
    "    dat = pd.Series(data[metric].round(3))\n",
    "    fuzzy_engine = FuzzyFlow()\n",
    "    data_maker = TrainingTestMaker()\n",
    "    fuzzy_engine.fit_transform(dat)\n",
    "    sliding = np.array(list(SlidingWindow(fuzzy_engine.u_class_transform, sliding_number)))\n",
    "    X_train, y_train, X_test, y_test = data_maker.make_fuzzy_test(sliding, fuzzy_engine.u_class_transform, dat)\n",
    "    dataset_holder.append(fuzzy_engine)\n",
    "#     if(metric==\"cpu_rate\"):\n",
    "    trainee_holder[metric]={\n",
    "        'X_train':X_train,\n",
    "        \"y_train\":y_train,\n",
    "        \"X_test\":X_test,\n",
    "        \"y_test\":y_test\n",
    "    }\n",
    "#     else:\n",
    "#         trainee_holder[metric]={\n",
    "#             'X_train':np.array(X_train)*100+1,\n",
    "#             \"y_train\":np.array(y_train)*100+1,\n",
    "#             \"X_test\":np.array(X_test)*100+1,\n",
    "#             \"y_test\":np.array(y_test)\n",
    "#         }"
   ]
  },
  {
   "cell_type": "code",
   "execution_count": 3,
   "metadata": {
    "collapsed": false
   },
   "outputs": [],
   "source": [
    "# X_train = zip(trainee_holder['cpu_rate']['X_train'],trainee_holder['mem_usage']['X_train'])\n",
    "y_train = np.asarray(zip(trainee_holder['cpu_rate']['y_train'],trainee_holder['mem_usage']['y_train']))\n",
    "# X_test = zip(trainee_holder['cpu_rate']['X_test'],trainee_holder['mem_usage']['X_test'])\n",
    "X_train = []\n",
    "X_test = []\n",
    "# y_train = []\n",
    "for i in np.arange(len(trainee_holder['cpu_rate']['X_train'])):\n",
    "    tmp = zip(trainee_holder['cpu_rate']['X_train'][i],trainee_holder['mem_usage']['X_train'][i])\n",
    "    X_train.append(np.ravel(tmp))\n",
    "for i in np.arange(len(trainee_holder['cpu_rate']['X_test'])):\n",
    "    tmp = zip(trainee_holder['cpu_rate']['X_test'][i],trainee_holder['mem_usage']['X_test'][i])\n",
    "    X_test.append(np.ravel(tmp))\n",
    "X_train = np.array(X_train)\n",
    "X_test = np.array(X_test)\n",
    "#     y_train.append(np.ravel(zip(trainee_holder['cpu_rate']['y_train'][i],trainee_holder['mem_usage']['y_train'][i])))"
   ]
  },
  {
   "cell_type": "code",
   "execution_count": 4,
   "metadata": {
    "collapsed": false
   },
   "outputs": [],
   "source": [
    "# classifier = NeuralFlowRegressor(hidden_nodes=[8],steps=3000,learning_rate=1E-04, cv=True)\n",
    "# a = classifier.fit(X_train,y_train)"
   ]
  },
  {
   "cell_type": "code",
   "execution_count": 17,
   "metadata": {
    "collapsed": false
   },
   "outputs": [
    {
     "name": "stdout",
     "output_type": "stream",
     "text": [
      "0.835678062361\n",
      "0.107985746102\n"
     ]
    }
   ],
   "source": [
    "y_pred = np.round(abs(classifier.predict(X_test)))\n",
    "y_cpu = dataset_holder[0].inverse_transform(abs(y_pred[:,0]))\n",
    "y_ram = dataset_holder[1].inverse_transform(abs(y_pred[:,1]))\n",
    "score_mae_CPU = mean_absolute_error(y_cpu, trainee_holder['cpu_rate']['y_test'])\n",
    "print score_mae_CPU\n",
    "score_mae_RAM = mean_absolute_error(y_ram, trainee_holder['mem_usage']['y_test'])\n",
    "print score_mae_RAM"
   ]
  },
  {
   "cell_type": "code",
   "execution_count": 33,
   "metadata": {
    "collapsed": false
   },
   "outputs": [
    {
     "name": "stdout",
     "output_type": "stream",
     "text": [
      "Using matplotlib backend: Qt4Agg\n"
     ]
    },
    {
     "data": {
      "text/plain": [
       "<matplotlib.axes._subplots.AxesSubplot at 0x7faea2faebd0>"
      ]
     },
     "execution_count": 33,
     "metadata": {},
     "output_type": "execute_result"
    }
   ],
   "source": [
    "%matplotlib\n",
    "# plot_figure_with_label(y_pred=y_cpu[100:200], y_test=trainee_holder['cpu_rate']['y_test'][100:200], \n",
    "#                        title='Fuzzy BPNN Multi Dimension (Sliding Window Size = 3)', metric='CPU Utilization (%)')\n",
    "plot_figure_with_label(y_pred=y_ram[100:200], y_test=trainee_holder['mem_usage']['y_test'][100:200], \n",
    "                       title='Fuzzy BPNN Multi Dimension (Sliding Window Size = 3)', metric='Memory Usage (%)')"
   ]
  },
  {
   "cell_type": "code",
   "execution_count": 17,
   "metadata": {
    "collapsed": false
   },
   "outputs": [],
   "source": [
    "np.savez('model_saved/CPU_BPNNM_%s_%s' % (sliding_number, score_mae_CPU), y_pred=y_cpu, \n",
    "         y_true=trainee_holder['cpu_rate']['y_test'])\n",
    "np.savez('model_saved/RAM_BPNNM_%s_%s' % (sliding_number, score_mae_RAM), \n",
    "         y_pred=y_ram, y_test=trainee_holder['mem_usage']['y_test'])"
   ]
  },
  {
   "cell_type": "markdown",
   "metadata": {},
   "source": [
    "# Fuzzy GABPNN"
   ]
  },
  {
   "cell_type": "code",
   "execution_count": 5,
   "metadata": {
    "collapsed": false
   },
   "outputs": [],
   "source": [
    "n_hidden = 7\n",
    "fit_params = {\n",
    "    'neural_shape': [len(X_train[0]), n_hidden, 2]\n",
    "}\n",
    "ga_estimator = GAEstimator(cross_rate=0.5, mutation_rate=0.02, gen_size=100, pop_size=30)\n",
    "nn = NeuralFlowRegressor(hidden_nodes=[n_hidden], optimize='Adam',activation='sigmoid'\n",
    "                         , steps=7000, learning_rate=1E-02)\n",
    "classifier = OptimizerNNEstimator(ga_estimator, nn)\n",
    "classifier.fit(X_train,y_train, **fit_params)"
   ]
  },
  {
   "cell_type": "code",
   "execution_count": 20,
   "metadata": {
    "collapsed": false
   },
   "outputs": [
    {
     "name": "stdout",
     "output_type": "stream",
     "text": [
      "0.785109242762\n",
      "0.11264298441\n"
     ]
    }
   ],
   "source": [
    "y_pred = np.round(abs(classifier.predict(X_test)))\n",
    "y_cpu = dataset_holder[0].inverse_transform(abs(y_pred[:,0]))\n",
    "y_ram = dataset_holder[1].inverse_transform(abs(y_pred[:,1]))\n",
    "score_mae_CPU = mean_absolute_error(y_cpu, trainee_holder['cpu_rate']['y_test'])\n",
    "print score_mae_CPU\n",
    "score_mae_RAM = mean_absolute_error(y_ram, trainee_holder['mem_usage']['y_test'])\n",
    "print score_mae_RAM"
   ]
  },
  {
   "cell_type": "code",
   "execution_count": 27,
   "metadata": {
    "collapsed": false
   },
   "outputs": [
    {
     "name": "stdout",
     "output_type": "stream",
     "text": [
      "Using matplotlib backend: Qt4Agg\n"
     ]
    },
    {
     "data": {
      "text/plain": [
       "<matplotlib.axes._subplots.AxesSubplot at 0x7faea01a5450>"
      ]
     },
     "execution_count": 27,
     "metadata": {},
     "output_type": "execute_result"
    }
   ],
   "source": [
    "%matplotlib\n",
    "# plot_figure_with_label(y_pred=y_cpu[100:200], y_test=trainee_holder['cpu_rate']['y_test'][100:200], \n",
    "#                        title='Fuzzy GABPNN Multi Dimension (Sliding Window Size = 3)', metric='CPU Utilization (%)')\n",
    "plot_figure_with_label(y_pred=y_ram[100:200], y_test=trainee_holder['mem_usage']['y_test'][100:200], \n",
    "                       title='Fuzzy GABPNN Multi Dimension (Sliding Window Size = 3)', metric='Memory Usage (%)')"
   ]
  },
  {
   "cell_type": "code",
   "execution_count": 21,
   "metadata": {
    "collapsed": false
   },
   "outputs": [],
   "source": [
    "np.savez('model_saved/CPU_FGABPNNM_%s_%s' % (sliding_number, score_mae_CPU), y_pred=y_cpu, \n",
    "         y_true=trainee_holder['cpu_rate']['y_test'])\n",
    "np.savez('model_saved/RAM_FGABPNNM_%s_%s' % (sliding_number, score_mae_RAM), \n",
    "         y_pred=y_ram, y_test=trainee_holder['mem_usage']['y_test'])"
   ]
  },
  {
   "cell_type": "markdown",
   "metadata": {},
   "source": [
    "# Keras Multilayers"
   ]
  },
  {
   "cell_type": "code",
   "execution_count": 4,
   "metadata": {
    "collapsed": false
   },
   "outputs": [
    {
     "name": "stderr",
     "output_type": "stream",
     "text": [
      "Using Theano backend.\n"
     ]
    }
   ],
   "source": [
    "from keras.models import Model, Sequential\n",
    "from keras.layers import Input, Dense, Dropout, Merge\n",
    "from keras.utils.visualize_util import plot\n",
    "from keras.callbacks import EarlyStopping\n",
    "from IPython.display import SVG\n",
    "from keras.utils.visualize_util import model_to_dot"
   ]
  },
  {
   "cell_type": "code",
   "execution_count": 5,
   "metadata": {
    "collapsed": false
   },
   "outputs": [],
   "source": [
    "cpu_train = X_train[:,:3]\n",
    "ram_train = X_train[:,3:]\n",
    "cpu_test = X_test[:,:3]\n",
    "ram_test = X_test[:,3:]"
   ]
  },
  {
   "cell_type": "code",
   "execution_count": 6,
   "metadata": {
    "collapsed": false
   },
   "outputs": [],
   "source": [
    "cpu_target = trainee_holder['cpu_rate']['y_test']\n",
    "ram_target = trainee_holder['mem_usage']['y_test']"
   ]
  },
  {
   "cell_type": "code",
   "execution_count": 28,
   "metadata": {
    "collapsed": false
   },
   "outputs": [],
   "source": [
    "model_cpu = Sequential([Dense(6, input_dim=cpu_train.shape[1],activation='relu')])\n",
    "model_ram = Sequential([Dense(6, input_dim=ram_train.shape[1],activation='relu')])"
   ]
  },
  {
   "cell_type": "code",
   "execution_count": 39,
   "metadata": {
    "collapsed": false
   },
   "outputs": [],
   "source": [
    "merged_model = Sequential()\n",
    "merged_model.add(Merge([model_cpu, model_ram], mode='ave', concat_axis=1))\n",
    "infer_model = Sequential([\n",
    "        merged_model,\n",
    "        Dense(1024, activation='relu'),\n",
    "        Dropout(0.5),\n",
    "        Dense(512,activation='relu'),\n",
    "        Dense(256,activation='relu'),\n",
    "        Dense(64,activation='relu'),\n",
    "        Dense(32,activation='relu'),\n",
    "        Dense(output_dim=2,activation='relu')\n",
    "    ])"
   ]
  },
  {
   "cell_type": "code",
   "execution_count": 40,
   "metadata": {
    "collapsed": false
   },
   "outputs": [
    {
     "data": {
      "image/svg+xml": [
       "<svg height=\"556pt\" viewBox=\"0.00 0.00 348.00 556.00\" width=\"348pt\" xmlns=\"http://www.w3.org/2000/svg\" xmlns:xlink=\"http://www.w3.org/1999/xlink\">\n",
       "<g class=\"graph\" id=\"graph0\" transform=\"scale(1 1) rotate(0) translate(4 552)\">\n",
       "<title>G</title>\n",
       "<polygon fill=\"white\" points=\"-4,4 -4,-552 344,-552 344,4 -4,4\" stroke=\"none\"/>\n",
       "<!-- 139753822880464 -->\n",
       "<g class=\"node\" id=\"node1\"><title>139753822880464</title>\n",
       "<polygon fill=\"none\" points=\"0,-511.5 0,-547.5 161,-547.5 161,-511.5 0,-511.5\" stroke=\"black\"/>\n",
       "<text font-family=\"Times,serif\" font-size=\"14.00\" text-anchor=\"middle\" x=\"80.5\" y=\"-525.8\">sequential_14 (Sequential)</text>\n",
       "</g>\n",
       "<!-- 139752934594128 -->\n",
       "<g class=\"node\" id=\"node3\"><title>139752934594128</title>\n",
       "<polygon fill=\"none\" points=\"113,-438.5 113,-474.5 226,-474.5 226,-438.5 113,-438.5\" stroke=\"black\"/>\n",
       "<text font-family=\"Times,serif\" font-size=\"14.00\" text-anchor=\"middle\" x=\"169.5\" y=\"-452.8\">merge_8 (Merge)</text>\n",
       "</g>\n",
       "<!-- 139753822880464&#45;&gt;139752934594128 -->\n",
       "<g class=\"edge\" id=\"edge1\"><title>139753822880464-&gt;139752934594128</title>\n",
       "<path d=\"M102.044,-511.313C113.523,-502.156 127.808,-490.76 140.273,-480.816\" fill=\"none\" stroke=\"black\"/>\n",
       "<polygon fill=\"black\" points=\"142.519,-483.501 148.154,-474.529 138.154,-478.029 142.519,-483.501\" stroke=\"black\"/>\n",
       "</g>\n",
       "<!-- 139752967350288 -->\n",
       "<g class=\"node\" id=\"node2\"><title>139752967350288</title>\n",
       "<polygon fill=\"none\" points=\"179,-511.5 179,-547.5 340,-547.5 340,-511.5 179,-511.5\" stroke=\"black\"/>\n",
       "<text font-family=\"Times,serif\" font-size=\"14.00\" text-anchor=\"middle\" x=\"259.5\" y=\"-525.8\">sequential_15 (Sequential)</text>\n",
       "</g>\n",
       "<!-- 139752967350288&#45;&gt;139752934594128 -->\n",
       "<g class=\"edge\" id=\"edge2\"><title>139752967350288-&gt;139752934594128</title>\n",
       "<path d=\"M237.714,-511.313C226.106,-502.156 211.661,-490.76 199.055,-480.816\" fill=\"none\" stroke=\"black\"/>\n",
       "<polygon fill=\"black\" points=\"201.105,-477.975 191.086,-474.529 196.769,-483.47 201.105,-477.975\" stroke=\"black\"/>\n",
       "</g>\n",
       "<!-- 139752934594064 -->\n",
       "<g class=\"node\" id=\"node4\"><title>139752934594064</title>\n",
       "<polygon fill=\"none\" points=\"112.5,-365.5 112.5,-401.5 226.5,-401.5 226.5,-365.5 112.5,-365.5\" stroke=\"black\"/>\n",
       "<text font-family=\"Times,serif\" font-size=\"14.00\" text-anchor=\"middle\" x=\"169.5\" y=\"-379.8\">dense_27 (Dense)</text>\n",
       "</g>\n",
       "<!-- 139752934594128&#45;&gt;139752934594064 -->\n",
       "<g class=\"edge\" id=\"edge3\"><title>139752934594128-&gt;139752934594064</title>\n",
       "<path d=\"M169.5,-438.313C169.5,-430.289 169.5,-420.547 169.5,-411.569\" fill=\"none\" stroke=\"black\"/>\n",
       "<polygon fill=\"black\" points=\"173,-411.529 169.5,-401.529 166,-411.529 173,-411.529\" stroke=\"black\"/>\n",
       "</g>\n",
       "<!-- 139752934479568 -->\n",
       "<g class=\"node\" id=\"node5\"><title>139752934479568</title>\n",
       "<polygon fill=\"none\" points=\"104.5,-292.5 104.5,-328.5 234.5,-328.5 234.5,-292.5 104.5,-292.5\" stroke=\"black\"/>\n",
       "<text font-family=\"Times,serif\" font-size=\"14.00\" text-anchor=\"middle\" x=\"169.5\" y=\"-306.8\">dropout_7 (Dropout)</text>\n",
       "</g>\n",
       "<!-- 139752934594064&#45;&gt;139752934479568 -->\n",
       "<g class=\"edge\" id=\"edge4\"><title>139752934594064-&gt;139752934479568</title>\n",
       "<path d=\"M169.5,-365.313C169.5,-357.289 169.5,-347.547 169.5,-338.569\" fill=\"none\" stroke=\"black\"/>\n",
       "<polygon fill=\"black\" points=\"173,-338.529 169.5,-328.529 166,-338.529 173,-338.529\" stroke=\"black\"/>\n",
       "</g>\n",
       "<!-- 139752934478480 -->\n",
       "<g class=\"node\" id=\"node6\"><title>139752934478480</title>\n",
       "<polygon fill=\"none\" points=\"112.5,-219.5 112.5,-255.5 226.5,-255.5 226.5,-219.5 112.5,-219.5\" stroke=\"black\"/>\n",
       "<text font-family=\"Times,serif\" font-size=\"14.00\" text-anchor=\"middle\" x=\"169.5\" y=\"-233.8\">dense_28 (Dense)</text>\n",
       "</g>\n",
       "<!-- 139752934479568&#45;&gt;139752934478480 -->\n",
       "<g class=\"edge\" id=\"edge5\"><title>139752934479568-&gt;139752934478480</title>\n",
       "<path d=\"M169.5,-292.313C169.5,-284.289 169.5,-274.547 169.5,-265.569\" fill=\"none\" stroke=\"black\"/>\n",
       "<polygon fill=\"black\" points=\"173,-265.529 169.5,-255.529 166,-265.529 173,-265.529\" stroke=\"black\"/>\n",
       "</g>\n",
       "<!-- 139752934478288 -->\n",
       "<g class=\"node\" id=\"node7\"><title>139752934478288</title>\n",
       "<polygon fill=\"none\" points=\"112.5,-146.5 112.5,-182.5 226.5,-182.5 226.5,-146.5 112.5,-146.5\" stroke=\"black\"/>\n",
       "<text font-family=\"Times,serif\" font-size=\"14.00\" text-anchor=\"middle\" x=\"169.5\" y=\"-160.8\">dense_29 (Dense)</text>\n",
       "</g>\n",
       "<!-- 139752934478480&#45;&gt;139752934478288 -->\n",
       "<g class=\"edge\" id=\"edge6\"><title>139752934478480-&gt;139752934478288</title>\n",
       "<path d=\"M169.5,-219.313C169.5,-211.289 169.5,-201.547 169.5,-192.569\" fill=\"none\" stroke=\"black\"/>\n",
       "<polygon fill=\"black\" points=\"173,-192.529 169.5,-182.529 166,-192.529 173,-192.529\" stroke=\"black\"/>\n",
       "</g>\n",
       "<!-- 139752934479632 -->\n",
       "<g class=\"node\" id=\"node8\"><title>139752934479632</title>\n",
       "<polygon fill=\"none\" points=\"112.5,-73.5 112.5,-109.5 226.5,-109.5 226.5,-73.5 112.5,-73.5\" stroke=\"black\"/>\n",
       "<text font-family=\"Times,serif\" font-size=\"14.00\" text-anchor=\"middle\" x=\"169.5\" y=\"-87.8\">dense_30 (Dense)</text>\n",
       "</g>\n",
       "<!-- 139752934478288&#45;&gt;139752934479632 -->\n",
       "<g class=\"edge\" id=\"edge7\"><title>139752934478288-&gt;139752934479632</title>\n",
       "<path d=\"M169.5,-146.313C169.5,-138.289 169.5,-128.547 169.5,-119.569\" fill=\"none\" stroke=\"black\"/>\n",
       "<polygon fill=\"black\" points=\"173,-119.529 169.5,-109.529 166,-119.529 173,-119.529\" stroke=\"black\"/>\n",
       "</g>\n",
       "<!-- 139752934479504 -->\n",
       "<g class=\"node\" id=\"node9\"><title>139752934479504</title>\n",
       "<polygon fill=\"none\" points=\"112.5,-0.5 112.5,-36.5 226.5,-36.5 226.5,-0.5 112.5,-0.5\" stroke=\"black\"/>\n",
       "<text font-family=\"Times,serif\" font-size=\"14.00\" text-anchor=\"middle\" x=\"169.5\" y=\"-14.8\">dense_31 (Dense)</text>\n",
       "</g>\n",
       "<!-- 139752934479632&#45;&gt;139752934479504 -->\n",
       "<g class=\"edge\" id=\"edge8\"><title>139752934479632-&gt;139752934479504</title>\n",
       "<path d=\"M169.5,-73.3129C169.5,-65.2895 169.5,-55.5475 169.5,-46.5691\" fill=\"none\" stroke=\"black\"/>\n",
       "<polygon fill=\"black\" points=\"173,-46.5288 169.5,-36.5288 166,-46.5289 173,-46.5288\" stroke=\"black\"/>\n",
       "</g>\n",
       "</g>\n",
       "</svg>"
      ],
      "text/plain": [
       "<IPython.core.display.SVG object>"
      ]
     },
     "execution_count": 40,
     "metadata": {},
     "output_type": "execute_result"
    }
   ],
   "source": [
    "SVG(model_to_dot(infer_model).create(prog='dot', format='svg'))"
   ]
  },
  {
   "cell_type": "code",
   "execution_count": 41,
   "metadata": {
    "collapsed": false
   },
   "outputs": [],
   "source": [
    "infer_model.compile(loss='mean_squared_error',optimizer='adam')\n",
    "earlyStop = EarlyStopping(monitor='val_loss',patience=20)"
   ]
  },
  {
   "cell_type": "code",
   "execution_count": 42,
   "metadata": {
    "collapsed": false
   },
   "outputs": [
    {
     "name": "stdout",
     "output_type": "stream",
     "text": [
      "Train on 1890 samples, validate on 210 samples\n",
      "Epoch 1/5000\n",
      "0s - loss: 10.5624 - val_loss: 78.7710\n",
      "Epoch 2/5000\n",
      "0s - loss: 7.2798 - val_loss: 71.9432\n",
      "Epoch 3/5000\n",
      "0s - loss: 7.2246 - val_loss: 69.5456\n",
      "Epoch 4/5000\n",
      "0s - loss: 7.2002 - val_loss: 71.1524\n",
      "Epoch 5/5000\n",
      "0s - loss: 7.1778 - val_loss: 70.6922\n",
      "Epoch 6/5000\n",
      "0s - loss: 7.1879 - val_loss: 72.0580\n",
      "Epoch 7/5000\n",
      "0s - loss: 7.1787 - val_loss: 67.6079\n",
      "Epoch 8/5000\n",
      "0s - loss: 7.2227 - val_loss: 64.2318\n",
      "Epoch 9/5000\n",
      "0s - loss: 7.1864 - val_loss: 66.7116\n",
      "Epoch 10/5000\n",
      "0s - loss: 7.1790 - val_loss: 66.3128\n",
      "Epoch 11/5000\n",
      "0s - loss: 7.1917 - val_loss: 66.9207\n",
      "Epoch 12/5000\n",
      "0s - loss: 7.1791 - val_loss: 71.5276\n",
      "Epoch 13/5000\n",
      "0s - loss: 7.2200 - val_loss: 72.1435\n",
      "Epoch 14/5000\n",
      "0s - loss: 7.1880 - val_loss: 72.8317\n",
      "Epoch 15/5000\n",
      "0s - loss: 7.1831 - val_loss: 66.6959\n",
      "Epoch 16/5000\n",
      "0s - loss: 7.1768 - val_loss: 66.6534\n",
      "Epoch 17/5000\n",
      "0s - loss: 7.1743 - val_loss: 67.4875\n",
      "Epoch 18/5000\n",
      "0s - loss: 7.2031 - val_loss: 69.8261\n",
      "Epoch 19/5000\n",
      "0s - loss: 7.1882 - val_loss: 69.4836\n",
      "Epoch 20/5000\n",
      "0s - loss: 7.2040 - val_loss: 67.9395\n",
      "Epoch 21/5000\n",
      "0s - loss: 7.1795 - val_loss: 62.9994\n",
      "Epoch 22/5000\n",
      "0s - loss: 7.1952 - val_loss: 65.8268\n",
      "Epoch 23/5000\n",
      "0s - loss: 7.2208 - val_loss: 67.1489\n",
      "Epoch 24/5000\n",
      "0s - loss: 7.1772 - val_loss: 65.5919\n",
      "Epoch 25/5000\n",
      "0s - loss: 7.2022 - val_loss: 62.6146\n",
      "Epoch 26/5000\n",
      "0s - loss: 7.2027 - val_loss: 62.9278\n",
      "Epoch 27/5000\n",
      "0s - loss: 7.2245 - val_loss: 61.1413\n",
      "Epoch 28/5000\n",
      "0s - loss: 7.1868 - val_loss: 64.3599\n",
      "Epoch 29/5000\n",
      "0s - loss: 7.1757 - val_loss: 66.5600\n",
      "Epoch 30/5000\n",
      "0s - loss: 7.2038 - val_loss: 62.6933\n",
      "Epoch 31/5000\n",
      "0s - loss: 7.1871 - val_loss: 64.4942\n",
      "Epoch 32/5000\n",
      "0s - loss: 7.1883 - val_loss: 61.6601\n",
      "Epoch 33/5000\n",
      "0s - loss: 7.1936 - val_loss: 66.3789\n",
      "Epoch 34/5000\n",
      "0s - loss: 7.2418 - val_loss: 61.3144\n",
      "Epoch 35/5000\n",
      "0s - loss: 7.1812 - val_loss: 65.8969\n",
      "Epoch 36/5000\n",
      "0s - loss: 7.2087 - val_loss: 66.6554\n",
      "Epoch 37/5000\n",
      "0s - loss: 7.1877 - val_loss: 63.7968\n",
      "Epoch 38/5000\n",
      "0s - loss: 7.1994 - val_loss: 61.4837\n",
      "Epoch 39/5000\n",
      "0s - loss: 7.2050 - val_loss: 65.5294\n",
      "Epoch 40/5000\n",
      "0s - loss: 7.1879 - val_loss: 64.9341\n",
      "Epoch 41/5000\n",
      "0s - loss: 7.1928 - val_loss: 65.2195\n",
      "Epoch 42/5000\n",
      "0s - loss: 7.1927 - val_loss: 68.3392\n",
      "Epoch 43/5000\n",
      "0s - loss: 7.2492 - val_loss: 61.3445\n",
      "Epoch 44/5000\n",
      "0s - loss: 7.1896 - val_loss: 60.2639\n",
      "Epoch 45/5000\n",
      "0s - loss: 7.2052 - val_loss: 61.1085\n",
      "Epoch 46/5000\n",
      "0s - loss: 7.2150 - val_loss: 59.5855\n",
      "Epoch 47/5000\n",
      "0s - loss: 7.2343 - val_loss: 60.1738\n",
      "Epoch 48/5000\n",
      "0s - loss: 7.1851 - val_loss: 62.6705\n",
      "Epoch 49/5000\n",
      "0s - loss: 7.2041 - val_loss: 60.2555\n",
      "Epoch 50/5000\n",
      "0s - loss: 7.2460 - val_loss: 60.4202\n",
      "Epoch 51/5000\n",
      "0s - loss: 7.1814 - val_loss: 61.0307\n",
      "Epoch 52/5000\n",
      "0s - loss: 7.1829 - val_loss: 61.8360\n",
      "Epoch 53/5000\n",
      "0s - loss: 7.1801 - val_loss: 61.9469\n",
      "Epoch 54/5000\n",
      "0s - loss: 7.1977 - val_loss: 64.2164\n",
      "Epoch 55/5000\n",
      "0s - loss: 7.1958 - val_loss: 60.7097\n",
      "Epoch 56/5000\n",
      "0s - loss: 7.1836 - val_loss: 60.0609\n",
      "Epoch 57/5000\n",
      "0s - loss: 7.1981 - val_loss: 60.7930\n",
      "Epoch 58/5000\n",
      "0s - loss: 7.1766 - val_loss: 63.5713\n",
      "Epoch 59/5000\n",
      "0s - loss: 7.2442 - val_loss: 61.7864\n",
      "Epoch 60/5000\n",
      "0s - loss: 7.2269 - val_loss: 60.1842\n",
      "Epoch 61/5000\n",
      "0s - loss: 7.1836 - val_loss: 60.9423\n",
      "Epoch 62/5000\n",
      "0s - loss: 7.1834 - val_loss: 61.6199\n",
      "Epoch 63/5000\n",
      "0s - loss: 7.2161 - val_loss: 64.9339\n",
      "Epoch 64/5000\n",
      "0s - loss: 7.2102 - val_loss: 62.2825\n",
      "Epoch 65/5000\n",
      "0s - loss: 7.1744 - val_loss: 59.7218\n",
      "Epoch 66/5000\n",
      "0s - loss: 7.2295 - val_loss: 59.6913\n",
      "Epoch 67/5000\n",
      "0s - loss: 7.2132 - val_loss: 59.4845\n",
      "Epoch 68/5000\n",
      "0s - loss: 7.2032 - val_loss: 59.3618\n",
      "Epoch 69/5000\n",
      "0s - loss: 7.2393 - val_loss: 60.0531\n",
      "Epoch 70/5000\n",
      "0s - loss: 7.1801 - val_loss: 60.3064\n",
      "Epoch 71/5000\n",
      "0s - loss: 7.1833 - val_loss: 60.3014\n",
      "Epoch 72/5000\n",
      "0s - loss: 7.2040 - val_loss: 59.4281\n",
      "Epoch 73/5000\n",
      "0s - loss: 7.2322 - val_loss: 59.6115\n",
      "Epoch 74/5000\n",
      "0s - loss: 7.1796 - val_loss: 59.3751\n",
      "Epoch 75/5000\n",
      "0s - loss: 7.1735 - val_loss: 60.7148\n",
      "Epoch 76/5000\n",
      "0s - loss: 7.1800 - val_loss: 61.1294\n",
      "Epoch 77/5000\n",
      "0s - loss: 7.1913 - val_loss: 60.3712\n",
      "Epoch 78/5000\n",
      "0s - loss: 7.1855 - val_loss: 59.3593\n",
      "Epoch 79/5000\n",
      "0s - loss: 7.2216 - val_loss: 59.4805\n",
      "Epoch 80/5000\n",
      "0s - loss: 7.1878 - val_loss: 59.3599\n",
      "Epoch 81/5000\n",
      "0s - loss: 7.1842 - val_loss: 59.9333\n",
      "Epoch 82/5000\n",
      "0s - loss: 7.1814 - val_loss: 61.8674\n",
      "Epoch 83/5000\n",
      "0s - loss: 7.2164 - val_loss: 59.4931\n",
      "Epoch 84/5000\n",
      "0s - loss: 7.1833 - val_loss: 59.9278\n",
      "Epoch 85/5000\n",
      "0s - loss: 7.1773 - val_loss: 60.6548\n",
      "Epoch 86/5000\n",
      "0s - loss: 7.1762 - val_loss: 59.4951\n",
      "Epoch 87/5000\n",
      "0s - loss: 7.1799 - val_loss: 59.3267\n",
      "Epoch 88/5000\n",
      "0s - loss: 7.2397 - val_loss: 59.4062\n",
      "Epoch 89/5000\n",
      "0s - loss: 7.1860 - val_loss: 60.0139\n",
      "Epoch 90/5000\n",
      "0s - loss: 7.1795 - val_loss: 59.6125\n",
      "Epoch 91/5000\n",
      "0s - loss: 7.1764 - val_loss: 59.3067\n",
      "Epoch 92/5000\n",
      "0s - loss: 7.1964 - val_loss: 59.6397\n",
      "Epoch 93/5000\n",
      "0s - loss: 7.2306 - val_loss: 59.9171\n",
      "Epoch 94/5000\n",
      "0s - loss: 7.2095 - val_loss: 59.8471\n",
      "Epoch 95/5000\n",
      "0s - loss: 7.1851 - val_loss: 59.6948\n",
      "Epoch 96/5000\n",
      "0s - loss: 7.1769 - val_loss: 59.3356\n",
      "Epoch 97/5000\n",
      "0s - loss: 7.1838 - val_loss: 59.3238\n",
      "Epoch 98/5000\n",
      "0s - loss: 7.1773 - val_loss: 59.4014\n",
      "Epoch 99/5000\n",
      "0s - loss: 7.2139 - val_loss: 59.9299\n",
      "Epoch 100/5000\n",
      "0s - loss: 7.1898 - val_loss: 59.3960\n",
      "Epoch 101/5000\n",
      "0s - loss: 7.2018 - val_loss: 59.3325\n",
      "Epoch 102/5000\n",
      "0s - loss: 7.1911 - val_loss: 59.4202\n",
      "Epoch 103/5000\n",
      "0s - loss: 7.1862 - val_loss: 60.3088\n",
      "Epoch 104/5000\n",
      "0s - loss: 7.1949 - val_loss: 59.3540\n",
      "Epoch 105/5000\n",
      "0s - loss: 7.1780 - val_loss: 59.3286\n",
      "Epoch 106/5000\n",
      "0s - loss: 7.1763 - val_loss: 59.5688\n",
      "Epoch 107/5000\n",
      "0s - loss: 7.2337 - val_loss: 59.5890\n",
      "Epoch 108/5000\n",
      "0s - loss: 7.2417 - val_loss: 59.4893\n",
      "Epoch 109/5000\n",
      "0s - loss: 7.2284 - val_loss: 59.4665\n",
      "Epoch 110/5000\n",
      "0s - loss: 7.1865 - val_loss: 59.6392\n",
      "Epoch 111/5000\n",
      "0s - loss: 7.1825 - val_loss: 59.4851\n",
      "Epoch 112/5000\n",
      "0s - loss: 7.1778 - val_loss: 59.4015\n"
     ]
    }
   ],
   "source": [
    "history = infer_model.fit([cpu_train,ram_train],y_train,nb_epoch=5000,batch_size=64,verbose=2,validation_split=0.1,\n",
    "                callbacks=[earlyStop])"
   ]
  },
  {
   "cell_type": "code",
   "execution_count": 43,
   "metadata": {
    "collapsed": false
   },
   "outputs": [
    {
     "name": "stdout",
     "output_type": "stream",
     "text": [
      "Using matplotlib backend: Qt4Agg\n"
     ]
    },
    {
     "data": {
      "text/plain": [
       "<matplotlib.axes._subplots.AxesSubplot at 0x7f1ac5ada650>"
      ]
     },
     "execution_count": 43,
     "metadata": {},
     "output_type": "execute_result"
    }
   ],
   "source": [
    "log = history.history\n",
    "df = pd.DataFrame.from_dict(log)\n",
    "%matplotlib\n",
    "df.plot(kind='line')"
   ]
  },
  {
   "cell_type": "code",
   "execution_count": 34,
   "metadata": {
    "collapsed": false
   },
   "outputs": [
    {
     "name": "stdout",
     "output_type": "stream",
     "text": [
      "1.07587839644\n",
      "0.236708908686\n"
     ]
    }
   ],
   "source": [
    "y_pred = np.round(abs(infer_model.predict([cpu_test,ram_test])))\n",
    "y_cpu = dataset_holder[0].inverse_transform(abs(y_pred[:,0]))\n",
    "y_ram = dataset_holder[1].inverse_transform(abs(y_pred[:,1]))\n",
    "score_mae_CPU = mean_absolute_error(y_cpu, trainee_holder['cpu_rate']['y_test'])\n",
    "print score_mae_CPU\n",
    "score_mae_RAM = mean_absolute_error(y_ram, trainee_holder['mem_usage']['y_test'])\n",
    "print score_mae_RAM"
   ]
  },
  {
   "cell_type": "code",
   "execution_count": null,
   "metadata": {
    "collapsed": true
   },
   "outputs": [],
   "source": []
  },
  {
   "cell_type": "code",
   "execution_count": null,
   "metadata": {
    "collapsed": true
   },
   "outputs": [],
   "source": []
  },
  {
   "cell_type": "code",
   "execution_count": null,
   "metadata": {
    "collapsed": true
   },
   "outputs": [],
   "source": []
  },
  {
   "cell_type": "code",
   "execution_count": null,
   "metadata": {
    "collapsed": true
   },
   "outputs": [],
   "source": []
  },
  {
   "cell_type": "code",
   "execution_count": null,
   "metadata": {
    "collapsed": true
   },
   "outputs": [],
   "source": []
  },
  {
   "cell_type": "code",
   "execution_count": null,
   "metadata": {
    "collapsed": true
   },
   "outputs": [],
   "source": []
  }
 ],
 "metadata": {
  "kernelspec": {
   "display_name": "Python 2",
   "language": "python",
   "name": "python2"
  },
  "language_info": {
   "codemirror_mode": {
    "name": "ipython",
    "version": 2
   },
   "file_extension": ".py",
   "mimetype": "text/x-python",
   "name": "python",
   "nbconvert_exporter": "python",
   "pygments_lexer": "ipython2",
   "version": "2.7.12"
  }
 },
 "nbformat": 4,
 "nbformat_minor": 0
}
