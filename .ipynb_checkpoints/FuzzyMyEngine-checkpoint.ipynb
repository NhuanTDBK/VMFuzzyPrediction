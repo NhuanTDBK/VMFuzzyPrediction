{
 "metadata": {
  "name": ""
 },
 "nbformat": 3,
 "nbformat_minor": 0,
 "worksheets": [
  {
   "cells": [
    {
     "cell_type": "code",
     "collapsed": false,
     "input": [
      "from estimators.ACOEstimator import ACOEstimator\n",
      "from estimators.NeuralFlow import NeuralFlowRegressor\n",
      "from estimators.GAEstimator import GAEstimator\n",
      "from estimators.OptimizerNNEstimator import OptimizerNNEstimator\n",
      "from utils.GraphUtil import *\n",
      "from utils.initializer import *\n",
      "from estimators.FuzzyStep import *\n",
      "from estimators.FuzzyFlow import *\n",
      "from utils.SlidingWindowUtil import *\n",
      "from sklearn.preprocessing import MinMaxScaler\n",
      "from sklearn.metrics import mean_absolute_error,mean_squared_error\n",
      "from metrics.mean_absolute_percentage_error import mean_absolute_percentage_error"
     ],
     "language": "python",
     "metadata": {},
     "outputs": [],
     "prompt_number": 4
    },
    {
     "cell_type": "code",
     "collapsed": false,
     "input": [
      "scaler = MinMaxScaler()\n",
      "print 'FACO Model'\n",
      "# dat_usage = pd.read_csv('sample_610_10min.csv')['cpu_rate'][:2400]\n",
      "# dat_usage = pd.read_csv('cpu_usage.csv')['cpu_usage']\n",
      "dat_usage = pd.Series(scaler.fit_transform(pd.read_csv('sample_610_10min.csv')['mem_usage'][:2400]))\n",
      "# define training_set and testing _set\n",
      "training_set_size = 1000\n",
      "testing_set_size = 500\n",
      "\n",
      "\n",
      "######## FUZZY before TRAINING\n",
      "# length of sliding windows for input\n",
      "\n",
      "#define training_set, testing set\n",
      "X_train = np.zeros(training_set_size)\n",
      "for i in range (0,training_set_size):\n",
      "    X_train[i] = dat_usage[i]\n",
      "\n",
      "y_train = np.zeros(training_set_size)\n",
      "for i in range (0,training_set_size):\n",
      "    y_train[i] = dat_usage[i + 1]\n",
      "\n",
      "X_test = np.zeros(testing_set_size)\n",
      "for i in range (0,testing_set_size):\n",
      "    X_test[i] = dat_usage[i + training_set_size]\n",
      "\n",
      "y_test = np.zeros(testing_set_size - 1)\n",
      "for i in range (0,testing_set_size - 1):\n",
      "    y_test[i] = dat_usage[i + training_set_size + 1]\n",
      "\n",
      "# Number of hiddens node (one hidden layer)\n",
      "n_hidden = 300\n",
      "sliding_number = 5"
     ],
     "language": "python",
     "metadata": {},
     "outputs": [
      {
       "output_type": "stream",
       "stream": "stdout",
       "text": [
        "FACO Model\n"
       ]
      },
      {
       "output_type": "stream",
       "stream": "stderr",
       "text": [
        "/usr/local/lib/python2.7/dist-packages/sklearn/preprocessing/data.py:324: DeprecationWarning: Passing 1d arrays as data is deprecated in 0.17 and will raise ValueError in 0.19. Reshape your data either using X.reshape(-1, 1) if your data has a single feature or X.reshape(1, -1) if it contains a single sample.\n",
        "  warnings.warn(DEPRECATION_MSG_1D, DeprecationWarning)\n",
        "/usr/local/lib/python2.7/dist-packages/sklearn/preprocessing/data.py:359: DeprecationWarning: Passing 1d arrays as data is deprecated in 0.17 and will raise ValueError in 0.19. Reshape your data either using X.reshape(-1, 1) if your data has a single feature or X.reshape(1, -1) if it contains a single sample.\n",
        "  warnings.warn(DEPRECATION_MSG_1D, DeprecationWarning)\n"
       ]
      }
     ],
     "prompt_number": 5
    },
    {
     "cell_type": "code",
     "collapsed": false,
     "input": [
      "fuzzyEngine = FuzzyFlow(fuzzy_distance=0.03,fuzzy_set_size=26)\n",
      "X_train_f = np.array(fuzzyEngine.fit_transform(X_train))\n",
      "y_train_f = np.array(fuzzyEngine.fit_transform(y_train))[sliding_number-1:]\n",
      "X_test_f = np.array(fuzzyEngine.fit_transform(X_test))\n",
      "\n",
      "\n",
      "X_train_f = np.array(list(SlidingWindow(X_train_f,sliding_number,concatenate=True)))\n",
      "# y_train_f = np.array(fuzzy(y_train)[n_sliding_window-1:])\n",
      "X_test_f = np.array(list(SlidingWindow(X_test_f,sliding_number,concatenate=True)))\n",
      "# X_train_f, a = fuzzy(X_train,automf=True)\n",
      "# y_train_f,b = fuzzy(y_train,automf=True)\n",
      "# X_test_f,c = fuzzy(X_test,automf=True)\n",
      "neural_shape = [len(X_train_f[0]),n_hidden,len(y_train_f[0])]\n",
      "# Initialize neural network model for regression\n",
      "\n",
      "# <codecell>\n",
      "\n"
     ],
     "language": "python",
     "metadata": {},
     "outputs": [
      {
       "output_type": "stream",
       "stream": "stdout",
       "text": [
        "26\n",
        "26\n",
        "26\n"
       ]
      }
     ],
     "prompt_number": 6
    },
    {
     "cell_type": "code",
     "collapsed": false,
     "input": [
      "# Initialize ACO Estimator\n",
      "estimator = ACOEstimator(Q=0.651,epsilon=0.1,number_of_solutions=100)\n",
      "# estimator = GAEstimator(cross_rate=0.7, mutation_rate=0.01,pop_size=45)\n",
      "# estimator = GAEstimator(cross_rate=0.65,mutation_rate=0.01)\n",
      "fit_param = {'neural_shape':neural_shape}\n",
      "neuralNet = NeuralFlowRegressor(learning_rate=1E-03,verbose=1,steps=3000,activation='sigmoid')\n",
      "\n",
      "# There are many techniques for combining GA with NN. One of this, the optimizer solution of GA will be weights initialized of NN\n",
      "optimizer = OptimizerNNEstimator(estimator,neuralNet)\n",
      "# optimizer = neuralNet\n",
      "optimizer.fit(X_train_f,y_train_f,**fit_param)\n",
      "\n",
      "# <codecell>\n",
      "\n",
      "print  optimizer.score(X_train_f,y_train_f)\n",
      "y_pred = optimizer.predict(X_test_f)\n",
      "# #defuzzy step:\n",
      "ft = abs(defuzzy(X_test[sliding_number-1:],y_pred))\n",
      "#mean_squared_error\n",
      "score_fuzz = mean_squared_error(y_test[sliding_number-1:], ft)\n",
      "score_mae = mean_absolute_error(y_test[sliding_number-1:], ft)\n",
      "# score_mape = mean_absolute_percentage_error(y_pred=ft,y_true=y_test[sliding_number-1:])\n",
      "print \"Score rmse = %s, mae = %s\"%(score_fuzz,score_mae)\n",
      "np.savez('Fuzzy_Time_Series_%s_sliding_%s'%(score_fuzz,sliding_number),y_test=y_test[:190], y_pred=ft[:190])\n",
      "#plot graph\n",
      "#%matplotlib\n",
      "plot_figure(ft[:190],y_test[:190],color=['blue','red'],title='Fuzzy Time Series for RAM usage with sliding window = %s,hidden nodes = %s => rmse = %s'%(sliding_number,n_hidden,score_fuzz))\n",
      "# <codecell>\n"
     ],
     "language": "python",
     "metadata": {},
     "outputs": [],
     "prompt_number": "*"
    }
   ],
   "metadata": {}
  }
 ]
}