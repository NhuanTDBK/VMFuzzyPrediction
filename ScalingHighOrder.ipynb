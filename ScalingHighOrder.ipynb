{
 "metadata": {
  "name": ""
 },
 "nbformat": 3,
 "nbformat_minor": 0,
 "worksheets": [
  {
   "cells": [
    {
     "cell_type": "code",
     "collapsed": false,
     "input": [
      "from scaling.ProactiveSLA import ProactiveSLA\n",
      "from utils.load_result import *\n",
      "from utils.GraphUtil import *\n",
      "import matplotlib.pyplot as plt\n",
      "import numpy as np\n",
      "from scaling.ProactiveManager import ProactiveManager\n",
      "from scaling.OnDemandManager import OnDemandManager\n",
      "import pandas as pd\n",
      "from metrics.AutoScalingIndex import ADI"
     ],
     "language": "python",
     "metadata": {},
     "outputs": [],
     "prompt_number": 1
    },
    {
     "cell_type": "heading",
     "level": 1,
     "metadata": {},
     "source": [
      "High Order"
     ]
    },
    {
     "cell_type": "code",
     "collapsed": false,
     "input": [
      "def sla_violate(cpu, ram, broker):\n",
      "    cpu_pred,cpu_test = load_file(cpu)\n",
      "    ram_pred, ram_test = load_file(ram)\n",
      "    \n",
      "    min_len_pred = min(len(cpu_pred),len(ram_pred))\n",
      "    min_len_test = min(len(cpu_test),len(ram_test))\n",
      "    \n",
      "    cpu_test = cpu_test[:min_len_test]\n",
      "    ram_test = ram_test[:min_len_test]\n",
      "    cpu_pred = cpu_pred[:min_len_pred]\n",
      "    ram_pred = ram_pred[:min_len_pred]\n",
      "    \n",
      "    resource_used = np.array(zip(*(cpu_test[:min_len_test],ram_test[:min_len_test])))\n",
      "    resource_predict = np.array(zip(*(cpu_pred[:min_len_pred],ram_pred[:min_len_pred])))\n",
      "    \n",
      "    number_of_VMs = np.array(broker.allocate_VMs(resource_used=resource_used,resource_predicted=resource_predict))\n",
      "    \n",
      "    cpu_pred_VMs = number_of_VMs * broker.capacity_VM[0]\n",
      "    ram_pred_VMs = number_of_VMs * broker.capacity_VM[1]\n",
      "    \n",
      "    c = np.array((cpu_test>=cpu_pred_VMs))\n",
      "    d = np.array((ram_test>=ram_pred_VMs))\n",
      "    e = np.array([(x or y) for x,y in zip(c,d)])\n",
      "    return float(len(e[e==True])) * 100/ len(e), (cpu_pred_VMs, ram_pred_VMs,number_of_VMs)"
     ],
     "language": "python",
     "metadata": {},
     "outputs": [],
     "prompt_number": 88
    },
    {
     "cell_type": "code",
     "collapsed": false,
     "input": [
      "# broker = ProactiveManager(sla=1, past_consecutive_values=1)\n",
      "# bpnn_mm = sla_violate('model_saved/BPNN_3_0.758963898566.npz', 'model_saved/BPNN_3_0.107712300012.npz',broker)\n",
      "# print \"BPNN SLA = %s\"%bpnn_mm[0]\n",
      "# # for sla = 1.5\n",
      "# print \"GABPNN SLA = %s\"%sla_violate('model_saved/GABPNN_3_0.87939447399.npz','model_saved/GABPNN_3_0.0599617422856.npz',broker)\n",
      "# # for sla = 2.0\n",
      "# print \"GABPNN SLA = %s\"%sla_violate('model_saved/GABPNN_2_0.824053743203.npz','model_saved/GABPNN_2_0.0627260435048.npz',broker)\n",
      "# print \"FBPNN SLA = %s\"%sla_violate('model_saved/fuzzy_BPNN_5_0.912768973214.npz','model_saved/fuzzy_BPNN_5_0.0681936383929.npz',broker)\n",
      "# # # print \"FGABPNN SLA = %s\"%sla_violate('model_saved/fuzzy_GABPNN_3_0.795924721604.npz','model_saved/fuzzy_GABPNN_3_0.0534459910913.npz',broker)\n",
      "# print \"FGABPNN SLA = %s\"%sla_violate('model_saved/fuzzy_GABPNN_3_0.795924721604.npz','model_saved/fuzzy_GABPNN_3_0.0534459910913.npz',broker)"
     ],
     "language": "python",
     "metadata": {},
     "outputs": [],
     "prompt_number": 89
    },
    {
     "cell_type": "code",
     "collapsed": false,
     "input": [
      "broker = ProactiveManager(sla=1.0, past_consecutive_values=1)\n",
      "bpnnm = sla_violate('model_saved/BPNN_2_0.987726177604.npz', 'model_saved/BPNN_2_0.0459108492022.npz',broker)\n",
      "print bpnnm[0]\n",
      "gabpnnm = sla_violate('model_saved/GABPNN_2_0.824053743203.npz','model_saved/GABPNN_2_0.0627260435048.npz',broker)\n",
      "print gabpnnm[0]\n",
      "fbpnnm = sla_violate('model_saved/fuzzy_BPNN_5_0.912768973214.npz','model_saved/fuzzy_BPNN_5_0.0681936383929.npz',broker)\n",
      "print fbpnnm[0]\n",
      "fgabpnnm = sla_violate('model_saved/fuzzy_GABPNN_3_0.763400222717.npz','model_saved/fuzzy_GABPNN_3_0.0598847438753.npz',broker)\n",
      "print fgabpnnm[0]"
     ],
     "language": "python",
     "metadata": {},
     "outputs": [
      {
       "output_type": "stream",
       "stream": "stdout",
       "text": [
        "10.4560622914\n",
        "15.127919911\n",
        "14.7321428571\n",
        "13.5857461024"
       ]
      },
      {
       "output_type": "stream",
       "stream": "stdout",
       "text": [
        "\n"
       ]
      }
     ],
     "prompt_number": 108
    },
    {
     "cell_type": "code",
     "collapsed": false,
     "input": [
      "from glob import glob\n",
      "broker = ProactiveManager(sla=4, past_consecutive_values=10)\n",
      "methods = ['BPNN_*','GABPNN_*','fuzzy_BPNN_*','fuzzy_GABPNN_*']\n",
      "file_folder = []\n",
      "for method in methods:\n",
      "    files = set(glob('model_saved/%s'%method))\n",
      "#     print len(files)\n",
      "    RAM = np.array(glob('model_saved/%s*_0.0*'%method))\n",
      "#     print len(RAM)\n",
      "    CPU = files.difference(RAM)\n",
      "#     print len(CPU)\n",
      "    min_file = min(len(CPU), len(RAM))\n",
      "    CPU = np.array(list(CPU))\n",
      "    RAM = np.array(RAM)\n",
      "    results = []\n",
      "#     for i in range(min_file):\n",
      "    file_folder = zip(np.sort(CPU)[:min_file],np.sort(RAM)[:min_file])\n",
      "    for cpu, ram in file_folder:\n",
      "        results.append(sla_violate(cpu,ram,broker)[0])\n",
      "    print np.average(np.array(results))"
     ],
     "language": "python",
     "metadata": {},
     "outputs": [
      {
       "output_type": "stream",
       "stream": "stdout",
       "text": [
        "0.235950048766\n",
        "0.119993580204"
       ]
      },
      {
       "output_type": "stream",
       "stream": "stdout",
       "text": [
        "\n",
        "0.13605631553"
       ]
      },
      {
       "output_type": "stream",
       "stream": "stdout",
       "text": [
        "\n",
        "0.0710029327557"
       ]
      },
      {
       "output_type": "stream",
       "stream": "stdout",
       "text": [
        "\n"
       ]
      }
     ],
     "prompt_number": 97
    },
    {
     "cell_type": "code",
     "collapsed": false,
     "input": [
      "resource_real_used = pd.read_csv('vms_real_used_by_CPU_RAM.csv',names=['VM_Used'])['VM_Used']\n",
      "eval_scaler = ADI(metric='CPU Utilisation %')\n",
      "time_util = np.array(eval_scaler.calculate_ADI(resource_used=resource_real_used, resource_allocated=bpnnm[1][-1]))\n",
      "print \"ADI BPNNM: %s\"%sum(time_util)\n",
      "\n",
      "\n",
      "eval_scaler = ADI(metric='CPU Utilisation %')\n",
      "time_util = np.array(eval_scaler.calculate_ADI(resource_used=resource_real_used, resource_allocated=gabpnnm[1][-1]))\n",
      "print \"ADI GABPNM: %s\"%sum(time_util)\n",
      "\n",
      "eval_scaler = ADI(metric='CPU Utilisation %')\n",
      "time_util = np.array(eval_scaler.calculate_ADI(resource_used=resource_real_used, resource_allocated=fbpnnm[1][-1]))\n",
      "print \"ADI FBPNM: %s\"%sum(time_util)\n",
      "\n",
      "# fgabpnnm = sla_violate('model_saved/FGABPNNM_3_0.759630623608.npz',broker)\n",
      "eval_scaler = ADI(metric='CPU Utilisation %')\n",
      "time_util = np.array(eval_scaler.calculate_ADI(resource_used=resource_real_used, resource_allocated=fgabpnnm[1][-1]))\n",
      "print \"ADI FGABPNM: %s\"%sum(time_util)"
     ],
     "language": "python",
     "metadata": {},
     "outputs": [
      {
       "output_type": "stream",
       "stream": "stdout",
       "text": [
        "ADI BPNNM: 120.549533446\n",
        "ADI GABPNM: 154.002720771\n",
        "ADI FBPNM: 316.454805446\n",
        "ADI FGABPNM: 183.550353775\n"
       ]
      }
     ],
     "prompt_number": 109
    },
    {
     "cell_type": "code",
     "collapsed": false,
     "input": [
      "range_plot = (130,150)\n",
      "real_used = resource_real_used[range_plot[0]:range_plot[-1]].tolist()\n",
      "%matplotlib\n",
      "ax = plt.subplot()\n",
      "ax.set_xlabel('Time')\n",
      "ax.set_ylabel('Number of VMs')\n",
      "ax.set_title('Scaling VMs by One Dimension Input')\n",
      "bpnn_s = bpnnm[1][-1][range_plot[0]:range_plot[-1]]\n",
      "gabpnn_s = gabpnnm[1][-1][range_plot[0]:range_plot[-1]]\n",
      "fbpnn_s = fbpnnm[1][-1][range_plot[0]:range_plot[-1]]\n",
      "fgabpnn_s = fgabpnnm[1][-1][range_plot[0]:range_plot[-1]]\n",
      "# ax.set_color_cycle(['red','blue','green','cyan','orange'])\n",
      "ax.plot(real_used,label='Real Usage')\n",
      "ax.plot(bpnn_s,'--',label='BPNN')\n",
      "ax.plot(gabpnn_s,'--',label='GABPNN')\n",
      "ax.plot(fbpnn_s,'--',label='Fuzzy BPNN')\n",
      "ax.plot(fgabpnn_s,'--',label='Fuzzy GABPNN')\n",
      "ax.legend(loc='upper right')\n",
      "plt.tight_layout()\n",
      "# plt.b"
     ],
     "language": "python",
     "metadata": {},
     "outputs": [
      {
       "output_type": "stream",
       "stream": "stdout",
       "text": [
        "Using matplotlib backend: Qt4Agg\n"
       ]
      }
     ],
     "prompt_number": 111
    },
    {
     "cell_type": "code",
     "collapsed": false,
     "input": [],
     "language": "python",
     "metadata": {},
     "outputs": []
    }
   ],
   "metadata": {}
  }
 ]
}