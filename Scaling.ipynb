{
 "metadata": {
  "name": ""
 },
 "nbformat": 3,
 "nbformat_minor": 0,
 "worksheets": [
  {
   "cells": [
    {
     "cell_type": "code",
     "collapsed": false,
     "input": [
      "from scaling.ProactiveSLA import ProactiveSLA\n",
      "from utils.load_result import *\n",
      "from utils.GraphUtil import *\n",
      "import matplotlib.pyplot as plt\n",
      "import numpy as np\n",
      "from scaling.ProactiveManager import ProactiveManager\n",
      "import pandas as pd"
     ],
     "language": "python",
     "metadata": {},
     "outputs": [],
     "prompt_number": 1
    },
    {
     "cell_type": "heading",
     "level": 1,
     "metadata": {},
     "source": [
      "BPNN SLA"
     ]
    },
    {
     "cell_type": "code",
     "collapsed": false,
     "input": [
      "def sla_violate(cpu, ram, broker):\n",
      "    cpu_pred,cpu_test = load_file(cpu)\n",
      "    ram_pred, ram_test = load_file(ram)\n",
      "    \n",
      "    resource_used = np.array(zip(*(cpu_test,ram_test)))\n",
      "    resource_predict = np.array(zip(*(cpu_pred,ram_pred)))\n",
      "    \n",
      "    number_of_VMs = np.array(broker.allocate_VMs(resource_used=resource_used,resource_predicted=resource_predict))\n",
      "    \n",
      "    cpu_pred_VMs = number_of_VMs * broker.capacity_VM[0]\n",
      "    ram_pred_VMs = number_of_VMs * broker.capacity_VM[1]\n",
      "    \n",
      "    c = np.array((cpu_test>=cpu_pred_VMs))\n",
      "    d = np.array((ram_test>=ram_pred_VMs))\n",
      "    e = np.array([(x or y) for x,y in zip(c,d)])\n",
      "    return float(len(e[e==True])) * 100/ len(e)"
     ],
     "language": "python",
     "metadata": {},
     "outputs": [],
     "prompt_number": 2
    },
    {
     "cell_type": "code",
     "collapsed": false,
     "input": [
      "broker = ProactiveManager(sla=1.5, past_consecutive_values=10)"
     ],
     "language": "python",
     "metadata": {},
     "outputs": [],
     "prompt_number": 3
    },
    {
     "cell_type": "code",
     "collapsed": false,
     "input": [
      "sla_violate('model_saved/Result_27_6/BPNN_3_0.804953651176.npz', 'model_saved/Result_27_6/,broker)"
     ],
     "language": "python",
     "metadata": {},
     "outputs": [
      {
       "metadata": {},
       "output_type": "pyout",
       "prompt_number": 151,
       "text": [
        "0.89086859688196"
       ]
      }
     ],
     "prompt_number": 151
    },
    {
     "cell_type": "code",
     "collapsed": false,
     "input": [
      "sla_violate('model_saved/Result_27_6/GABPNN_3_0.604029174006.npz','model_saved/GABPNN_3_0.0922306137208.npz',broker)"
     ],
     "language": "python",
     "metadata": {},
     "outputs": [
      {
       "metadata": {},
       "output_type": "pyout",
       "prompt_number": 152,
       "text": [
        "0.22271714922049"
       ]
      }
     ],
     "prompt_number": 152
    },
    {
     "cell_type": "code",
     "collapsed": false,
     "input": [
      "sla_violate('model_saved/Result_27_6/fuzzy_BPNN_3_0.770903224619.npz','model_saved/fuzzy_GA,broker)"
     ],
     "language": "python",
     "metadata": {},
     "outputs": [
      {
       "metadata": {},
       "output_type": "pyout",
       "prompt_number": 153,
       "text": [
        "0.6681514476614699"
       ]
      }
     ],
     "prompt_number": 153
    },
    {
     "cell_type": "code",
     "collapsed": false,
     "input": [
      "sla_violate('model_saved/Result_27_6/fuzzy_GABPNN_3_0.667208655235.npz','model_saved/fuzzy_GAB',broker)"
     ],
     "language": "python",
     "metadata": {},
     "outputs": [
      {
       "metadata": {},
       "output_type": "pyout",
       "prompt_number": 155,
       "text": [
        "0.33407572383073497"
       ]
      }
     ],
     "prompt_number": 155
    },
    {
     "cell_type": "code",
     "collapsed": false,
     "input": [],
     "language": "python",
     "metadata": {},
     "outputs": []
    }
   ],
   "metadata": {}
  }
 ]
}